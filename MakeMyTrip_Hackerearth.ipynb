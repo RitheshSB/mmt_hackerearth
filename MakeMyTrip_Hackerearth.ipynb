{
 "cells": [
  {
   "cell_type": "markdown",
   "metadata": {},
   "source": [
    "# Importing Required Packages"
   ]
  },
  {
   "cell_type": "code",
   "execution_count": 23,
   "metadata": {},
   "outputs": [],
   "source": [
    "import os\n",
    "import pandas as pd\n",
    "import numpy as np\n",
    "import xgboost\n",
    "import sklearn\n",
    "import matplotlib.pyplot as plt"
   ]
  },
  {
   "cell_type": "markdown",
   "metadata": {},
   "source": [
    "# Setting the working directory"
   ]
  },
  {
   "cell_type": "code",
   "execution_count": 2,
   "metadata": {},
   "outputs": [],
   "source": [
    "os.chdir(r'C:\\Users\\Rithesh\\Desktop\\MMT_Hackerearth')"
   ]
  },
  {
   "cell_type": "markdown",
   "metadata": {},
   "source": [
    "# Importing the Train and Test Files"
   ]
  },
  {
   "cell_type": "code",
   "execution_count": 3,
   "metadata": {},
   "outputs": [],
   "source": [
    "train_data = pd.read_csv('train.csv')\n",
    "test_data = pd.read_csv('test.csv')"
   ]
  },
  {
   "cell_type": "code",
   "execution_count": 4,
   "metadata": {},
   "outputs": [
    {
     "data": {
      "text/plain": [
       "552"
      ]
     },
     "execution_count": 4,
     "metadata": {},
     "output_type": "execute_result"
    }
   ],
   "source": [
    "(train_data['id'].reset_index(drop = False)['id'] - train_data['id'].reset_index(drop = False)['index']).sum()"
   ]
  },
  {
   "cell_type": "code",
   "execution_count": 5,
   "metadata": {},
   "outputs": [
    {
     "data": {
      "text/plain": [
       "138"
      ]
     },
     "execution_count": 5,
     "metadata": {},
     "output_type": "execute_result"
    }
   ],
   "source": [
    "(test_data['id'].reset_index(drop = False)['id'] - test_data['id'].reset_index(drop = False)['index'] - 552).sum()"
   ]
  },
  {
   "cell_type": "code",
   "execution_count": 6,
   "metadata": {},
   "outputs": [
    {
     "data": {
      "text/html": [
       "<div>\n",
       "<style scoped>\n",
       "    .dataframe tbody tr th:only-of-type {\n",
       "        vertical-align: middle;\n",
       "    }\n",
       "\n",
       "    .dataframe tbody tr th {\n",
       "        vertical-align: top;\n",
       "    }\n",
       "\n",
       "    .dataframe thead th {\n",
       "        text-align: right;\n",
       "    }\n",
       "</style>\n",
       "<table border=\"1\" class=\"dataframe\">\n",
       "  <thead>\n",
       "    <tr style=\"text-align: right;\">\n",
       "      <th></th>\n",
       "      <th>index</th>\n",
       "      <th>id</th>\n",
       "    </tr>\n",
       "  </thead>\n",
       "  <tbody>\n",
       "    <tr>\n",
       "      <th>0</th>\n",
       "      <td>0</td>\n",
       "      <td>553</td>\n",
       "    </tr>\n",
       "    <tr>\n",
       "      <th>1</th>\n",
       "      <td>1</td>\n",
       "      <td>554</td>\n",
       "    </tr>\n",
       "    <tr>\n",
       "      <th>2</th>\n",
       "      <td>2</td>\n",
       "      <td>555</td>\n",
       "    </tr>\n",
       "    <tr>\n",
       "      <th>3</th>\n",
       "      <td>3</td>\n",
       "      <td>556</td>\n",
       "    </tr>\n",
       "    <tr>\n",
       "      <th>4</th>\n",
       "      <td>4</td>\n",
       "      <td>557</td>\n",
       "    </tr>\n",
       "  </tbody>\n",
       "</table>\n",
       "</div>"
      ],
      "text/plain": [
       "   index   id\n",
       "0      0  553\n",
       "1      1  554\n",
       "2      2  555\n",
       "3      3  556\n",
       "4      4  557"
      ]
     },
     "execution_count": 6,
     "metadata": {},
     "output_type": "execute_result"
    }
   ],
   "source": [
    "test_data['id'].reset_index(drop = False).head()"
   ]
  },
  {
   "cell_type": "markdown",
   "metadata": {},
   "source": [
    "# Data Exploration"
   ]
  },
  {
   "cell_type": "markdown",
   "metadata": {},
   "source": [
    "## Column Types: Continuous, Categorical and Target"
   ]
  },
  {
   "cell_type": "code",
   "execution_count": 7,
   "metadata": {},
   "outputs": [
    {
     "data": {
      "text/plain": [
       "id      int64\n",
       "A      object\n",
       "B     float64\n",
       "C     float64\n",
       "D      object\n",
       "E      object\n",
       "F      object\n",
       "G      object\n",
       "H     float64\n",
       "I      object\n",
       "J      object\n",
       "K       int64\n",
       "L      object\n",
       "M      object\n",
       "N     float64\n",
       "O       int64\n",
       "P       int64\n",
       "dtype: object"
      ]
     },
     "execution_count": 7,
     "metadata": {},
     "output_type": "execute_result"
    }
   ],
   "source": [
    "col_types = train_data.dtypes\n",
    "col_types"
   ]
  },
  {
   "cell_type": "code",
   "execution_count": 8,
   "metadata": {},
   "outputs": [
    {
     "data": {
      "text/plain": [
       "array(['A', 'D', 'E', 'F', 'G', 'I', 'J', 'L', 'M'], dtype=object)"
      ]
     },
     "execution_count": 8,
     "metadata": {},
     "output_type": "execute_result"
    }
   ],
   "source": [
    "categorical_cols = col_types[col_types=='object'].index.values\n",
    "categorical_cols"
   ]
  },
  {
   "cell_type": "code",
   "execution_count": 9,
   "metadata": {},
   "outputs": [
    {
     "data": {
      "text/plain": [
       "array(['B', 'C', 'H', 'K', 'N', 'O'], dtype=object)"
      ]
     },
     "execution_count": 9,
     "metadata": {},
     "output_type": "execute_result"
    }
   ],
   "source": [
    "continuous_cols = col_types[col_types!='object'].index.values\n",
    "continuous_cols = continuous_cols[[i not in ['P','id'] for i in continuous_cols]]\n",
    "continuous_cols"
   ]
  },
  {
   "cell_type": "code",
   "execution_count": 10,
   "metadata": {},
   "outputs": [
    {
     "data": {
      "text/plain": [
       "['P']"
      ]
     },
     "execution_count": 10,
     "metadata": {},
     "output_type": "execute_result"
    }
   ],
   "source": [
    "target_col = ['P']\n",
    "target_col"
   ]
  },
  {
   "cell_type": "markdown",
   "metadata": {},
   "source": [
    "# Column Exploration"
   ]
  },
  {
   "cell_type": "code",
   "execution_count": 11,
   "metadata": {},
   "outputs": [
    {
     "data": {
      "text/html": [
       "<div>\n",
       "<style scoped>\n",
       "    .dataframe tbody tr th:only-of-type {\n",
       "        vertical-align: middle;\n",
       "    }\n",
       "\n",
       "    .dataframe tbody tr th {\n",
       "        vertical-align: top;\n",
       "    }\n",
       "\n",
       "    .dataframe thead th {\n",
       "        text-align: right;\n",
       "    }\n",
       "</style>\n",
       "<table border=\"1\" class=\"dataframe\">\n",
       "  <thead>\n",
       "    <tr style=\"text-align: right;\">\n",
       "      <th></th>\n",
       "      <th>B</th>\n",
       "      <th>C</th>\n",
       "      <th>H</th>\n",
       "      <th>K</th>\n",
       "      <th>N</th>\n",
       "      <th>O</th>\n",
       "    </tr>\n",
       "  </thead>\n",
       "  <tbody>\n",
       "    <tr>\n",
       "      <th>count</th>\n",
       "      <td>543.000000</td>\n",
       "      <td>552.000000</td>\n",
       "      <td>552.000000</td>\n",
       "      <td>552.000000</td>\n",
       "      <td>541.000000</td>\n",
       "      <td>552.000000</td>\n",
       "    </tr>\n",
       "    <tr>\n",
       "      <th>mean</th>\n",
       "      <td>31.364899</td>\n",
       "      <td>4.780136</td>\n",
       "      <td>2.259176</td>\n",
       "      <td>2.318841</td>\n",
       "      <td>175.162662</td>\n",
       "      <td>1087.576087</td>\n",
       "    </tr>\n",
       "    <tr>\n",
       "      <th>std</th>\n",
       "      <td>11.873665</td>\n",
       "      <td>4.938454</td>\n",
       "      <td>3.442564</td>\n",
       "      <td>4.297867</td>\n",
       "      <td>154.873746</td>\n",
       "      <td>5758.841945</td>\n",
       "    </tr>\n",
       "    <tr>\n",
       "      <th>min</th>\n",
       "      <td>13.750000</td>\n",
       "      <td>0.000000</td>\n",
       "      <td>0.000000</td>\n",
       "      <td>0.000000</td>\n",
       "      <td>0.000000</td>\n",
       "      <td>0.000000</td>\n",
       "    </tr>\n",
       "    <tr>\n",
       "      <th>25%</th>\n",
       "      <td>22.500000</td>\n",
       "      <td>1.000000</td>\n",
       "      <td>0.165000</td>\n",
       "      <td>0.000000</td>\n",
       "      <td>60.000000</td>\n",
       "      <td>0.000000</td>\n",
       "    </tr>\n",
       "    <tr>\n",
       "      <th>50%</th>\n",
       "      <td>28.170000</td>\n",
       "      <td>2.750000</td>\n",
       "      <td>1.000000</td>\n",
       "      <td>0.000000</td>\n",
       "      <td>152.000000</td>\n",
       "      <td>3.500000</td>\n",
       "    </tr>\n",
       "    <tr>\n",
       "      <th>75%</th>\n",
       "      <td>37.665000</td>\n",
       "      <td>7.561250</td>\n",
       "      <td>2.750000</td>\n",
       "      <td>3.000000</td>\n",
       "      <td>268.000000</td>\n",
       "      <td>364.750000</td>\n",
       "    </tr>\n",
       "    <tr>\n",
       "      <th>max</th>\n",
       "      <td>80.250000</td>\n",
       "      <td>28.000000</td>\n",
       "      <td>28.500000</td>\n",
       "      <td>40.000000</td>\n",
       "      <td>1160.000000</td>\n",
       "      <td>100000.000000</td>\n",
       "    </tr>\n",
       "  </tbody>\n",
       "</table>\n",
       "</div>"
      ],
      "text/plain": [
       "                B           C           H           K            N  \\\n",
       "count  543.000000  552.000000  552.000000  552.000000   541.000000   \n",
       "mean    31.364899    4.780136    2.259176    2.318841   175.162662   \n",
       "std     11.873665    4.938454    3.442564    4.297867   154.873746   \n",
       "min     13.750000    0.000000    0.000000    0.000000     0.000000   \n",
       "25%     22.500000    1.000000    0.165000    0.000000    60.000000   \n",
       "50%     28.170000    2.750000    1.000000    0.000000   152.000000   \n",
       "75%     37.665000    7.561250    2.750000    3.000000   268.000000   \n",
       "max     80.250000   28.000000   28.500000   40.000000  1160.000000   \n",
       "\n",
       "                   O  \n",
       "count     552.000000  \n",
       "mean     1087.576087  \n",
       "std      5758.841945  \n",
       "min         0.000000  \n",
       "25%         0.000000  \n",
       "50%         3.500000  \n",
       "75%       364.750000  \n",
       "max    100000.000000  "
      ]
     },
     "execution_count": 11,
     "metadata": {},
     "output_type": "execute_result"
    }
   ],
   "source": [
    "train_data[continuous_cols].describe()"
   ]
  },
  {
   "cell_type": "code",
   "execution_count": 12,
   "metadata": {},
   "outputs": [
    {
     "data": {
      "text/html": [
       "<div>\n",
       "<style scoped>\n",
       "    .dataframe tbody tr th:only-of-type {\n",
       "        vertical-align: middle;\n",
       "    }\n",
       "\n",
       "    .dataframe tbody tr th {\n",
       "        vertical-align: top;\n",
       "    }\n",
       "\n",
       "    .dataframe thead th {\n",
       "        text-align: right;\n",
       "    }\n",
       "</style>\n",
       "<table border=\"1\" class=\"dataframe\">\n",
       "  <thead>\n",
       "    <tr style=\"text-align: right;\">\n",
       "      <th></th>\n",
       "      <th>B</th>\n",
       "      <th>C</th>\n",
       "      <th>H</th>\n",
       "      <th>K</th>\n",
       "      <th>N</th>\n",
       "      <th>O</th>\n",
       "    </tr>\n",
       "  </thead>\n",
       "  <tbody>\n",
       "    <tr>\n",
       "      <th>count</th>\n",
       "      <td>135.000000</td>\n",
       "      <td>138.000000</td>\n",
       "      <td>138.000000</td>\n",
       "      <td>138.000000</td>\n",
       "      <td>136.000000</td>\n",
       "      <td>138.000000</td>\n",
       "    </tr>\n",
       "    <tr>\n",
       "      <th>mean</th>\n",
       "      <td>32.385778</td>\n",
       "      <td>4.673080</td>\n",
       "      <td>2.080326</td>\n",
       "      <td>2.724638</td>\n",
       "      <td>219.227941</td>\n",
       "      <td>736.623188</td>\n",
       "    </tr>\n",
       "    <tr>\n",
       "      <th>std</th>\n",
       "      <td>12.301738</td>\n",
       "      <td>5.151458</td>\n",
       "      <td>2.938105</td>\n",
       "      <td>6.671399</td>\n",
       "      <td>231.864295</td>\n",
       "      <td>1742.379027</td>\n",
       "    </tr>\n",
       "    <tr>\n",
       "      <th>min</th>\n",
       "      <td>15.830000</td>\n",
       "      <td>0.000000</td>\n",
       "      <td>0.000000</td>\n",
       "      <td>0.000000</td>\n",
       "      <td>0.000000</td>\n",
       "      <td>0.000000</td>\n",
       "    </tr>\n",
       "    <tr>\n",
       "      <th>25%</th>\n",
       "      <td>24.205000</td>\n",
       "      <td>0.970000</td>\n",
       "      <td>0.125000</td>\n",
       "      <td>0.000000</td>\n",
       "      <td>98.250000</td>\n",
       "      <td>0.000000</td>\n",
       "    </tr>\n",
       "    <tr>\n",
       "      <th>50%</th>\n",
       "      <td>29.500000</td>\n",
       "      <td>2.750000</td>\n",
       "      <td>0.980000</td>\n",
       "      <td>0.000000</td>\n",
       "      <td>171.000000</td>\n",
       "      <td>8.500000</td>\n",
       "    </tr>\n",
       "    <tr>\n",
       "      <th>75%</th>\n",
       "      <td>38.500000</td>\n",
       "      <td>5.781250</td>\n",
       "      <td>2.500000</td>\n",
       "      <td>3.000000</td>\n",
       "      <td>305.000000</td>\n",
       "      <td>500.000000</td>\n",
       "    </tr>\n",
       "    <tr>\n",
       "      <th>max</th>\n",
       "      <td>76.750000</td>\n",
       "      <td>25.085000</td>\n",
       "      <td>13.875000</td>\n",
       "      <td>67.000000</td>\n",
       "      <td>2000.000000</td>\n",
       "      <td>11177.000000</td>\n",
       "    </tr>\n",
       "  </tbody>\n",
       "</table>\n",
       "</div>"
      ],
      "text/plain": [
       "                B           C           H           K            N  \\\n",
       "count  135.000000  138.000000  138.000000  138.000000   136.000000   \n",
       "mean    32.385778    4.673080    2.080326    2.724638   219.227941   \n",
       "std     12.301738    5.151458    2.938105    6.671399   231.864295   \n",
       "min     15.830000    0.000000    0.000000    0.000000     0.000000   \n",
       "25%     24.205000    0.970000    0.125000    0.000000    98.250000   \n",
       "50%     29.500000    2.750000    0.980000    0.000000   171.000000   \n",
       "75%     38.500000    5.781250    2.500000    3.000000   305.000000   \n",
       "max     76.750000   25.085000   13.875000   67.000000  2000.000000   \n",
       "\n",
       "                  O  \n",
       "count    138.000000  \n",
       "mean     736.623188  \n",
       "std     1742.379027  \n",
       "min        0.000000  \n",
       "25%        0.000000  \n",
       "50%        8.500000  \n",
       "75%      500.000000  \n",
       "max    11177.000000  "
      ]
     },
     "execution_count": 12,
     "metadata": {},
     "output_type": "execute_result"
    }
   ],
   "source": [
    "test_data[continuous_cols].describe()"
   ]
  },
  {
   "cell_type": "code",
   "execution_count": 13,
   "metadata": {},
   "outputs": [
    {
     "data": {
      "text/plain": [
       "A     2\n",
       "D     3\n",
       "E     3\n",
       "F    14\n",
       "G     9\n",
       "I     2\n",
       "J     2\n",
       "L     2\n",
       "M     3\n",
       "dtype: int64"
      ]
     },
     "execution_count": 13,
     "metadata": {},
     "output_type": "execute_result"
    }
   ],
   "source": [
    "train_data[categorical_cols].apply(pd.Series.nunique)"
   ]
  },
  {
   "cell_type": "code",
   "execution_count": 14,
   "metadata": {},
   "outputs": [
    {
     "data": {
      "text/plain": [
       "A     2\n",
       "D     2\n",
       "E     2\n",
       "F    14\n",
       "G     8\n",
       "I     2\n",
       "J     2\n",
       "L     2\n",
       "M     3\n",
       "dtype: int64"
      ]
     },
     "execution_count": 14,
     "metadata": {},
     "output_type": "execute_result"
    }
   ],
   "source": [
    "test_data[categorical_cols].apply(pd.Series.nunique)"
   ]
  },
  {
   "cell_type": "markdown",
   "metadata": {},
   "source": [
    "## Missing values exploration"
   ]
  },
  {
   "cell_type": "code",
   "execution_count": 15,
   "metadata": {},
   "outputs": [
    {
     "data": {
      "text/plain": [
       "B     9\n",
       "C     0\n",
       "H     0\n",
       "K     0\n",
       "N    11\n",
       "O     0\n",
       "dtype: int64"
      ]
     },
     "execution_count": 15,
     "metadata": {},
     "output_type": "execute_result"
    }
   ],
   "source": [
    "train_data[continuous_cols].isnull().sum(axis = 0)"
   ]
  },
  {
   "cell_type": "code",
   "execution_count": 16,
   "metadata": {},
   "outputs": [
    {
     "data": {
      "text/plain": [
       "A    8\n",
       "D    5\n",
       "E    5\n",
       "F    7\n",
       "G    7\n",
       "I    0\n",
       "J    0\n",
       "L    0\n",
       "M    0\n",
       "dtype: int64"
      ]
     },
     "execution_count": 16,
     "metadata": {},
     "output_type": "execute_result"
    }
   ],
   "source": [
    "train_data[categorical_cols].isnull().sum(axis = 0)"
   ]
  },
  {
   "cell_type": "code",
   "execution_count": 17,
   "metadata": {},
   "outputs": [
    {
     "data": {
      "text/plain": [
       "B    3\n",
       "C    0\n",
       "H    0\n",
       "K    0\n",
       "N    2\n",
       "O    0\n",
       "dtype: int64"
      ]
     },
     "execution_count": 17,
     "metadata": {},
     "output_type": "execute_result"
    }
   ],
   "source": [
    "test_data[continuous_cols].isnull().sum(axis = 0)"
   ]
  },
  {
   "cell_type": "code",
   "execution_count": 18,
   "metadata": {},
   "outputs": [
    {
     "data": {
      "text/plain": [
       "A    4\n",
       "D    1\n",
       "E    1\n",
       "F    2\n",
       "G    2\n",
       "I    0\n",
       "J    0\n",
       "L    0\n",
       "M    0\n",
       "dtype: int64"
      ]
     },
     "execution_count": 18,
     "metadata": {},
     "output_type": "execute_result"
    }
   ],
   "source": [
    "test_data[categorical_cols].isnull().sum(axis = 0)"
   ]
  },
  {
   "cell_type": "markdown",
   "metadata": {},
   "source": [
    "# Plots"
   ]
  },
  {
   "cell_type": "markdown",
   "metadata": {},
   "source": [
    "## Continuous vs Target Variable"
   ]
  },
  {
   "cell_type": "code",
   "execution_count": 30,
   "metadata": {},
   "outputs": [
    {
     "data": {
      "image/png": "[encoded data removed]",
      "text/plain": [
       "<matplotlib.figure.Figure at 0x21e822c1dd8>"
      ]
     },
     "metadata": {},
     "output_type": "display_data"
    },
    {
     "data": {
      "image/png": "[encoded data removed]",
      "text/plain": [
       "<matplotlib.figure.Figure at 0x21e8395bbe0>"
      ]
     },
     "metadata": {},
     "output_type": "display_data"
    },
    {
     "data": {
      "image/png": "[encoded data removed]",
      "text/plain": [
       "<matplotlib.figure.Figure at 0x21e822c1cc0>"
      ]
     },
     "metadata": {},
     "output_type": "display_data"
    },
    {
     "data": {
      "image/png": "[encoded data removed]",
      "text/plain": [
       "<matplotlib.figure.Figure at 0x21e822c1da0>"
      ]
     },
     "metadata": {},
     "output_type": "display_data"
    },
    {
     "data": {
      "image/png": "[encoded data removed]",
      "text/plain": [
       "<matplotlib.figure.Figure at 0x21e839ac6d8>"
      ]
     },
     "metadata": {},
     "output_type": "display_data"
    },
    {
     "data": {
      "image/png": "[encoded data removed]",
      "text/plain": [
       "<matplotlib.figure.Figure at 0x21e83d78908>"
      ]
     },
     "metadata": {},
     "output_type": "display_data"
    }
   ],
   "source": [
    "for i in continuous_cols:\n",
    "    train_data[[i,target_col[0]]].boxplot(by = target_col[0])"
   ]
  },
  {
   "cell_type": "markdown",
   "metadata": {},
   "source": [
    "# Data Preparation - Train Data"
   ]
  },
  {
   "cell_type": "code",
   "execution_count": 19,
   "metadata": {},
   "outputs": [],
   "source": [
    "categorical_append_train_test = pd.concat([train_data[np.append(categorical_cols,['id'])],test_data[np.append(categorical_cols,['id'])]],axis = 0).reset_index(drop = True)"
   ]
  },
  {
   "cell_type": "code",
   "execution_count": 20,
   "metadata": {},
   "outputs": [],
   "source": [
    "dummies_categorical_append_train_test = pd.concat([pd.get_dummies(categorical_append_train_test.drop('id',axis = 1)),categorical_append_train_test['id']], axis = 1)"
   ]
  },
  {
   "cell_type": "code",
   "execution_count": 21,
   "metadata": {},
   "outputs": [
    {
     "data": {
      "text/plain": [
       "(552, 40)"
      ]
     },
     "execution_count": 21,
     "metadata": {},
     "output_type": "execute_result"
    }
   ],
   "source": [
    "dummies_categorical_append_train_test.loc[dummies_categorical_append_train_test['id']<=552,:].drop('id',axis = 1).shape"
   ]
  },
  {
   "cell_type": "markdown",
   "metadata": {},
   "source": [
    "## Creating Dummy Variables for categorical cols"
   ]
  },
  {
   "cell_type": "code",
   "execution_count": 245,
   "metadata": {},
   "outputs": [
    {
     "data": {
      "text/html": [
       "<div>\n",
       "<style scoped>\n",
       "    .dataframe tbody tr th:only-of-type {\n",
       "        vertical-align: middle;\n",
       "    }\n",
       "\n",
       "    .dataframe tbody tr th {\n",
       "        vertical-align: top;\n",
       "    }\n",
       "\n",
       "    .dataframe thead th {\n",
       "        text-align: right;\n",
       "    }\n",
       "</style>\n",
       "<table border=\"1\" class=\"dataframe\">\n",
       "  <thead>\n",
       "    <tr style=\"text-align: right;\">\n",
       "      <th></th>\n",
       "      <th>A_a</th>\n",
       "      <th>A_b</th>\n",
       "      <th>D_l</th>\n",
       "      <th>D_u</th>\n",
       "      <th>D_y</th>\n",
       "      <th>E_g</th>\n",
       "      <th>E_gg</th>\n",
       "      <th>E_p</th>\n",
       "      <th>F_aa</th>\n",
       "      <th>F_c</th>\n",
       "      <th>...</th>\n",
       "      <th>G_z</th>\n",
       "      <th>I_f</th>\n",
       "      <th>I_t</th>\n",
       "      <th>J_f</th>\n",
       "      <th>J_t</th>\n",
       "      <th>L_f</th>\n",
       "      <th>L_t</th>\n",
       "      <th>M_g</th>\n",
       "      <th>M_p</th>\n",
       "      <th>M_s</th>\n",
       "    </tr>\n",
       "  </thead>\n",
       "  <tbody>\n",
       "    <tr>\n",
       "      <th>count</th>\n",
       "      <td>552.000000</td>\n",
       "      <td>552.000000</td>\n",
       "      <td>552.000000</td>\n",
       "      <td>552.000000</td>\n",
       "      <td>552.000000</td>\n",
       "      <td>552.000000</td>\n",
       "      <td>552.000000</td>\n",
       "      <td>552.000000</td>\n",
       "      <td>552.000000</td>\n",
       "      <td>552.000000</td>\n",
       "      <td>...</td>\n",
       "      <td>552.000000</td>\n",
       "      <td>552.000000</td>\n",
       "      <td>552.000000</td>\n",
       "      <td>552.000000</td>\n",
       "      <td>552.000000</td>\n",
       "      <td>552.000000</td>\n",
       "      <td>552.000000</td>\n",
       "      <td>552.000000</td>\n",
       "      <td>552.000000</td>\n",
       "      <td>552.000000</td>\n",
       "    </tr>\n",
       "    <tr>\n",
       "      <th>mean</th>\n",
       "      <td>0.307971</td>\n",
       "      <td>0.677536</td>\n",
       "      <td>0.003623</td>\n",
       "      <td>0.753623</td>\n",
       "      <td>0.233696</td>\n",
       "      <td>0.753623</td>\n",
       "      <td>0.003623</td>\n",
       "      <td>0.233696</td>\n",
       "      <td>0.076087</td>\n",
       "      <td>0.208333</td>\n",
       "      <td>...</td>\n",
       "      <td>0.012681</td>\n",
       "      <td>0.481884</td>\n",
       "      <td>0.518116</td>\n",
       "      <td>0.577899</td>\n",
       "      <td>0.422101</td>\n",
       "      <td>0.539855</td>\n",
       "      <td>0.460145</td>\n",
       "      <td>0.900362</td>\n",
       "      <td>0.012681</td>\n",
       "      <td>0.086957</td>\n",
       "    </tr>\n",
       "    <tr>\n",
       "      <th>std</th>\n",
       "      <td>0.462073</td>\n",
       "      <td>0.467843</td>\n",
       "      <td>0.060138</td>\n",
       "      <td>0.431291</td>\n",
       "      <td>0.423565</td>\n",
       "      <td>0.431291</td>\n",
       "      <td>0.060138</td>\n",
       "      <td>0.423565</td>\n",
       "      <td>0.265378</td>\n",
       "      <td>0.406485</td>\n",
       "      <td>...</td>\n",
       "      <td>0.111996</td>\n",
       "      <td>0.500125</td>\n",
       "      <td>0.500125</td>\n",
       "      <td>0.494343</td>\n",
       "      <td>0.494343</td>\n",
       "      <td>0.498861</td>\n",
       "      <td>0.498861</td>\n",
       "      <td>0.299788</td>\n",
       "      <td>0.111996</td>\n",
       "      <td>0.282027</td>\n",
       "    </tr>\n",
       "    <tr>\n",
       "      <th>min</th>\n",
       "      <td>0.000000</td>\n",
       "      <td>0.000000</td>\n",
       "      <td>0.000000</td>\n",
       "      <td>0.000000</td>\n",
       "      <td>0.000000</td>\n",
       "      <td>0.000000</td>\n",
       "      <td>0.000000</td>\n",
       "      <td>0.000000</td>\n",
       "      <td>0.000000</td>\n",
       "      <td>0.000000</td>\n",
       "      <td>...</td>\n",
       "      <td>0.000000</td>\n",
       "      <td>0.000000</td>\n",
       "      <td>0.000000</td>\n",
       "      <td>0.000000</td>\n",
       "      <td>0.000000</td>\n",
       "      <td>0.000000</td>\n",
       "      <td>0.000000</td>\n",
       "      <td>0.000000</td>\n",
       "      <td>0.000000</td>\n",
       "      <td>0.000000</td>\n",
       "    </tr>\n",
       "    <tr>\n",
       "      <th>25%</th>\n",
       "      <td>0.000000</td>\n",
       "      <td>0.000000</td>\n",
       "      <td>0.000000</td>\n",
       "      <td>1.000000</td>\n",
       "      <td>0.000000</td>\n",
       "      <td>1.000000</td>\n",
       "      <td>0.000000</td>\n",
       "      <td>0.000000</td>\n",
       "      <td>0.000000</td>\n",
       "      <td>0.000000</td>\n",
       "      <td>...</td>\n",
       "      <td>0.000000</td>\n",
       "      <td>0.000000</td>\n",
       "      <td>0.000000</td>\n",
       "      <td>0.000000</td>\n",
       "      <td>0.000000</td>\n",
       "      <td>0.000000</td>\n",
       "      <td>0.000000</td>\n",
       "      <td>1.000000</td>\n",
       "      <td>0.000000</td>\n",
       "      <td>0.000000</td>\n",
       "    </tr>\n",
       "    <tr>\n",
       "      <th>50%</th>\n",
       "      <td>0.000000</td>\n",
       "      <td>1.000000</td>\n",
       "      <td>0.000000</td>\n",
       "      <td>1.000000</td>\n",
       "      <td>0.000000</td>\n",
       "      <td>1.000000</td>\n",
       "      <td>0.000000</td>\n",
       "      <td>0.000000</td>\n",
       "      <td>0.000000</td>\n",
       "      <td>0.000000</td>\n",
       "      <td>...</td>\n",
       "      <td>0.000000</td>\n",
       "      <td>0.000000</td>\n",
       "      <td>1.000000</td>\n",
       "      <td>1.000000</td>\n",
       "      <td>0.000000</td>\n",
       "      <td>1.000000</td>\n",
       "      <td>0.000000</td>\n",
       "      <td>1.000000</td>\n",
       "      <td>0.000000</td>\n",
       "      <td>0.000000</td>\n",
       "    </tr>\n",
       "    <tr>\n",
       "      <th>75%</th>\n",
       "      <td>1.000000</td>\n",
       "      <td>1.000000</td>\n",
       "      <td>0.000000</td>\n",
       "      <td>1.000000</td>\n",
       "      <td>0.000000</td>\n",
       "      <td>1.000000</td>\n",
       "      <td>0.000000</td>\n",
       "      <td>0.000000</td>\n",
       "      <td>0.000000</td>\n",
       "      <td>0.000000</td>\n",
       "      <td>...</td>\n",
       "      <td>0.000000</td>\n",
       "      <td>1.000000</td>\n",
       "      <td>1.000000</td>\n",
       "      <td>1.000000</td>\n",
       "      <td>1.000000</td>\n",
       "      <td>1.000000</td>\n",
       "      <td>1.000000</td>\n",
       "      <td>1.000000</td>\n",
       "      <td>0.000000</td>\n",
       "      <td>0.000000</td>\n",
       "    </tr>\n",
       "    <tr>\n",
       "      <th>max</th>\n",
       "      <td>1.000000</td>\n",
       "      <td>1.000000</td>\n",
       "      <td>1.000000</td>\n",
       "      <td>1.000000</td>\n",
       "      <td>1.000000</td>\n",
       "      <td>1.000000</td>\n",
       "      <td>1.000000</td>\n",
       "      <td>1.000000</td>\n",
       "      <td>1.000000</td>\n",
       "      <td>1.000000</td>\n",
       "      <td>...</td>\n",
       "      <td>1.000000</td>\n",
       "      <td>1.000000</td>\n",
       "      <td>1.000000</td>\n",
       "      <td>1.000000</td>\n",
       "      <td>1.000000</td>\n",
       "      <td>1.000000</td>\n",
       "      <td>1.000000</td>\n",
       "      <td>1.000000</td>\n",
       "      <td>1.000000</td>\n",
       "      <td>1.000000</td>\n",
       "    </tr>\n",
       "  </tbody>\n",
       "</table>\n",
       "<p>8 rows × 40 columns</p>\n",
       "</div>"
      ],
      "text/plain": [
       "              A_a         A_b         D_l         D_u         D_y         E_g  \\\n",
       "count  552.000000  552.000000  552.000000  552.000000  552.000000  552.000000   \n",
       "mean     0.307971    0.677536    0.003623    0.753623    0.233696    0.753623   \n",
       "std      0.462073    0.467843    0.060138    0.431291    0.423565    0.431291   \n",
       "min      0.000000    0.000000    0.000000    0.000000    0.000000    0.000000   \n",
       "25%      0.000000    0.000000    0.000000    1.000000    0.000000    1.000000   \n",
       "50%      0.000000    1.000000    0.000000    1.000000    0.000000    1.000000   \n",
       "75%      1.000000    1.000000    0.000000    1.000000    0.000000    1.000000   \n",
       "max      1.000000    1.000000    1.000000    1.000000    1.000000    1.000000   \n",
       "\n",
       "             E_gg         E_p        F_aa         F_c     ...             G_z  \\\n",
       "count  552.000000  552.000000  552.000000  552.000000     ...      552.000000   \n",
       "mean     0.003623    0.233696    0.076087    0.208333     ...        0.012681   \n",
       "std      0.060138    0.423565    0.265378    0.406485     ...        0.111996   \n",
       "min      0.000000    0.000000    0.000000    0.000000     ...        0.000000   \n",
       "25%      0.000000    0.000000    0.000000    0.000000     ...        0.000000   \n",
       "50%      0.000000    0.000000    0.000000    0.000000     ...        0.000000   \n",
       "75%      0.000000    0.000000    0.000000    0.000000     ...        0.000000   \n",
       "max      1.000000    1.000000    1.000000    1.000000     ...        1.000000   \n",
       "\n",
       "              I_f         I_t         J_f         J_t         L_f         L_t  \\\n",
       "count  552.000000  552.000000  552.000000  552.000000  552.000000  552.000000   \n",
       "mean     0.481884    0.518116    0.577899    0.422101    0.539855    0.460145   \n",
       "std      0.500125    0.500125    0.494343    0.494343    0.498861    0.498861   \n",
       "min      0.000000    0.000000    0.000000    0.000000    0.000000    0.000000   \n",
       "25%      0.000000    0.000000    0.000000    0.000000    0.000000    0.000000   \n",
       "50%      0.000000    1.000000    1.000000    0.000000    1.000000    0.000000   \n",
       "75%      1.000000    1.000000    1.000000    1.000000    1.000000    1.000000   \n",
       "max      1.000000    1.000000    1.000000    1.000000    1.000000    1.000000   \n",
       "\n",
       "              M_g         M_p         M_s  \n",
       "count  552.000000  552.000000  552.000000  \n",
       "mean     0.900362    0.012681    0.086957  \n",
       "std      0.299788    0.111996    0.282027  \n",
       "min      0.000000    0.000000    0.000000  \n",
       "25%      1.000000    0.000000    0.000000  \n",
       "50%      1.000000    0.000000    0.000000  \n",
       "75%      1.000000    0.000000    0.000000  \n",
       "max      1.000000    1.000000    1.000000  \n",
       "\n",
       "[8 rows x 40 columns]"
      ]
     },
     "execution_count": 245,
     "metadata": {},
     "output_type": "execute_result"
    }
   ],
   "source": [
    "train_data_after_dummies = dummies_categorical_append_train_test.loc[dummies_categorical_append_train_test['id']<=552,:].drop('id',axis = 1)\n",
    "train_data_after_dummies.describe()"
   ]
  },
  {
   "cell_type": "markdown",
   "metadata": {},
   "source": [
    "## Outliers Manipulation"
   ]
  },
  {
   "cell_type": "code",
   "execution_count": 246,
   "metadata": {},
   "outputs": [
    {
     "data": {
      "text/html": [
       "<div>\n",
       "<style scoped>\n",
       "    .dataframe tbody tr th:only-of-type {\n",
       "        vertical-align: middle;\n",
       "    }\n",
       "\n",
       "    .dataframe tbody tr th {\n",
       "        vertical-align: top;\n",
       "    }\n",
       "\n",
       "    .dataframe thead th {\n",
       "        text-align: right;\n",
       "    }\n",
       "</style>\n",
       "<table border=\"1\" class=\"dataframe\">\n",
       "  <thead>\n",
       "    <tr style=\"text-align: right;\">\n",
       "      <th></th>\n",
       "      <th>B</th>\n",
       "      <th>C</th>\n",
       "      <th>H</th>\n",
       "      <th>K</th>\n",
       "      <th>N</th>\n",
       "      <th>O</th>\n",
       "    </tr>\n",
       "  </thead>\n",
       "  <tbody>\n",
       "    <tr>\n",
       "      <th>count</th>\n",
       "      <td>543.000000</td>\n",
       "      <td>552.000000</td>\n",
       "      <td>552.000000</td>\n",
       "      <td>552.000000</td>\n",
       "      <td>541.000000</td>\n",
       "      <td>552.000000</td>\n",
       "    </tr>\n",
       "    <tr>\n",
       "      <th>mean</th>\n",
       "      <td>31.364899</td>\n",
       "      <td>4.780136</td>\n",
       "      <td>2.259176</td>\n",
       "      <td>2.318841</td>\n",
       "      <td>175.162662</td>\n",
       "      <td>1087.576087</td>\n",
       "    </tr>\n",
       "    <tr>\n",
       "      <th>std</th>\n",
       "      <td>11.873665</td>\n",
       "      <td>4.938454</td>\n",
       "      <td>3.442564</td>\n",
       "      <td>4.297867</td>\n",
       "      <td>154.873746</td>\n",
       "      <td>5758.841945</td>\n",
       "    </tr>\n",
       "    <tr>\n",
       "      <th>min</th>\n",
       "      <td>13.750000</td>\n",
       "      <td>0.000000</td>\n",
       "      <td>0.000000</td>\n",
       "      <td>0.000000</td>\n",
       "      <td>0.000000</td>\n",
       "      <td>0.000000</td>\n",
       "    </tr>\n",
       "    <tr>\n",
       "      <th>25%</th>\n",
       "      <td>22.500000</td>\n",
       "      <td>1.000000</td>\n",
       "      <td>0.165000</td>\n",
       "      <td>0.000000</td>\n",
       "      <td>60.000000</td>\n",
       "      <td>0.000000</td>\n",
       "    </tr>\n",
       "    <tr>\n",
       "      <th>50%</th>\n",
       "      <td>28.170000</td>\n",
       "      <td>2.750000</td>\n",
       "      <td>1.000000</td>\n",
       "      <td>0.000000</td>\n",
       "      <td>152.000000</td>\n",
       "      <td>3.500000</td>\n",
       "    </tr>\n",
       "    <tr>\n",
       "      <th>75%</th>\n",
       "      <td>37.665000</td>\n",
       "      <td>7.561250</td>\n",
       "      <td>2.750000</td>\n",
       "      <td>3.000000</td>\n",
       "      <td>268.000000</td>\n",
       "      <td>364.750000</td>\n",
       "    </tr>\n",
       "    <tr>\n",
       "      <th>max</th>\n",
       "      <td>80.250000</td>\n",
       "      <td>28.000000</td>\n",
       "      <td>28.500000</td>\n",
       "      <td>40.000000</td>\n",
       "      <td>1160.000000</td>\n",
       "      <td>100000.000000</td>\n",
       "    </tr>\n",
       "  </tbody>\n",
       "</table>\n",
       "</div>"
      ],
      "text/plain": [
       "                B           C           H           K            N  \\\n",
       "count  543.000000  552.000000  552.000000  552.000000   541.000000   \n",
       "mean    31.364899    4.780136    2.259176    2.318841   175.162662   \n",
       "std     11.873665    4.938454    3.442564    4.297867   154.873746   \n",
       "min     13.750000    0.000000    0.000000    0.000000     0.000000   \n",
       "25%     22.500000    1.000000    0.165000    0.000000    60.000000   \n",
       "50%     28.170000    2.750000    1.000000    0.000000   152.000000   \n",
       "75%     37.665000    7.561250    2.750000    3.000000   268.000000   \n",
       "max     80.250000   28.000000   28.500000   40.000000  1160.000000   \n",
       "\n",
       "                   O  \n",
       "count     552.000000  \n",
       "mean     1087.576087  \n",
       "std      5758.841945  \n",
       "min         0.000000  \n",
       "25%         0.000000  \n",
       "50%         3.500000  \n",
       "75%       364.750000  \n",
       "max    100000.000000  "
      ]
     },
     "execution_count": 246,
     "metadata": {},
     "output_type": "execute_result"
    }
   ],
   "source": [
    "train_data[continuous_cols].describe()"
   ]
  },
  {
   "cell_type": "code",
   "execution_count": 247,
   "metadata": {},
   "outputs": [],
   "source": [
    "def rm_outliers(pd_series):\n",
    "    quantile_75 = pd_series.quantile(0.75)\n",
    "    quantile_25 = pd_series.quantile(0.25)\n",
    "    iqr = 1.5*(quantile_75-quantile_25)\n",
    "    conditions = [pd_series > quantile_75 + iqr,\n",
    "                  pd_series < quantile_25 - iqr\n",
    "                 ]\n",
    "    choices = [quantile_75+iqr, quantile_25-iqr]\n",
    "    pd_series_after = pd.Series(np.select(conditions,choices, default=pd_series))\n",
    "    return pd_series_after"
   ]
  },
  {
   "cell_type": "code",
   "execution_count": 31,
   "metadata": {},
   "outputs": [
    {
     "ename": "NameError",
     "evalue": "name 'rm_outliers' is not defined",
     "output_type": "error",
     "traceback": [
      "\u001b[1;31m---------------------------------------------------------------------------\u001b[0m",
      "\u001b[1;31mNameError\u001b[0m                                 Traceback (most recent call last)",
      "\u001b[1;32m<ipython-input-31-648c53452933>\u001b[0m in \u001b[0;36m<module>\u001b[1;34m()\u001b[0m\n\u001b[1;32m----> 1\u001b[1;33m \u001b[0mtrain_data_after_outliers\u001b[0m \u001b[1;33m=\u001b[0m \u001b[0mtrain_data\u001b[0m\u001b[1;33m[\u001b[0m\u001b[0mcontinuous_cols\u001b[0m\u001b[1;33m]\u001b[0m\u001b[1;33m.\u001b[0m\u001b[0mapply\u001b[0m\u001b[1;33m(\u001b[0m\u001b[0mrm_outliers\u001b[0m\u001b[1;33m)\u001b[0m\u001b[1;33m\u001b[0m\u001b[0m\n\u001b[0m",
      "\u001b[1;31mNameError\u001b[0m: name 'rm_outliers' is not defined"
     ]
    }
   ],
   "source": [
    "train_data_after_outliers = train_data[continuous_cols].apply(rm_outliers)"
   ]
  },
  {
   "cell_type": "code",
   "execution_count": 249,
   "metadata": {},
   "outputs": [
    {
     "data": {
      "text/html": [
       "<div>\n",
       "<style scoped>\n",
       "    .dataframe tbody tr th:only-of-type {\n",
       "        vertical-align: middle;\n",
       "    }\n",
       "\n",
       "    .dataframe tbody tr th {\n",
       "        vertical-align: top;\n",
       "    }\n",
       "\n",
       "    .dataframe thead th {\n",
       "        text-align: right;\n",
       "    }\n",
       "</style>\n",
       "<table border=\"1\" class=\"dataframe\">\n",
       "  <thead>\n",
       "    <tr style=\"text-align: right;\">\n",
       "      <th></th>\n",
       "      <th>B</th>\n",
       "      <th>C</th>\n",
       "      <th>H</th>\n",
       "      <th>K</th>\n",
       "      <th>N</th>\n",
       "      <th>O</th>\n",
       "    </tr>\n",
       "  </thead>\n",
       "  <tbody>\n",
       "    <tr>\n",
       "      <th>count</th>\n",
       "      <td>543.000000</td>\n",
       "      <td>552.000000</td>\n",
       "      <td>552.000000</td>\n",
       "      <td>552.000000</td>\n",
       "      <td>541.000000</td>\n",
       "      <td>552.000000</td>\n",
       "    </tr>\n",
       "    <tr>\n",
       "      <th>mean</th>\n",
       "      <td>31.203803</td>\n",
       "      <td>4.686185</td>\n",
       "      <td>1.848682</td>\n",
       "      <td>1.773551</td>\n",
       "      <td>172.295749</td>\n",
       "      <td>228.845562</td>\n",
       "    </tr>\n",
       "    <tr>\n",
       "      <th>std</th>\n",
       "      <td>11.399238</td>\n",
       "      <td>4.619427</td>\n",
       "      <td>2.100632</td>\n",
       "      <td>2.699463</td>\n",
       "      <td>143.945467</td>\n",
       "      <td>348.953667</td>\n",
       "    </tr>\n",
       "    <tr>\n",
       "      <th>min</th>\n",
       "      <td>13.750000</td>\n",
       "      <td>0.000000</td>\n",
       "      <td>0.000000</td>\n",
       "      <td>0.000000</td>\n",
       "      <td>0.000000</td>\n",
       "      <td>0.000000</td>\n",
       "    </tr>\n",
       "    <tr>\n",
       "      <th>25%</th>\n",
       "      <td>22.500000</td>\n",
       "      <td>1.000000</td>\n",
       "      <td>0.165000</td>\n",
       "      <td>0.000000</td>\n",
       "      <td>60.000000</td>\n",
       "      <td>0.000000</td>\n",
       "    </tr>\n",
       "    <tr>\n",
       "      <th>50%</th>\n",
       "      <td>28.170000</td>\n",
       "      <td>2.750000</td>\n",
       "      <td>1.000000</td>\n",
       "      <td>0.000000</td>\n",
       "      <td>152.000000</td>\n",
       "      <td>3.500000</td>\n",
       "    </tr>\n",
       "    <tr>\n",
       "      <th>75%</th>\n",
       "      <td>37.665000</td>\n",
       "      <td>7.561250</td>\n",
       "      <td>2.750000</td>\n",
       "      <td>3.000000</td>\n",
       "      <td>268.000000</td>\n",
       "      <td>364.750000</td>\n",
       "    </tr>\n",
       "    <tr>\n",
       "      <th>max</th>\n",
       "      <td>60.412500</td>\n",
       "      <td>17.403125</td>\n",
       "      <td>6.627500</td>\n",
       "      <td>7.500000</td>\n",
       "      <td>580.000000</td>\n",
       "      <td>911.875000</td>\n",
       "    </tr>\n",
       "  </tbody>\n",
       "</table>\n",
       "</div>"
      ],
      "text/plain": [
       "                B           C           H           K           N           O\n",
       "count  543.000000  552.000000  552.000000  552.000000  541.000000  552.000000\n",
       "mean    31.203803    4.686185    1.848682    1.773551  172.295749  228.845562\n",
       "std     11.399238    4.619427    2.100632    2.699463  143.945467  348.953667\n",
       "min     13.750000    0.000000    0.000000    0.000000    0.000000    0.000000\n",
       "25%     22.500000    1.000000    0.165000    0.000000   60.000000    0.000000\n",
       "50%     28.170000    2.750000    1.000000    0.000000  152.000000    3.500000\n",
       "75%     37.665000    7.561250    2.750000    3.000000  268.000000  364.750000\n",
       "max     60.412500   17.403125    6.627500    7.500000  580.000000  911.875000"
      ]
     },
     "execution_count": 249,
     "metadata": {},
     "output_type": "execute_result"
    }
   ],
   "source": [
    "train_data_after_outliers.describe()"
   ]
  },
  {
   "cell_type": "markdown",
   "metadata": {},
   "source": [
    "## Missing Values Interpretation"
   ]
  },
  {
   "cell_type": "code",
   "execution_count": 250,
   "metadata": {},
   "outputs": [
    {
     "data": {
      "text/html": [
       "<div>\n",
       "<style scoped>\n",
       "    .dataframe tbody tr th:only-of-type {\n",
       "        vertical-align: middle;\n",
       "    }\n",
       "\n",
       "    .dataframe tbody tr th {\n",
       "        vertical-align: top;\n",
       "    }\n",
       "\n",
       "    .dataframe thead th {\n",
       "        text-align: right;\n",
       "    }\n",
       "</style>\n",
       "<table border=\"1\" class=\"dataframe\">\n",
       "  <thead>\n",
       "    <tr style=\"text-align: right;\">\n",
       "      <th></th>\n",
       "      <th>B</th>\n",
       "      <th>C</th>\n",
       "      <th>H</th>\n",
       "      <th>K</th>\n",
       "      <th>N</th>\n",
       "      <th>O</th>\n",
       "    </tr>\n",
       "  </thead>\n",
       "  <tbody>\n",
       "    <tr>\n",
       "      <th>count</th>\n",
       "      <td>552.000000</td>\n",
       "      <td>552.000000</td>\n",
       "      <td>552.000000</td>\n",
       "      <td>552.000000</td>\n",
       "      <td>552.000000</td>\n",
       "      <td>552.000000</td>\n",
       "    </tr>\n",
       "    <tr>\n",
       "      <th>mean</th>\n",
       "      <td>31.203803</td>\n",
       "      <td>4.686185</td>\n",
       "      <td>1.848682</td>\n",
       "      <td>1.773551</td>\n",
       "      <td>172.295749</td>\n",
       "      <td>228.845562</td>\n",
       "    </tr>\n",
       "    <tr>\n",
       "      <th>std</th>\n",
       "      <td>11.305757</td>\n",
       "      <td>4.619427</td>\n",
       "      <td>2.100632</td>\n",
       "      <td>2.699463</td>\n",
       "      <td>142.501381</td>\n",
       "      <td>348.953667</td>\n",
       "    </tr>\n",
       "    <tr>\n",
       "      <th>min</th>\n",
       "      <td>13.750000</td>\n",
       "      <td>0.000000</td>\n",
       "      <td>0.000000</td>\n",
       "      <td>0.000000</td>\n",
       "      <td>0.000000</td>\n",
       "      <td>0.000000</td>\n",
       "    </tr>\n",
       "    <tr>\n",
       "      <th>25%</th>\n",
       "      <td>22.500000</td>\n",
       "      <td>1.000000</td>\n",
       "      <td>0.165000</td>\n",
       "      <td>0.000000</td>\n",
       "      <td>70.000000</td>\n",
       "      <td>0.000000</td>\n",
       "    </tr>\n",
       "    <tr>\n",
       "      <th>50%</th>\n",
       "      <td>28.500000</td>\n",
       "      <td>2.750000</td>\n",
       "      <td>1.000000</td>\n",
       "      <td>0.000000</td>\n",
       "      <td>160.000000</td>\n",
       "      <td>3.500000</td>\n",
       "    </tr>\n",
       "    <tr>\n",
       "      <th>75%</th>\n",
       "      <td>37.372500</td>\n",
       "      <td>7.561250</td>\n",
       "      <td>2.750000</td>\n",
       "      <td>3.000000</td>\n",
       "      <td>260.000000</td>\n",
       "      <td>364.750000</td>\n",
       "    </tr>\n",
       "    <tr>\n",
       "      <th>max</th>\n",
       "      <td>60.412500</td>\n",
       "      <td>17.403125</td>\n",
       "      <td>6.627500</td>\n",
       "      <td>7.500000</td>\n",
       "      <td>580.000000</td>\n",
       "      <td>911.875000</td>\n",
       "    </tr>\n",
       "  </tbody>\n",
       "</table>\n",
       "</div>"
      ],
      "text/plain": [
       "                B           C           H           K           N           O\n",
       "count  552.000000  552.000000  552.000000  552.000000  552.000000  552.000000\n",
       "mean    31.203803    4.686185    1.848682    1.773551  172.295749  228.845562\n",
       "std     11.305757    4.619427    2.100632    2.699463  142.501381  348.953667\n",
       "min     13.750000    0.000000    0.000000    0.000000    0.000000    0.000000\n",
       "25%     22.500000    1.000000    0.165000    0.000000   70.000000    0.000000\n",
       "50%     28.500000    2.750000    1.000000    0.000000  160.000000    3.500000\n",
       "75%     37.372500    7.561250    2.750000    3.000000  260.000000  364.750000\n",
       "max     60.412500   17.403125    6.627500    7.500000  580.000000  911.875000"
      ]
     },
     "execution_count": 250,
     "metadata": {},
     "output_type": "execute_result"
    }
   ],
   "source": [
    "train_data_after_nans =train_data_after_outliers.fillna(train_data_after_outliers.mean())\n",
    "train_data_after_nans.describe()"
   ]
  },
  {
   "cell_type": "markdown",
   "metadata": {},
   "source": [
    "## Normalization"
   ]
  },
  {
   "cell_type": "code",
   "execution_count": 251,
   "metadata": {},
   "outputs": [],
   "source": [
    "def normalization(pd_series):\n",
    "    pd_series_new = (pd_series - pd_series.mean())/pd_series.std()\n",
    "    return pd_series_new"
   ]
  },
  {
   "cell_type": "code",
   "execution_count": 252,
   "metadata": {},
   "outputs": [
    {
     "data": {
      "text/html": [
       "<div>\n",
       "<style scoped>\n",
       "    .dataframe tbody tr th:only-of-type {\n",
       "        vertical-align: middle;\n",
       "    }\n",
       "\n",
       "    .dataframe tbody tr th {\n",
       "        vertical-align: top;\n",
       "    }\n",
       "\n",
       "    .dataframe thead th {\n",
       "        text-align: right;\n",
       "    }\n",
       "</style>\n",
       "<table border=\"1\" class=\"dataframe\">\n",
       "  <thead>\n",
       "    <tr style=\"text-align: right;\">\n",
       "      <th></th>\n",
       "      <th>B</th>\n",
       "      <th>C</th>\n",
       "      <th>H</th>\n",
       "      <th>K</th>\n",
       "      <th>N</th>\n",
       "      <th>O</th>\n",
       "    </tr>\n",
       "  </thead>\n",
       "  <tbody>\n",
       "    <tr>\n",
       "      <th>count</th>\n",
       "      <td>5.520000e+02</td>\n",
       "      <td>5.520000e+02</td>\n",
       "      <td>5.520000e+02</td>\n",
       "      <td>5.520000e+02</td>\n",
       "      <td>5.520000e+02</td>\n",
       "      <td>5.520000e+02</td>\n",
       "    </tr>\n",
       "    <tr>\n",
       "      <th>mean</th>\n",
       "      <td>-8.310582e-16</td>\n",
       "      <td>3.159208e-16</td>\n",
       "      <td>-6.082091e-16</td>\n",
       "      <td>-9.674226e-17</td>\n",
       "      <td>2.180221e-16</td>\n",
       "      <td>1.606002e-16</td>\n",
       "    </tr>\n",
       "    <tr>\n",
       "      <th>std</th>\n",
       "      <td>1.000000e+00</td>\n",
       "      <td>1.000000e+00</td>\n",
       "      <td>1.000000e+00</td>\n",
       "      <td>1.000000e+00</td>\n",
       "      <td>1.000000e+00</td>\n",
       "      <td>1.000000e+00</td>\n",
       "    </tr>\n",
       "    <tr>\n",
       "      <th>min</th>\n",
       "      <td>-1.543798e+00</td>\n",
       "      <td>-1.014452e+00</td>\n",
       "      <td>-8.800600e-01</td>\n",
       "      <td>-6.570012e-01</td>\n",
       "      <td>-1.209081e+00</td>\n",
       "      <td>-6.558050e-01</td>\n",
       "    </tr>\n",
       "    <tr>\n",
       "      <th>25%</th>\n",
       "      <td>-7.698558e-01</td>\n",
       "      <td>-7.979746e-01</td>\n",
       "      <td>-8.015122e-01</td>\n",
       "      <td>-6.570012e-01</td>\n",
       "      <td>-7.178579e-01</td>\n",
       "      <td>-6.558050e-01</td>\n",
       "    </tr>\n",
       "    <tr>\n",
       "      <th>50%</th>\n",
       "      <td>-2.391528e-01</td>\n",
       "      <td>-4.191398e-01</td>\n",
       "      <td>-4.040128e-01</td>\n",
       "      <td>-6.570012e-01</td>\n",
       "      <td>-8.628512e-02</td>\n",
       "      <td>-6.457750e-01</td>\n",
       "    </tr>\n",
       "    <tr>\n",
       "      <th>75%</th>\n",
       "      <td>5.456244e-01</td>\n",
       "      <td>6.223856e-01</td>\n",
       "      <td>4.290699e-01</td>\n",
       "      <td>4.543308e-01</td>\n",
       "      <td>6.154625e-01</td>\n",
       "      <td>3.894627e-01</td>\n",
       "    </tr>\n",
       "    <tr>\n",
       "      <th>max</th>\n",
       "      <td>2.583524e+00</td>\n",
       "      <td>2.752926e+00</td>\n",
       "      <td>2.274943e+00</td>\n",
       "      <td>2.121329e+00</td>\n",
       "      <td>2.861055e+00</td>\n",
       "      <td>1.957364e+00</td>\n",
       "    </tr>\n",
       "  </tbody>\n",
       "</table>\n",
       "</div>"
      ],
      "text/plain": [
       "                  B             C             H             K             N  \\\n",
       "count  5.520000e+02  5.520000e+02  5.520000e+02  5.520000e+02  5.520000e+02   \n",
       "mean  -8.310582e-16  3.159208e-16 -6.082091e-16 -9.674226e-17  2.180221e-16   \n",
       "std    1.000000e+00  1.000000e+00  1.000000e+00  1.000000e+00  1.000000e+00   \n",
       "min   -1.543798e+00 -1.014452e+00 -8.800600e-01 -6.570012e-01 -1.209081e+00   \n",
       "25%   -7.698558e-01 -7.979746e-01 -8.015122e-01 -6.570012e-01 -7.178579e-01   \n",
       "50%   -2.391528e-01 -4.191398e-01 -4.040128e-01 -6.570012e-01 -8.628512e-02   \n",
       "75%    5.456244e-01  6.223856e-01  4.290699e-01  4.543308e-01  6.154625e-01   \n",
       "max    2.583524e+00  2.752926e+00  2.274943e+00  2.121329e+00  2.861055e+00   \n",
       "\n",
       "                  O  \n",
       "count  5.520000e+02  \n",
       "mean   1.606002e-16  \n",
       "std    1.000000e+00  \n",
       "min   -6.558050e-01  \n",
       "25%   -6.558050e-01  \n",
       "50%   -6.457750e-01  \n",
       "75%    3.894627e-01  \n",
       "max    1.957364e+00  "
      ]
     },
     "execution_count": 252,
     "metadata": {},
     "output_type": "execute_result"
    }
   ],
   "source": [
    "train_data_after_normalization = train_data_after_nans.apply(normalization)\n",
    "train_data_after_normalization.describe()"
   ]
  },
  {
   "cell_type": "markdown",
   "metadata": {},
   "source": [
    "## Final Train Dataset after Cleaning"
   ]
  },
  {
   "cell_type": "code",
   "execution_count": 253,
   "metadata": {},
   "outputs": [],
   "source": [
    "train_data_after_clean = pd.concat([train_data_after_normalization,train_data_after_dummies,train_data[target_col]],axis = 1)"
   ]
  },
  {
   "cell_type": "markdown",
   "metadata": {},
   "source": [
    "# Data Preparation - Test Data"
   ]
  },
  {
   "cell_type": "markdown",
   "metadata": {},
   "source": [
    "## Creating Dummy Variables for categorical cols"
   ]
  },
  {
   "cell_type": "code",
   "execution_count": 265,
   "metadata": {},
   "outputs": [
    {
     "data": {
      "text/html": [
       "<div>\n",
       "<style scoped>\n",
       "    .dataframe tbody tr th:only-of-type {\n",
       "        vertical-align: middle;\n",
       "    }\n",
       "\n",
       "    .dataframe tbody tr th {\n",
       "        vertical-align: top;\n",
       "    }\n",
       "\n",
       "    .dataframe thead th {\n",
       "        text-align: right;\n",
       "    }\n",
       "</style>\n",
       "<table border=\"1\" class=\"dataframe\">\n",
       "  <thead>\n",
       "    <tr style=\"text-align: right;\">\n",
       "      <th></th>\n",
       "      <th>A_a</th>\n",
       "      <th>A_b</th>\n",
       "      <th>D_l</th>\n",
       "      <th>D_u</th>\n",
       "      <th>D_y</th>\n",
       "      <th>E_g</th>\n",
       "      <th>E_gg</th>\n",
       "      <th>E_p</th>\n",
       "      <th>F_aa</th>\n",
       "      <th>F_c</th>\n",
       "      <th>...</th>\n",
       "      <th>G_z</th>\n",
       "      <th>I_f</th>\n",
       "      <th>I_t</th>\n",
       "      <th>J_f</th>\n",
       "      <th>J_t</th>\n",
       "      <th>L_f</th>\n",
       "      <th>L_t</th>\n",
       "      <th>M_g</th>\n",
       "      <th>M_p</th>\n",
       "      <th>M_s</th>\n",
       "    </tr>\n",
       "  </thead>\n",
       "  <tbody>\n",
       "    <tr>\n",
       "      <th>count</th>\n",
       "      <td>138.000000</td>\n",
       "      <td>138.000000</td>\n",
       "      <td>138.0</td>\n",
       "      <td>138.000000</td>\n",
       "      <td>138.000000</td>\n",
       "      <td>138.000000</td>\n",
       "      <td>138.0</td>\n",
       "      <td>138.000000</td>\n",
       "      <td>138.000000</td>\n",
       "      <td>138.000000</td>\n",
       "      <td>...</td>\n",
       "      <td>138.000000</td>\n",
       "      <td>138.000000</td>\n",
       "      <td>138.000000</td>\n",
       "      <td>138.000000</td>\n",
       "      <td>138.000000</td>\n",
       "      <td>138.000000</td>\n",
       "      <td>138.000000</td>\n",
       "      <td>138.000000</td>\n",
       "      <td>138.000000</td>\n",
       "      <td>138.000000</td>\n",
       "    </tr>\n",
       "    <tr>\n",
       "      <th>mean</th>\n",
       "      <td>0.289855</td>\n",
       "      <td>0.681159</td>\n",
       "      <td>0.0</td>\n",
       "      <td>0.746377</td>\n",
       "      <td>0.246377</td>\n",
       "      <td>0.746377</td>\n",
       "      <td>0.0</td>\n",
       "      <td>0.246377</td>\n",
       "      <td>0.086957</td>\n",
       "      <td>0.159420</td>\n",
       "      <td>...</td>\n",
       "      <td>0.007246</td>\n",
       "      <td>0.456522</td>\n",
       "      <td>0.543478</td>\n",
       "      <td>0.550725</td>\n",
       "      <td>0.449275</td>\n",
       "      <td>0.550725</td>\n",
       "      <td>0.449275</td>\n",
       "      <td>0.927536</td>\n",
       "      <td>0.007246</td>\n",
       "      <td>0.065217</td>\n",
       "    </tr>\n",
       "    <tr>\n",
       "      <th>std</th>\n",
       "      <td>0.455348</td>\n",
       "      <td>0.467725</td>\n",
       "      <td>0.0</td>\n",
       "      <td>0.436669</td>\n",
       "      <td>0.432470</td>\n",
       "      <td>0.436669</td>\n",
       "      <td>0.0</td>\n",
       "      <td>0.432470</td>\n",
       "      <td>0.282798</td>\n",
       "      <td>0.367401</td>\n",
       "      <td>...</td>\n",
       "      <td>0.085126</td>\n",
       "      <td>0.499921</td>\n",
       "      <td>0.499921</td>\n",
       "      <td>0.499232</td>\n",
       "      <td>0.499232</td>\n",
       "      <td>0.499232</td>\n",
       "      <td>0.499232</td>\n",
       "      <td>0.260199</td>\n",
       "      <td>0.085126</td>\n",
       "      <td>0.247809</td>\n",
       "    </tr>\n",
       "    <tr>\n",
       "      <th>min</th>\n",
       "      <td>0.000000</td>\n",
       "      <td>0.000000</td>\n",
       "      <td>0.0</td>\n",
       "      <td>0.000000</td>\n",
       "      <td>0.000000</td>\n",
       "      <td>0.000000</td>\n",
       "      <td>0.0</td>\n",
       "      <td>0.000000</td>\n",
       "      <td>0.000000</td>\n",
       "      <td>0.000000</td>\n",
       "      <td>...</td>\n",
       "      <td>0.000000</td>\n",
       "      <td>0.000000</td>\n",
       "      <td>0.000000</td>\n",
       "      <td>0.000000</td>\n",
       "      <td>0.000000</td>\n",
       "      <td>0.000000</td>\n",
       "      <td>0.000000</td>\n",
       "      <td>0.000000</td>\n",
       "      <td>0.000000</td>\n",
       "      <td>0.000000</td>\n",
       "    </tr>\n",
       "    <tr>\n",
       "      <th>25%</th>\n",
       "      <td>0.000000</td>\n",
       "      <td>0.000000</td>\n",
       "      <td>0.0</td>\n",
       "      <td>0.250000</td>\n",
       "      <td>0.000000</td>\n",
       "      <td>0.250000</td>\n",
       "      <td>0.0</td>\n",
       "      <td>0.000000</td>\n",
       "      <td>0.000000</td>\n",
       "      <td>0.000000</td>\n",
       "      <td>...</td>\n",
       "      <td>0.000000</td>\n",
       "      <td>0.000000</td>\n",
       "      <td>0.000000</td>\n",
       "      <td>0.000000</td>\n",
       "      <td>0.000000</td>\n",
       "      <td>0.000000</td>\n",
       "      <td>0.000000</td>\n",
       "      <td>1.000000</td>\n",
       "      <td>0.000000</td>\n",
       "      <td>0.000000</td>\n",
       "    </tr>\n",
       "    <tr>\n",
       "      <th>50%</th>\n",
       "      <td>0.000000</td>\n",
       "      <td>1.000000</td>\n",
       "      <td>0.0</td>\n",
       "      <td>1.000000</td>\n",
       "      <td>0.000000</td>\n",
       "      <td>1.000000</td>\n",
       "      <td>0.0</td>\n",
       "      <td>0.000000</td>\n",
       "      <td>0.000000</td>\n",
       "      <td>0.000000</td>\n",
       "      <td>...</td>\n",
       "      <td>0.000000</td>\n",
       "      <td>0.000000</td>\n",
       "      <td>1.000000</td>\n",
       "      <td>1.000000</td>\n",
       "      <td>0.000000</td>\n",
       "      <td>1.000000</td>\n",
       "      <td>0.000000</td>\n",
       "      <td>1.000000</td>\n",
       "      <td>0.000000</td>\n",
       "      <td>0.000000</td>\n",
       "    </tr>\n",
       "    <tr>\n",
       "      <th>75%</th>\n",
       "      <td>1.000000</td>\n",
       "      <td>1.000000</td>\n",
       "      <td>0.0</td>\n",
       "      <td>1.000000</td>\n",
       "      <td>0.000000</td>\n",
       "      <td>1.000000</td>\n",
       "      <td>0.0</td>\n",
       "      <td>0.000000</td>\n",
       "      <td>0.000000</td>\n",
       "      <td>0.000000</td>\n",
       "      <td>...</td>\n",
       "      <td>0.000000</td>\n",
       "      <td>1.000000</td>\n",
       "      <td>1.000000</td>\n",
       "      <td>1.000000</td>\n",
       "      <td>1.000000</td>\n",
       "      <td>1.000000</td>\n",
       "      <td>1.000000</td>\n",
       "      <td>1.000000</td>\n",
       "      <td>0.000000</td>\n",
       "      <td>0.000000</td>\n",
       "    </tr>\n",
       "    <tr>\n",
       "      <th>max</th>\n",
       "      <td>1.000000</td>\n",
       "      <td>1.000000</td>\n",
       "      <td>0.0</td>\n",
       "      <td>1.000000</td>\n",
       "      <td>1.000000</td>\n",
       "      <td>1.000000</td>\n",
       "      <td>0.0</td>\n",
       "      <td>1.000000</td>\n",
       "      <td>1.000000</td>\n",
       "      <td>1.000000</td>\n",
       "      <td>...</td>\n",
       "      <td>1.000000</td>\n",
       "      <td>1.000000</td>\n",
       "      <td>1.000000</td>\n",
       "      <td>1.000000</td>\n",
       "      <td>1.000000</td>\n",
       "      <td>1.000000</td>\n",
       "      <td>1.000000</td>\n",
       "      <td>1.000000</td>\n",
       "      <td>1.000000</td>\n",
       "      <td>1.000000</td>\n",
       "    </tr>\n",
       "  </tbody>\n",
       "</table>\n",
       "<p>8 rows × 40 columns</p>\n",
       "</div>"
      ],
      "text/plain": [
       "              A_a         A_b    D_l         D_u         D_y         E_g  \\\n",
       "count  138.000000  138.000000  138.0  138.000000  138.000000  138.000000   \n",
       "mean     0.289855    0.681159    0.0    0.746377    0.246377    0.746377   \n",
       "std      0.455348    0.467725    0.0    0.436669    0.432470    0.436669   \n",
       "min      0.000000    0.000000    0.0    0.000000    0.000000    0.000000   \n",
       "25%      0.000000    0.000000    0.0    0.250000    0.000000    0.250000   \n",
       "50%      0.000000    1.000000    0.0    1.000000    0.000000    1.000000   \n",
       "75%      1.000000    1.000000    0.0    1.000000    0.000000    1.000000   \n",
       "max      1.000000    1.000000    0.0    1.000000    1.000000    1.000000   \n",
       "\n",
       "        E_gg         E_p        F_aa         F_c     ...             G_z  \\\n",
       "count  138.0  138.000000  138.000000  138.000000     ...      138.000000   \n",
       "mean     0.0    0.246377    0.086957    0.159420     ...        0.007246   \n",
       "std      0.0    0.432470    0.282798    0.367401     ...        0.085126   \n",
       "min      0.0    0.000000    0.000000    0.000000     ...        0.000000   \n",
       "25%      0.0    0.000000    0.000000    0.000000     ...        0.000000   \n",
       "50%      0.0    0.000000    0.000000    0.000000     ...        0.000000   \n",
       "75%      0.0    0.000000    0.000000    0.000000     ...        0.000000   \n",
       "max      0.0    1.000000    1.000000    1.000000     ...        1.000000   \n",
       "\n",
       "              I_f         I_t         J_f         J_t         L_f         L_t  \\\n",
       "count  138.000000  138.000000  138.000000  138.000000  138.000000  138.000000   \n",
       "mean     0.456522    0.543478    0.550725    0.449275    0.550725    0.449275   \n",
       "std      0.499921    0.499921    0.499232    0.499232    0.499232    0.499232   \n",
       "min      0.000000    0.000000    0.000000    0.000000    0.000000    0.000000   \n",
       "25%      0.000000    0.000000    0.000000    0.000000    0.000000    0.000000   \n",
       "50%      0.000000    1.000000    1.000000    0.000000    1.000000    0.000000   \n",
       "75%      1.000000    1.000000    1.000000    1.000000    1.000000    1.000000   \n",
       "max      1.000000    1.000000    1.000000    1.000000    1.000000    1.000000   \n",
       "\n",
       "              M_g         M_p         M_s  \n",
       "count  138.000000  138.000000  138.000000  \n",
       "mean     0.927536    0.007246    0.065217  \n",
       "std      0.260199    0.085126    0.247809  \n",
       "min      0.000000    0.000000    0.000000  \n",
       "25%      1.000000    0.000000    0.000000  \n",
       "50%      1.000000    0.000000    0.000000  \n",
       "75%      1.000000    0.000000    0.000000  \n",
       "max      1.000000    1.000000    1.000000  \n",
       "\n",
       "[8 rows x 40 columns]"
      ]
     },
     "execution_count": 265,
     "metadata": {},
     "output_type": "execute_result"
    }
   ],
   "source": [
    "test_data_after_dummies = dummies_categorical_append_train_test.loc[dummies_categorical_append_train_test['id']>552,:].drop('id',axis = 1).reset_index(drop = True)\n",
    "test_data_after_dummies.describe()"
   ]
  },
  {
   "cell_type": "markdown",
   "metadata": {},
   "source": [
    "## Missing Values Interpretation"
   ]
  },
  {
   "cell_type": "code",
   "execution_count": 266,
   "metadata": {},
   "outputs": [
    {
     "data": {
      "text/html": [
       "<div>\n",
       "<style scoped>\n",
       "    .dataframe tbody tr th:only-of-type {\n",
       "        vertical-align: middle;\n",
       "    }\n",
       "\n",
       "    .dataframe tbody tr th {\n",
       "        vertical-align: top;\n",
       "    }\n",
       "\n",
       "    .dataframe thead th {\n",
       "        text-align: right;\n",
       "    }\n",
       "</style>\n",
       "<table border=\"1\" class=\"dataframe\">\n",
       "  <thead>\n",
       "    <tr style=\"text-align: right;\">\n",
       "      <th></th>\n",
       "      <th>B</th>\n",
       "      <th>C</th>\n",
       "      <th>H</th>\n",
       "      <th>K</th>\n",
       "      <th>N</th>\n",
       "      <th>O</th>\n",
       "    </tr>\n",
       "  </thead>\n",
       "  <tbody>\n",
       "    <tr>\n",
       "      <th>count</th>\n",
       "      <td>135.000000</td>\n",
       "      <td>138.000000</td>\n",
       "      <td>138.000000</td>\n",
       "      <td>138.000000</td>\n",
       "      <td>136.000000</td>\n",
       "      <td>138.000000</td>\n",
       "    </tr>\n",
       "    <tr>\n",
       "      <th>mean</th>\n",
       "      <td>32.385778</td>\n",
       "      <td>4.673080</td>\n",
       "      <td>2.080326</td>\n",
       "      <td>2.724638</td>\n",
       "      <td>219.227941</td>\n",
       "      <td>736.623188</td>\n",
       "    </tr>\n",
       "    <tr>\n",
       "      <th>std</th>\n",
       "      <td>12.301738</td>\n",
       "      <td>5.151458</td>\n",
       "      <td>2.938105</td>\n",
       "      <td>6.671399</td>\n",
       "      <td>231.864295</td>\n",
       "      <td>1742.379027</td>\n",
       "    </tr>\n",
       "    <tr>\n",
       "      <th>min</th>\n",
       "      <td>15.830000</td>\n",
       "      <td>0.000000</td>\n",
       "      <td>0.000000</td>\n",
       "      <td>0.000000</td>\n",
       "      <td>0.000000</td>\n",
       "      <td>0.000000</td>\n",
       "    </tr>\n",
       "    <tr>\n",
       "      <th>25%</th>\n",
       "      <td>24.205000</td>\n",
       "      <td>0.970000</td>\n",
       "      <td>0.125000</td>\n",
       "      <td>0.000000</td>\n",
       "      <td>98.250000</td>\n",
       "      <td>0.000000</td>\n",
       "    </tr>\n",
       "    <tr>\n",
       "      <th>50%</th>\n",
       "      <td>29.500000</td>\n",
       "      <td>2.750000</td>\n",
       "      <td>0.980000</td>\n",
       "      <td>0.000000</td>\n",
       "      <td>171.000000</td>\n",
       "      <td>8.500000</td>\n",
       "    </tr>\n",
       "    <tr>\n",
       "      <th>75%</th>\n",
       "      <td>38.500000</td>\n",
       "      <td>5.781250</td>\n",
       "      <td>2.500000</td>\n",
       "      <td>3.000000</td>\n",
       "      <td>305.000000</td>\n",
       "      <td>500.000000</td>\n",
       "    </tr>\n",
       "    <tr>\n",
       "      <th>max</th>\n",
       "      <td>76.750000</td>\n",
       "      <td>25.085000</td>\n",
       "      <td>13.875000</td>\n",
       "      <td>67.000000</td>\n",
       "      <td>2000.000000</td>\n",
       "      <td>11177.000000</td>\n",
       "    </tr>\n",
       "  </tbody>\n",
       "</table>\n",
       "</div>"
      ],
      "text/plain": [
       "                B           C           H           K            N  \\\n",
       "count  135.000000  138.000000  138.000000  138.000000   136.000000   \n",
       "mean    32.385778    4.673080    2.080326    2.724638   219.227941   \n",
       "std     12.301738    5.151458    2.938105    6.671399   231.864295   \n",
       "min     15.830000    0.000000    0.000000    0.000000     0.000000   \n",
       "25%     24.205000    0.970000    0.125000    0.000000    98.250000   \n",
       "50%     29.500000    2.750000    0.980000    0.000000   171.000000   \n",
       "75%     38.500000    5.781250    2.500000    3.000000   305.000000   \n",
       "max     76.750000   25.085000   13.875000   67.000000  2000.000000   \n",
       "\n",
       "                  O  \n",
       "count    138.000000  \n",
       "mean     736.623188  \n",
       "std     1742.379027  \n",
       "min        0.000000  \n",
       "25%        0.000000  \n",
       "50%        8.500000  \n",
       "75%      500.000000  \n",
       "max    11177.000000  "
      ]
     },
     "execution_count": 266,
     "metadata": {},
     "output_type": "execute_result"
    }
   ],
   "source": [
    "test_data[continuous_cols].describe()"
   ]
  },
  {
   "cell_type": "code",
   "execution_count": 267,
   "metadata": {},
   "outputs": [
    {
     "data": {
      "text/html": [
       "<div>\n",
       "<style scoped>\n",
       "    .dataframe tbody tr th:only-of-type {\n",
       "        vertical-align: middle;\n",
       "    }\n",
       "\n",
       "    .dataframe tbody tr th {\n",
       "        vertical-align: top;\n",
       "    }\n",
       "\n",
       "    .dataframe thead th {\n",
       "        text-align: right;\n",
       "    }\n",
       "</style>\n",
       "<table border=\"1\" class=\"dataframe\">\n",
       "  <thead>\n",
       "    <tr style=\"text-align: right;\">\n",
       "      <th></th>\n",
       "      <th>B</th>\n",
       "      <th>C</th>\n",
       "      <th>H</th>\n",
       "      <th>K</th>\n",
       "      <th>N</th>\n",
       "      <th>O</th>\n",
       "    </tr>\n",
       "  </thead>\n",
       "  <tbody>\n",
       "    <tr>\n",
       "      <th>count</th>\n",
       "      <td>138.000000</td>\n",
       "      <td>138.000000</td>\n",
       "      <td>138.000000</td>\n",
       "      <td>138.000000</td>\n",
       "      <td>138.000000</td>\n",
       "      <td>138.000000</td>\n",
       "    </tr>\n",
       "    <tr>\n",
       "      <th>mean</th>\n",
       "      <td>32.360083</td>\n",
       "      <td>4.673080</td>\n",
       "      <td>2.080326</td>\n",
       "      <td>2.724638</td>\n",
       "      <td>218.547764</td>\n",
       "      <td>736.623188</td>\n",
       "    </tr>\n",
       "    <tr>\n",
       "      <th>std</th>\n",
       "      <td>12.167531</td>\n",
       "      <td>5.151458</td>\n",
       "      <td>2.938105</td>\n",
       "      <td>6.671399</td>\n",
       "      <td>230.234462</td>\n",
       "      <td>1742.379027</td>\n",
       "    </tr>\n",
       "    <tr>\n",
       "      <th>min</th>\n",
       "      <td>15.830000</td>\n",
       "      <td>0.000000</td>\n",
       "      <td>0.000000</td>\n",
       "      <td>0.000000</td>\n",
       "      <td>0.000000</td>\n",
       "      <td>0.000000</td>\n",
       "    </tr>\n",
       "    <tr>\n",
       "      <th>25%</th>\n",
       "      <td>24.330000</td>\n",
       "      <td>0.970000</td>\n",
       "      <td>0.125000</td>\n",
       "      <td>0.000000</td>\n",
       "      <td>99.250000</td>\n",
       "      <td>0.000000</td>\n",
       "    </tr>\n",
       "    <tr>\n",
       "      <th>50%</th>\n",
       "      <td>29.835000</td>\n",
       "      <td>2.750000</td>\n",
       "      <td>0.980000</td>\n",
       "      <td>0.000000</td>\n",
       "      <td>172.295749</td>\n",
       "      <td>8.500000</td>\n",
       "    </tr>\n",
       "    <tr>\n",
       "      <th>75%</th>\n",
       "      <td>38.377500</td>\n",
       "      <td>5.781250</td>\n",
       "      <td>2.500000</td>\n",
       "      <td>3.000000</td>\n",
       "      <td>302.250000</td>\n",
       "      <td>500.000000</td>\n",
       "    </tr>\n",
       "    <tr>\n",
       "      <th>max</th>\n",
       "      <td>76.750000</td>\n",
       "      <td>25.085000</td>\n",
       "      <td>13.875000</td>\n",
       "      <td>67.000000</td>\n",
       "      <td>2000.000000</td>\n",
       "      <td>11177.000000</td>\n",
       "    </tr>\n",
       "  </tbody>\n",
       "</table>\n",
       "</div>"
      ],
      "text/plain": [
       "                B           C           H           K            N  \\\n",
       "count  138.000000  138.000000  138.000000  138.000000   138.000000   \n",
       "mean    32.360083    4.673080    2.080326    2.724638   218.547764   \n",
       "std     12.167531    5.151458    2.938105    6.671399   230.234462   \n",
       "min     15.830000    0.000000    0.000000    0.000000     0.000000   \n",
       "25%     24.330000    0.970000    0.125000    0.000000    99.250000   \n",
       "50%     29.835000    2.750000    0.980000    0.000000   172.295749   \n",
       "75%     38.377500    5.781250    2.500000    3.000000   302.250000   \n",
       "max     76.750000   25.085000   13.875000   67.000000  2000.000000   \n",
       "\n",
       "                  O  \n",
       "count    138.000000  \n",
       "mean     736.623188  \n",
       "std     1742.379027  \n",
       "min        0.000000  \n",
       "25%        0.000000  \n",
       "50%        8.500000  \n",
       "75%      500.000000  \n",
       "max    11177.000000  "
      ]
     },
     "execution_count": 267,
     "metadata": {},
     "output_type": "execute_result"
    }
   ],
   "source": [
    "test_data_after_nans =test_data[continuous_cols].fillna(train_data_after_outliers.mean())\n",
    "test_data_after_nans.describe()"
   ]
  },
  {
   "cell_type": "markdown",
   "metadata": {},
   "source": [
    "## Normalization"
   ]
  },
  {
   "cell_type": "code",
   "execution_count": 268,
   "metadata": {},
   "outputs": [],
   "source": [
    "def normalization_using_train(pd_series):\n",
    "    name_series = pd_series.name\n",
    "    pd_series_new = (pd_series - train_data_after_nans[name_series].mean())/train_data_after_nans[name_series].std()\n",
    "    return pd_series_new"
   ]
  },
  {
   "cell_type": "code",
   "execution_count": 269,
   "metadata": {},
   "outputs": [
    {
     "data": {
      "text/html": [
       "<div>\n",
       "<style scoped>\n",
       "    .dataframe tbody tr th:only-of-type {\n",
       "        vertical-align: middle;\n",
       "    }\n",
       "\n",
       "    .dataframe tbody tr th {\n",
       "        vertical-align: top;\n",
       "    }\n",
       "\n",
       "    .dataframe thead th {\n",
       "        text-align: right;\n",
       "    }\n",
       "</style>\n",
       "<table border=\"1\" class=\"dataframe\">\n",
       "  <thead>\n",
       "    <tr style=\"text-align: right;\">\n",
       "      <th></th>\n",
       "      <th>B</th>\n",
       "      <th>C</th>\n",
       "      <th>H</th>\n",
       "      <th>K</th>\n",
       "      <th>N</th>\n",
       "      <th>O</th>\n",
       "    </tr>\n",
       "  </thead>\n",
       "  <tbody>\n",
       "    <tr>\n",
       "      <th>count</th>\n",
       "      <td>138.000000</td>\n",
       "      <td>138.000000</td>\n",
       "      <td>138.000000</td>\n",
       "      <td>138.000000</td>\n",
       "      <td>1.380000e+02</td>\n",
       "      <td>138.000000</td>\n",
       "    </tr>\n",
       "    <tr>\n",
       "      <th>mean</th>\n",
       "      <td>0.102274</td>\n",
       "      <td>-0.002837</td>\n",
       "      <td>0.110273</td>\n",
       "      <td>0.352324</td>\n",
       "      <td>3.245724e-01</td>\n",
       "      <td>1.455143</td>\n",
       "    </tr>\n",
       "    <tr>\n",
       "      <th>std</th>\n",
       "      <td>1.076224</td>\n",
       "      <td>1.115172</td>\n",
       "      <td>1.398677</td>\n",
       "      <td>2.471380</td>\n",
       "      <td>1.615665e+00</td>\n",
       "      <td>4.993153</td>\n",
       "    </tr>\n",
       "    <tr>\n",
       "      <th>min</th>\n",
       "      <td>-1.359821</td>\n",
       "      <td>-1.014452</td>\n",
       "      <td>-0.880060</td>\n",
       "      <td>-0.657001</td>\n",
       "      <td>-1.209081e+00</td>\n",
       "      <td>-0.655805</td>\n",
       "    </tr>\n",
       "    <tr>\n",
       "      <th>25%</th>\n",
       "      <td>-0.607991</td>\n",
       "      <td>-0.804469</td>\n",
       "      <td>-0.820554</td>\n",
       "      <td>-0.657001</td>\n",
       "      <td>-5.125968e-01</td>\n",
       "      <td>-0.655805</td>\n",
       "    </tr>\n",
       "    <tr>\n",
       "      <th>50%</th>\n",
       "      <td>-0.121071</td>\n",
       "      <td>-0.419140</td>\n",
       "      <td>-0.413534</td>\n",
       "      <td>-0.657001</td>\n",
       "      <td>1.994487e-16</td>\n",
       "      <td>-0.631446</td>\n",
       "    </tr>\n",
       "    <tr>\n",
       "      <th>75%</th>\n",
       "      <td>0.634517</td>\n",
       "      <td>0.237056</td>\n",
       "      <td>0.310058</td>\n",
       "      <td>0.454331</td>\n",
       "      <td>9.119508e-01</td>\n",
       "      <td>0.777050</td>\n",
       "    </tr>\n",
       "    <tr>\n",
       "      <th>max</th>\n",
       "      <td>4.028584</td>\n",
       "      <td>4.415876</td>\n",
       "      <td>5.725095</td>\n",
       "      <td>24.162745</td>\n",
       "      <td>1.282587e+01</td>\n",
       "      <td>31.374235</td>\n",
       "    </tr>\n",
       "  </tbody>\n",
       "</table>\n",
       "</div>"
      ],
      "text/plain": [
       "                B           C           H           K             N  \\\n",
       "count  138.000000  138.000000  138.000000  138.000000  1.380000e+02   \n",
       "mean     0.102274   -0.002837    0.110273    0.352324  3.245724e-01   \n",
       "std      1.076224    1.115172    1.398677    2.471380  1.615665e+00   \n",
       "min     -1.359821   -1.014452   -0.880060   -0.657001 -1.209081e+00   \n",
       "25%     -0.607991   -0.804469   -0.820554   -0.657001 -5.125968e-01   \n",
       "50%     -0.121071   -0.419140   -0.413534   -0.657001  1.994487e-16   \n",
       "75%      0.634517    0.237056    0.310058    0.454331  9.119508e-01   \n",
       "max      4.028584    4.415876    5.725095   24.162745  1.282587e+01   \n",
       "\n",
       "                O  \n",
       "count  138.000000  \n",
       "mean     1.455143  \n",
       "std      4.993153  \n",
       "min     -0.655805  \n",
       "25%     -0.655805  \n",
       "50%     -0.631446  \n",
       "75%      0.777050  \n",
       "max     31.374235  "
      ]
     },
     "execution_count": 269,
     "metadata": {},
     "output_type": "execute_result"
    }
   ],
   "source": [
    "test_data_after_normalization = test_data_after_nans.apply(normalization_using_train)\n",
    "test_data_after_normalization.describe()"
   ]
  },
  {
   "cell_type": "markdown",
   "metadata": {},
   "source": [
    "## Final Test Dataset after Cleaning"
   ]
  },
  {
   "cell_type": "code",
   "execution_count": 270,
   "metadata": {},
   "outputs": [
    {
     "data": {
      "text/plain": [
       "(138, 47)"
      ]
     },
     "execution_count": 270,
     "metadata": {},
     "output_type": "execute_result"
    }
   ],
   "source": [
    "test_data_after_clean = pd.concat([test_data['id'],test_data_after_normalization,test_data_after_dummies],axis = 1)\n",
    "test_data_after_clean.shape"
   ]
  },
  {
   "cell_type": "markdown",
   "metadata": {},
   "source": [
    "# XGBoost - Modelling"
   ]
  },
  {
   "cell_type": "code",
   "execution_count": 300,
   "metadata": {},
   "outputs": [],
   "source": [
    "xgb_model = xgboost.XGBClassifier(seed = 1, nthread=1)"
   ]
  },
  {
   "cell_type": "code",
   "execution_count": 302,
   "metadata": {},
   "outputs": [
    {
     "name": "stdout",
     "output_type": "stream",
     "text": [
      "Accuracy: -31.40 (3.32)\n"
     ]
    }
   ],
   "source": [
    "kfold = sklearn.model_selection.StratifiedKFold(n_splits=4, random_state=1)\n",
    "results = sklearn.model_selection.cross_val_score(xgb_model, train_data_after_clean.drop(target_col, axis = 1), train_data_after_clean[target_col[0]], cv=kfold, scoring = 'neg_log_loss')\n",
    "print(\"Accuracy: %.2f (%.2f)\" % (results.mean()*100, results.std()*100))"
   ]
  },
  {
   "cell_type": "code",
   "execution_count": 303,
   "metadata": {},
   "outputs": [
    {
     "data": {
      "text/plain": [
       "{'base_score': 0.5,\n",
       " 'booster': 'gbtree',\n",
       " 'colsample_bylevel': 1,\n",
       " 'colsample_bytree': 1,\n",
       " 'gamma': 0,\n",
       " 'learning_rate': 0.1,\n",
       " 'max_delta_step': 0,\n",
       " 'max_depth': 3,\n",
       " 'min_child_weight': 1,\n",
       " 'missing': None,\n",
       " 'n_estimators': 100,\n",
       " 'n_jobs': 1,\n",
       " 'nthread': 1,\n",
       " 'objective': 'binary:logistic',\n",
       " 'random_state': 0,\n",
       " 'reg_alpha': 0,\n",
       " 'reg_lambda': 1,\n",
       " 'scale_pos_weight': 1,\n",
       " 'seed': 1,\n",
       " 'silent': True,\n",
       " 'subsample': 1}"
      ]
     },
     "execution_count": 303,
     "metadata": {},
     "output_type": "execute_result"
    }
   ],
   "source": [
    "xgb_model.get_params()"
   ]
  },
  {
   "cell_type": "code",
   "execution_count": 69,
   "metadata": {},
   "outputs": [
    {
     "data": {
      "text/plain": [
       "array(['B', 'C', 'H', 'K', 'N', 'O', 'A_a', 'A_b', 'D_l', 'D_u', 'D_y',\n",
       "       'E_g', 'E_gg', 'E_p', 'F_aa', 'F_c', 'F_cc', 'F_d', 'F_e', 'F_ff',\n",
       "       'F_i', 'F_j', 'F_k', 'F_m', 'F_q', 'F_r', 'F_w', 'F_x', 'G_bb',\n",
       "       'G_dd', 'G_ff', 'G_h', 'G_j', 'G_n', 'G_o', 'G_v', 'G_z', 'I_f',\n",
       "       'I_t', 'J_f', 'J_t', 'L_f', 'L_t', 'M_g', 'M_p', 'M_s'],\n",
       "      dtype=object)"
      ]
     },
     "execution_count": 69,
     "metadata": {},
     "output_type": "execute_result"
    }
   ],
   "source": [
    "predictors = train_data_after_clean.columns.values[train_data_after_clean.columns.values!=target_col[0]]\n",
    "predictors"
   ]
  },
  {
   "cell_type": "code",
   "execution_count": 164,
   "metadata": {
    "scrolled": true
   },
   "outputs": [
    {
     "data": {
      "text/plain": [
       "0.552536231884058"
      ]
     },
     "execution_count": 164,
     "metadata": {},
     "output_type": "execute_result"
    }
   ],
   "source": [
    "train_data_after_clean[target_col[0]].sum()/train_data_after_clean.shape[0]"
   ]
  },
  {
   "cell_type": "code",
   "execution_count": 132,
   "metadata": {
    "scrolled": false
   },
   "outputs": [
    {
     "name": "stderr",
     "output_type": "stream",
     "text": [
      "C:\\ProgramData\\Anaconda3\\lib\\site-packages\\sklearn\\model_selection\\_search.py:761: DeprecationWarning: The grid_scores_ attribute was deprecated in version 0.18 in favor of the more elaborate cv_results_ attribute. The grid_scores_ attribute will not be available from 0.20\n",
      "  DeprecationWarning)\n"
     ]
    },
    {
     "data": {
      "text/plain": [
       "([mean: -0.31993, std: 0.02023, params: {'learning_rate': 0.3, 'n_estimators': 10},\n",
       "  mean: -0.31068, std: 0.03080, params: {'learning_rate': 0.3, 'n_estimators': 20},\n",
       "  mean: -0.31526, std: 0.02720, params: {'learning_rate': 0.3, 'n_estimators': 30},\n",
       "  mean: -0.32358, std: 0.03130, params: {'learning_rate': 0.3, 'n_estimators': 40},\n",
       "  mean: -0.33326, std: 0.03462, params: {'learning_rate': 0.3, 'n_estimators': 50},\n",
       "  mean: -0.33496, std: 0.03904, params: {'learning_rate': 0.3, 'n_estimators': 60},\n",
       "  mean: -0.33886, std: 0.03627, params: {'learning_rate': 0.3, 'n_estimators': 70},\n",
       "  mean: -0.33914, std: 0.03356, params: {'learning_rate': 0.3, 'n_estimators': 80},\n",
       "  mean: -0.35114, std: 0.03631, params: {'learning_rate': 0.3, 'n_estimators': 90},\n",
       "  mean: -0.32861, std: 0.01815, params: {'learning_rate': 0.25, 'n_estimators': 10},\n",
       "  mean: -0.31525, std: 0.02675, params: {'learning_rate': 0.25, 'n_estimators': 20},\n",
       "  mean: -0.31052, std: 0.02549, params: {'learning_rate': 0.25, 'n_estimators': 30},\n",
       "  mean: -0.31338, std: 0.02487, params: {'learning_rate': 0.25, 'n_estimators': 40},\n",
       "  mean: -0.31916, std: 0.03108, params: {'learning_rate': 0.25, 'n_estimators': 50},\n",
       "  mean: -0.32566, std: 0.02863, params: {'learning_rate': 0.25, 'n_estimators': 60},\n",
       "  mean: -0.32864, std: 0.02910, params: {'learning_rate': 0.25, 'n_estimators': 70},\n",
       "  mean: -0.33165, std: 0.02757, params: {'learning_rate': 0.25, 'n_estimators': 80},\n",
       "  mean: -0.34094, std: 0.03277, params: {'learning_rate': 0.25, 'n_estimators': 90},\n",
       "  mean: -0.33470, std: 0.01858, params: {'learning_rate': 0.2, 'n_estimators': 10},\n",
       "  mean: -0.31138, std: 0.02988, params: {'learning_rate': 0.2, 'n_estimators': 20},\n",
       "  mean: -0.30473, std: 0.02591, params: {'learning_rate': 0.2, 'n_estimators': 30},\n",
       "  mean: -0.30617, std: 0.02827, params: {'learning_rate': 0.2, 'n_estimators': 40},\n",
       "  mean: -0.31269, std: 0.03014, params: {'learning_rate': 0.2, 'n_estimators': 50},\n",
       "  mean: -0.31801, std: 0.02893, params: {'learning_rate': 0.2, 'n_estimators': 60},\n",
       "  mean: -0.32293, std: 0.02971, params: {'learning_rate': 0.2, 'n_estimators': 70},\n",
       "  mean: -0.32617, std: 0.03227, params: {'learning_rate': 0.2, 'n_estimators': 80},\n",
       "  mean: -0.33196, std: 0.03494, params: {'learning_rate': 0.2, 'n_estimators': 90},\n",
       "  mean: -0.35629, std: 0.01547, params: {'learning_rate': 0.15, 'n_estimators': 10},\n",
       "  mean: -0.31304, std: 0.02057, params: {'learning_rate': 0.15, 'n_estimators': 20},\n",
       "  mean: -0.30601, std: 0.02481, params: {'learning_rate': 0.15, 'n_estimators': 30},\n",
       "  mean: -0.30424, std: 0.02706, params: {'learning_rate': 0.15, 'n_estimators': 40},\n",
       "  mean: -0.30231, std: 0.02925, params: {'learning_rate': 0.15, 'n_estimators': 50},\n",
       "  mean: -0.30676, std: 0.03260, params: {'learning_rate': 0.15, 'n_estimators': 60},\n",
       "  mean: -0.30610, std: 0.03451, params: {'learning_rate': 0.15, 'n_estimators': 70},\n",
       "  mean: -0.30802, std: 0.03586, params: {'learning_rate': 0.15, 'n_estimators': 80},\n",
       "  mean: -0.31233, std: 0.03864, params: {'learning_rate': 0.15, 'n_estimators': 90},\n",
       "  mean: -0.40314, std: 0.01233, params: {'learning_rate': 0.1, 'n_estimators': 10},\n",
       "  mean: -0.32872, std: 0.01902, params: {'learning_rate': 0.1, 'n_estimators': 20},\n",
       "  mean: -0.30648, std: 0.02599, params: {'learning_rate': 0.1, 'n_estimators': 30},\n",
       "  mean: -0.30265, std: 0.02687, params: {'learning_rate': 0.1, 'n_estimators': 40},\n",
       "  mean: -0.30075, std: 0.02875, params: {'learning_rate': 0.1, 'n_estimators': 50},\n",
       "  mean: -0.29991, std: 0.02961, params: {'learning_rate': 0.1, 'n_estimators': 60},\n",
       "  mean: -0.29871, std: 0.02833, params: {'learning_rate': 0.1, 'n_estimators': 70},\n",
       "  mean: -0.30042, std: 0.03027, params: {'learning_rate': 0.1, 'n_estimators': 80},\n",
       "  mean: -0.30148, std: 0.03187, params: {'learning_rate': 0.1, 'n_estimators': 90},\n",
       "  mean: -0.49621, std: 0.01193, params: {'learning_rate': 0.05, 'n_estimators': 10},\n",
       "  mean: -0.40498, std: 0.01524, params: {'learning_rate': 0.05, 'n_estimators': 20},\n",
       "  mean: -0.35608, std: 0.01928, params: {'learning_rate': 0.05, 'n_estimators': 30},\n",
       "  mean: -0.33304, std: 0.02303, params: {'learning_rate': 0.05, 'n_estimators': 40},\n",
       "  mean: -0.31930, std: 0.02388, params: {'learning_rate': 0.05, 'n_estimators': 50},\n",
       "  mean: -0.31236, std: 0.02623, params: {'learning_rate': 0.05, 'n_estimators': 60},\n",
       "  mean: -0.30672, std: 0.02664, params: {'learning_rate': 0.05, 'n_estimators': 70},\n",
       "  mean: -0.30180, std: 0.02864, params: {'learning_rate': 0.05, 'n_estimators': 80},\n",
       "  mean: -0.30100, std: 0.02962, params: {'learning_rate': 0.05, 'n_estimators': 90}],\n",
       " {'learning_rate': 0.1, 'n_estimators': 70},\n",
       " -0.2987110325745044)"
      ]
     },
     "execution_count": 132,
     "metadata": {},
     "output_type": "execute_result"
    }
   ],
   "source": [
    "gridsearch_sample = sklearn.model_selection.GridSearchCV(estimator = xgboost.XGBClassifier(seed = 1\n",
    "                                                                                           , base_score = train_data_after_clean[target_col[0]].sum()/train_data_after_clean.shape[0]\n",
    "                                                                                           , nthread=1\n",
    "                                                                                           , max_depth = 5\n",
    "                                                                                           , min_child_weight = 1\n",
    "                                                                                           , gamma = 0\n",
    "                                                                                           , subsample = 0.8\n",
    "                                                                                           , colsample_bytree = 0.8\n",
    "                                                                                           , scale_pos_weight = 1),\n",
    "                                     param_grid={\n",
    "                                         'learning_rate':[i/20.0 for i in range(6,0,-1)],\n",
    "                                         'n_estimators':range(10,100,10)\n",
    "                                     },         \n",
    "                                     scoring = 'neg_log_loss',\n",
    "                                     n_jobs= 1,\n",
    "                                     iid = False,\n",
    "                                     cv = 4)\n",
    "gridsearch_sample.fit(train_data_after_clean[predictors],train_data_after_clean[target_col[0]])\n",
    "gridsearch_sample.grid_scores_, gridsearch_sample.best_params_, gridsearch_sample.best_score_"
   ]
  },
  {
   "cell_type": "code",
   "execution_count": 137,
   "metadata": {},
   "outputs": [
    {
     "name": "stderr",
     "output_type": "stream",
     "text": [
      "C:\\ProgramData\\Anaconda3\\lib\\site-packages\\sklearn\\model_selection\\_search.py:761: DeprecationWarning: The grid_scores_ attribute was deprecated in version 0.18 in favor of the more elaborate cv_results_ attribute. The grid_scores_ attribute will not be available from 0.20\n",
      "  DeprecationWarning)\n"
     ]
    },
    {
     "data": {
      "text/plain": [
       "([mean: -0.32997, std: 0.01865, params: {'max_depth': 1, 'min_child_weight': 0.9},\n",
       "  mean: -0.32997, std: 0.01865, params: {'max_depth': 1, 'min_child_weight': 1.0},\n",
       "  mean: -0.32997, std: 0.01865, params: {'max_depth': 1, 'min_child_weight': 1.1},\n",
       "  mean: -0.30475, std: 0.02575, params: {'max_depth': 2, 'min_child_weight': 0.9},\n",
       "  mean: -0.30656, std: 0.02570, params: {'max_depth': 2, 'min_child_weight': 1.0},\n",
       "  mean: -0.30778, std: 0.02491, params: {'max_depth': 2, 'min_child_weight': 1.1},\n",
       "  mean: -0.30018, std: 0.02889, params: {'max_depth': 3, 'min_child_weight': 0.9},\n",
       "  mean: -0.30173, std: 0.03152, params: {'max_depth': 3, 'min_child_weight': 1.0},\n",
       "  mean: -0.30285, std: 0.03074, params: {'max_depth': 3, 'min_child_weight': 1.1},\n",
       "  mean: -0.29864, std: 0.03327, params: {'max_depth': 4, 'min_child_weight': 0.9},\n",
       "  mean: -0.29669, std: 0.03899, params: {'max_depth': 4, 'min_child_weight': 1.0},\n",
       "  mean: -0.30040, std: 0.03512, params: {'max_depth': 4, 'min_child_weight': 1.1},\n",
       "  mean: -0.29593, std: 0.03961, params: {'max_depth': 5, 'min_child_weight': 0.9},\n",
       "  mean: -0.29871, std: 0.02833, params: {'max_depth': 5, 'min_child_weight': 1.0},\n",
       "  mean: -0.30017, std: 0.02834, params: {'max_depth': 5, 'min_child_weight': 1.1},\n",
       "  mean: -0.30088, std: 0.03343, params: {'max_depth': 6, 'min_child_weight': 0.9},\n",
       "  mean: -0.30711, std: 0.03602, params: {'max_depth': 6, 'min_child_weight': 1.0},\n",
       "  mean: -0.30574, std: 0.03413, params: {'max_depth': 6, 'min_child_weight': 1.1},\n",
       "  mean: -0.30714, std: 0.03550, params: {'max_depth': 7, 'min_child_weight': 0.9},\n",
       "  mean: -0.30681, std: 0.03270, params: {'max_depth': 7, 'min_child_weight': 1.0},\n",
       "  mean: -0.30803, std: 0.03004, params: {'max_depth': 7, 'min_child_weight': 1.1},\n",
       "  mean: -0.30503, std: 0.03217, params: {'max_depth': 8, 'min_child_weight': 0.9},\n",
       "  mean: -0.30737, std: 0.03490, params: {'max_depth': 8, 'min_child_weight': 1.0},\n",
       "  mean: -0.30662, std: 0.02861, params: {'max_depth': 8, 'min_child_weight': 1.1},\n",
       "  mean: -0.30714, std: 0.03790, params: {'max_depth': 9, 'min_child_weight': 0.9},\n",
       "  mean: -0.30988, std: 0.03494, params: {'max_depth': 9, 'min_child_weight': 1.0},\n",
       "  mean: -0.30356, std: 0.03342, params: {'max_depth': 9, 'min_child_weight': 1.1}],\n",
       " {'max_depth': 5, 'min_child_weight': 0.9},\n",
       " -0.2959286795564924)"
      ]
     },
     "execution_count": 137,
     "metadata": {},
     "output_type": "execute_result"
    }
   ],
   "source": [
    "gridsearch_sample_1 = sklearn.model_selection.GridSearchCV(estimator = xgboost.XGBClassifier(seed = 1\n",
    "                                                                                           , learning_rate = 0.1\n",
    "                                                                                           , n_estimators = 70\n",
    "                                                                                           , base_score = train_data_after_clean[target_col[0]].sum()/train_data_after_clean.shape[0]\n",
    "                                                                                           , nthread=1\n",
    "#                                                                                            , max_depth = 5\n",
    "#                                                                                            , min_child_weight = 1\n",
    "                                                                                           , gamma = 0\n",
    "                                                                                           , subsample = 0.8\n",
    "                                                                                           , colsample_bytree = 0.8\n",
    "                                                                                           , scale_pos_weight = 1),\n",
    "                                     param_grid={\n",
    "                                         'max_depth':range(1,10),\n",
    "                                         'min_child_weight': [i/10 for i in range(9,12)]\n",
    "                                     },         \n",
    "                                     scoring = 'neg_log_loss',\n",
    "                                     n_jobs= 1,\n",
    "                                     iid = False,\n",
    "                                     cv = 4)\n",
    "gridsearch_sample_1.fit(train_data_after_clean[predictors],train_data_after_clean[target_col[0]])\n",
    "gridsearch_sample_1.grid_scores_, gridsearch_sample_1.best_params_, gridsearch_sample_1.best_score_"
   ]
  },
  {
   "cell_type": "code",
   "execution_count": 139,
   "metadata": {},
   "outputs": [
    {
     "name": "stderr",
     "output_type": "stream",
     "text": [
      "C:\\ProgramData\\Anaconda3\\lib\\site-packages\\sklearn\\model_selection\\_search.py:761: DeprecationWarning: The grid_scores_ attribute was deprecated in version 0.18 in favor of the more elaborate cv_results_ attribute. The grid_scores_ attribute will not be available from 0.20\n",
      "  DeprecationWarning)\n"
     ]
    },
    {
     "data": {
      "text/plain": [
       "([mean: -0.29593, std: 0.03961, params: {'gamma': 0.0},\n",
       "  mean: -0.29866, std: 0.03524, params: {'gamma': 0.1},\n",
       "  mean: -0.30359, std: 0.03860, params: {'gamma': 0.2},\n",
       "  mean: -0.30081, std: 0.03628, params: {'gamma': 0.3},\n",
       "  mean: -0.29542, std: 0.03216, params: {'gamma': 0.4},\n",
       "  mean: -0.29911, std: 0.03396, params: {'gamma': 0.5},\n",
       "  mean: -0.29588, std: 0.02975, params: {'gamma': 0.6},\n",
       "  mean: -0.29378, std: 0.03196, params: {'gamma': 0.7},\n",
       "  mean: -0.29605, std: 0.03248, params: {'gamma': 0.8},\n",
       "  mean: -0.29798, std: 0.02604, params: {'gamma': 0.9},\n",
       "  mean: -0.30253, std: 0.03068, params: {'gamma': 1.0}],\n",
       " {'gamma': 0.7},\n",
       " -0.29378421285864265)"
      ]
     },
     "execution_count": 139,
     "metadata": {},
     "output_type": "execute_result"
    }
   ],
   "source": [
    "gridsearch_sample_1 = sklearn.model_selection.GridSearchCV(estimator = xgboost.XGBClassifier(seed = 1\n",
    "                                                                                           , learning_rate = 0.1\n",
    "                                                                                           , n_estimators = 70\n",
    "                                                                                           , base_score = train_data_after_clean[target_col[0]].sum()/train_data_after_clean.shape[0]\n",
    "                                                                                           , nthread=1\n",
    "                                                                                           , max_depth = 5\n",
    "                                                                                           , min_child_weight = 0.9\n",
    "#                                                                                            , gamma = 0\n",
    "                                                                                           , subsample = 0.8\n",
    "                                                                                           , colsample_bytree = 0.8\n",
    "                                                                                           , scale_pos_weight = 1),\n",
    "                                     param_grid={\n",
    "                                         'gamma': [i/10.0 for i in range(0,11)]\n",
    "                                     },         \n",
    "                                     scoring = 'neg_log_loss',\n",
    "                                     n_jobs= 1,\n",
    "                                     iid = False,\n",
    "                                     cv = 4)\n",
    "gridsearch_sample_1.fit(train_data_after_clean[predictors],train_data_after_clean[target_col[0]])\n",
    "gridsearch_sample_1.grid_scores_, gridsearch_sample_1.best_params_, gridsearch_sample_1.best_score_"
   ]
  },
  {
   "cell_type": "code",
   "execution_count": 141,
   "metadata": {},
   "outputs": [
    {
     "name": "stderr",
     "output_type": "stream",
     "text": [
      "C:\\ProgramData\\Anaconda3\\lib\\site-packages\\sklearn\\model_selection\\_search.py:761: DeprecationWarning: The grid_scores_ attribute was deprecated in version 0.18 in favor of the more elaborate cv_results_ attribute. The grid_scores_ attribute will not be available from 0.20\n",
      "  DeprecationWarning)\n"
     ]
    },
    {
     "data": {
      "text/plain": [
       "([mean: -0.32192, std: 0.03272, params: {'learning_rate': 0.3, 'n_estimators': 50},\n",
       "  mean: -0.32316, std: 0.03095, params: {'learning_rate': 0.3, 'n_estimators': 55},\n",
       "  mean: -0.32382, std: 0.03082, params: {'learning_rate': 0.3, 'n_estimators': 60},\n",
       "  mean: -0.32708, std: 0.03426, params: {'learning_rate': 0.3, 'n_estimators': 65},\n",
       "  mean: -0.32917, std: 0.03591, params: {'learning_rate': 0.3, 'n_estimators': 70},\n",
       "  mean: -0.32860, std: 0.03496, params: {'learning_rate': 0.3, 'n_estimators': 75},\n",
       "  mean: -0.33117, std: 0.03709, params: {'learning_rate': 0.3, 'n_estimators': 80},\n",
       "  mean: -0.33267, std: 0.03613, params: {'learning_rate': 0.3, 'n_estimators': 85},\n",
       "  mean: -0.33487, std: 0.03704, params: {'learning_rate': 0.3, 'n_estimators': 90},\n",
       "  mean: -0.33489, std: 0.03654, params: {'learning_rate': 0.3, 'n_estimators': 95},\n",
       "  mean: -0.31223, std: 0.02023, params: {'learning_rate': 0.25, 'n_estimators': 50},\n",
       "  mean: -0.31573, std: 0.01645, params: {'learning_rate': 0.25, 'n_estimators': 55},\n",
       "  mean: -0.31696, std: 0.01584, params: {'learning_rate': 0.25, 'n_estimators': 60},\n",
       "  mean: -0.31771, std: 0.01684, params: {'learning_rate': 0.25, 'n_estimators': 65},\n",
       "  mean: -0.31936, std: 0.01773, params: {'learning_rate': 0.25, 'n_estimators': 70},\n",
       "  mean: -0.31963, std: 0.01676, params: {'learning_rate': 0.25, 'n_estimators': 75},\n",
       "  mean: -0.32084, std: 0.01765, params: {'learning_rate': 0.25, 'n_estimators': 80},\n",
       "  mean: -0.32344, std: 0.01870, params: {'learning_rate': 0.25, 'n_estimators': 85},\n",
       "  mean: -0.32609, std: 0.01906, params: {'learning_rate': 0.25, 'n_estimators': 90},\n",
       "  mean: -0.32668, std: 0.02038, params: {'learning_rate': 0.25, 'n_estimators': 95},\n",
       "  mean: -0.31027, std: 0.03031, params: {'learning_rate': 0.2, 'n_estimators': 50},\n",
       "  mean: -0.31291, std: 0.02696, params: {'learning_rate': 0.2, 'n_estimators': 55},\n",
       "  mean: -0.31452, std: 0.02495, params: {'learning_rate': 0.2, 'n_estimators': 60},\n",
       "  mean: -0.31162, std: 0.02484, params: {'learning_rate': 0.2, 'n_estimators': 65},\n",
       "  mean: -0.31364, std: 0.02360, params: {'learning_rate': 0.2, 'n_estimators': 70},\n",
       "  mean: -0.31377, std: 0.02367, params: {'learning_rate': 0.2, 'n_estimators': 75},\n",
       "  mean: -0.31249, std: 0.02373, params: {'learning_rate': 0.2, 'n_estimators': 80},\n",
       "  mean: -0.31184, std: 0.02215, params: {'learning_rate': 0.2, 'n_estimators': 85},\n",
       "  mean: -0.31315, std: 0.02183, params: {'learning_rate': 0.2, 'n_estimators': 90},\n",
       "  mean: -0.31322, std: 0.02199, params: {'learning_rate': 0.2, 'n_estimators': 95},\n",
       "  mean: -0.30426, std: 0.03277, params: {'learning_rate': 0.15, 'n_estimators': 50},\n",
       "  mean: -0.30636, std: 0.03239, params: {'learning_rate': 0.15, 'n_estimators': 55},\n",
       "  mean: -0.30749, std: 0.03120, params: {'learning_rate': 0.15, 'n_estimators': 60},\n",
       "  mean: -0.30639, std: 0.03289, params: {'learning_rate': 0.15, 'n_estimators': 65},\n",
       "  mean: -0.30735, std: 0.03349, params: {'learning_rate': 0.15, 'n_estimators': 70},\n",
       "  mean: -0.30807, std: 0.03322, params: {'learning_rate': 0.15, 'n_estimators': 75},\n",
       "  mean: -0.30848, std: 0.03280, params: {'learning_rate': 0.15, 'n_estimators': 80},\n",
       "  mean: -0.31042, std: 0.03192, params: {'learning_rate': 0.15, 'n_estimators': 85},\n",
       "  mean: -0.31191, std: 0.03264, params: {'learning_rate': 0.15, 'n_estimators': 90},\n",
       "  mean: -0.31124, std: 0.03423, params: {'learning_rate': 0.15, 'n_estimators': 95},\n",
       "  mean: -0.29465, std: 0.02824, params: {'learning_rate': 0.1, 'n_estimators': 50},\n",
       "  mean: -0.29466, std: 0.02878, params: {'learning_rate': 0.1, 'n_estimators': 55},\n",
       "  mean: -0.29484, std: 0.02946, params: {'learning_rate': 0.1, 'n_estimators': 60},\n",
       "  mean: -0.29341, std: 0.03057, params: {'learning_rate': 0.1, 'n_estimators': 65},\n",
       "  mean: -0.29378, std: 0.03196, params: {'learning_rate': 0.1, 'n_estimators': 70},\n",
       "  mean: -0.29296, std: 0.03273, params: {'learning_rate': 0.1, 'n_estimators': 75},\n",
       "  mean: -0.29319, std: 0.03365, params: {'learning_rate': 0.1, 'n_estimators': 80},\n",
       "  mean: -0.29333, std: 0.03310, params: {'learning_rate': 0.1, 'n_estimators': 85},\n",
       "  mean: -0.29468, std: 0.03413, params: {'learning_rate': 0.1, 'n_estimators': 90},\n",
       "  mean: -0.29521, std: 0.03524, params: {'learning_rate': 0.1, 'n_estimators': 95},\n",
       "  mean: -0.31796, std: 0.02366, params: {'learning_rate': 0.05, 'n_estimators': 50},\n",
       "  mean: -0.31436, std: 0.02458, params: {'learning_rate': 0.05, 'n_estimators': 55},\n",
       "  mean: -0.31053, std: 0.02475, params: {'learning_rate': 0.05, 'n_estimators': 60},\n",
       "  mean: -0.30845, std: 0.02651, params: {'learning_rate': 0.05, 'n_estimators': 65},\n",
       "  mean: -0.30619, std: 0.02579, params: {'learning_rate': 0.05, 'n_estimators': 70},\n",
       "  mean: -0.30367, std: 0.02725, params: {'learning_rate': 0.05, 'n_estimators': 75},\n",
       "  mean: -0.30239, std: 0.02708, params: {'learning_rate': 0.05, 'n_estimators': 80},\n",
       "  mean: -0.30134, std: 0.02728, params: {'learning_rate': 0.05, 'n_estimators': 85},\n",
       "  mean: -0.30166, std: 0.02820, params: {'learning_rate': 0.05, 'n_estimators': 90},\n",
       "  mean: -0.30186, std: 0.02938, params: {'learning_rate': 0.05, 'n_estimators': 95}],\n",
       " {'learning_rate': 0.1, 'n_estimators': 75},\n",
       " -0.2929583909635097)"
      ]
     },
     "execution_count": 141,
     "metadata": {},
     "output_type": "execute_result"
    }
   ],
   "source": [
    "gridsearch_sample_1 = sklearn.model_selection.GridSearchCV(estimator = xgboost.XGBClassifier(seed = 1\n",
    "                                                                                           , learning_rate = 0.1\n",
    "                                                                                           , n_estimators = 80\n",
    "                                                                                           , base_score = train_data_after_clean[target_col[0]].sum()/train_data_after_clean.shape[0]\n",
    "                                                                                           , nthread=1\n",
    "                                                                                           , max_depth = 5\n",
    "                                                                                           , min_child_weight = 0.9\n",
    "                                                                                           , gamma = 0.7\n",
    "                                                                                           , subsample = 0.8\n",
    "                                                                                           , colsample_bytree = 0.8\n",
    "                                                                                           , scale_pos_weight = 1),\n",
    "                                     param_grid={\n",
    "                                         'n_estimators': range(50,100,5),\n",
    "                                         'learning_rate':[i/20.0 for i in range(6,0,-1)],\n",
    "                                     },         \n",
    "                                     scoring = 'neg_log_loss',\n",
    "                                     n_jobs= 1,\n",
    "                                     iid = False,\n",
    "                                     cv = 4)\n",
    "gridsearch_sample_1.fit(train_data_after_clean[predictors],train_data_after_clean[target_col[0]])\n",
    "gridsearch_sample_1.grid_scores_, gridsearch_sample_1.best_params_, gridsearch_sample_1.best_score_"
   ]
  },
  {
   "cell_type": "code",
   "execution_count": 144,
   "metadata": {
    "scrolled": false
   },
   "outputs": [
    {
     "name": "stderr",
     "output_type": "stream",
     "text": [
      "C:\\ProgramData\\Anaconda3\\lib\\site-packages\\sklearn\\model_selection\\_search.py:761: DeprecationWarning: The grid_scores_ attribute was deprecated in version 0.18 in favor of the more elaborate cv_results_ attribute. The grid_scores_ attribute will not be available from 0.20\n",
      "  DeprecationWarning)\n"
     ]
    },
    {
     "data": {
      "text/plain": [
       "([mean: -0.32189, std: 0.02911, params: {'colsample_bytree': 0.4, 'subsample': 0.2},\n",
       "  mean: -0.31440, std: 0.02932, params: {'colsample_bytree': 0.4, 'subsample': 0.25},\n",
       "  mean: -0.31188, std: 0.03836, params: {'colsample_bytree': 0.4, 'subsample': 0.3},\n",
       "  mean: -0.31444, std: 0.02466, params: {'colsample_bytree': 0.4, 'subsample': 0.35},\n",
       "  mean: -0.30592, std: 0.02606, params: {'colsample_bytree': 0.4, 'subsample': 0.4},\n",
       "  mean: -0.30504, std: 0.02335, params: {'colsample_bytree': 0.4, 'subsample': 0.45},\n",
       "  mean: -0.31326, std: 0.02602, params: {'colsample_bytree': 0.4, 'subsample': 0.5},\n",
       "  mean: -0.31162, std: 0.02696, params: {'colsample_bytree': 0.4, 'subsample': 0.55},\n",
       "  mean: -0.31119, std: 0.02765, params: {'colsample_bytree': 0.4, 'subsample': 0.6},\n",
       "  mean: -0.30447, std: 0.02743, params: {'colsample_bytree': 0.4, 'subsample': 0.65},\n",
       "  mean: -0.30122, std: 0.03317, params: {'colsample_bytree': 0.4, 'subsample': 0.7},\n",
       "  mean: -0.30052, std: 0.03590, params: {'colsample_bytree': 0.4, 'subsample': 0.75},\n",
       "  mean: -0.30075, std: 0.03219, params: {'colsample_bytree': 0.4, 'subsample': 0.8},\n",
       "  mean: -0.30173, std: 0.03445, params: {'colsample_bytree': 0.4, 'subsample': 0.85},\n",
       "  mean: -0.30186, std: 0.03127, params: {'colsample_bytree': 0.4, 'subsample': 0.9},\n",
       "  mean: -0.30113, std: 0.03412, params: {'colsample_bytree': 0.4, 'subsample': 0.95},\n",
       "  mean: -0.31795, std: 0.02649, params: {'colsample_bytree': 0.45, 'subsample': 0.2},\n",
       "  mean: -0.31408, std: 0.02886, params: {'colsample_bytree': 0.45, 'subsample': 0.25},\n",
       "  mean: -0.30928, std: 0.03029, params: {'colsample_bytree': 0.45, 'subsample': 0.3},\n",
       "  mean: -0.31110, std: 0.02976, params: {'colsample_bytree': 0.45, 'subsample': 0.35},\n",
       "  mean: -0.30993, std: 0.03202, params: {'colsample_bytree': 0.45, 'subsample': 0.4},\n",
       "  mean: -0.31126, std: 0.02711, params: {'colsample_bytree': 0.45, 'subsample': 0.45},\n",
       "  mean: -0.30263, std: 0.02318, params: {'colsample_bytree': 0.45, 'subsample': 0.5},\n",
       "  mean: -0.30663, std: 0.02948, params: {'colsample_bytree': 0.45, 'subsample': 0.55},\n",
       "  mean: -0.30252, std: 0.03091, params: {'colsample_bytree': 0.45, 'subsample': 0.6},\n",
       "  mean: -0.30559, std: 0.02877, params: {'colsample_bytree': 0.45, 'subsample': 0.65},\n",
       "  mean: -0.29866, std: 0.03365, params: {'colsample_bytree': 0.45, 'subsample': 0.7},\n",
       "  mean: -0.29862, std: 0.03761, params: {'colsample_bytree': 0.45, 'subsample': 0.75},\n",
       "  mean: -0.29834, std: 0.03150, params: {'colsample_bytree': 0.45, 'subsample': 0.8},\n",
       "  mean: -0.30308, std: 0.03210, params: {'colsample_bytree': 0.45, 'subsample': 0.85},\n",
       "  mean: -0.29714, std: 0.02930, params: {'colsample_bytree': 0.45, 'subsample': 0.9},\n",
       "  mean: -0.30218, std: 0.03654, params: {'colsample_bytree': 0.45, 'subsample': 0.95},\n",
       "  mean: -0.31451, std: 0.02697, params: {'colsample_bytree': 0.5, 'subsample': 0.2},\n",
       "  mean: -0.30487, std: 0.02601, params: {'colsample_bytree': 0.5, 'subsample': 0.25},\n",
       "  mean: -0.31131, std: 0.03002, params: {'colsample_bytree': 0.5, 'subsample': 0.3},\n",
       "  mean: -0.30985, std: 0.02721, params: {'colsample_bytree': 0.5, 'subsample': 0.35},\n",
       "  mean: -0.30607, std: 0.02366, params: {'colsample_bytree': 0.5, 'subsample': 0.4},\n",
       "  mean: -0.31167, std: 0.02498, params: {'colsample_bytree': 0.5, 'subsample': 0.45},\n",
       "  mean: -0.30309, std: 0.02914, params: {'colsample_bytree': 0.5, 'subsample': 0.5},\n",
       "  mean: -0.30901, std: 0.02701, params: {'colsample_bytree': 0.5, 'subsample': 0.55},\n",
       "  mean: -0.30829, std: 0.02975, params: {'colsample_bytree': 0.5, 'subsample': 0.6},\n",
       "  mean: -0.30358, std: 0.02608, params: {'colsample_bytree': 0.5, 'subsample': 0.65},\n",
       "  mean: -0.30217, std: 0.03041, params: {'colsample_bytree': 0.5, 'subsample': 0.7},\n",
       "  mean: -0.29982, std: 0.03412, params: {'colsample_bytree': 0.5, 'subsample': 0.75},\n",
       "  mean: -0.30221, std: 0.03077, params: {'colsample_bytree': 0.5, 'subsample': 0.8},\n",
       "  mean: -0.30632, std: 0.03689, params: {'colsample_bytree': 0.5, 'subsample': 0.85},\n",
       "  mean: -0.30366, std: 0.02999, params: {'colsample_bytree': 0.5, 'subsample': 0.9},\n",
       "  mean: -0.30154, std: 0.03460, params: {'colsample_bytree': 0.5, 'subsample': 0.95},\n",
       "  mean: -0.31471, std: 0.02679, params: {'colsample_bytree': 0.55, 'subsample': 0.2},\n",
       "  mean: -0.30664, std: 0.02876, params: {'colsample_bytree': 0.55, 'subsample': 0.25},\n",
       "  mean: -0.31265, std: 0.02918, params: {'colsample_bytree': 0.55, 'subsample': 0.3},\n",
       "  mean: -0.31566, std: 0.02601, params: {'colsample_bytree': 0.55, 'subsample': 0.35},\n",
       "  mean: -0.30125, std: 0.03048, params: {'colsample_bytree': 0.55, 'subsample': 0.4},\n",
       "  mean: -0.30823, std: 0.02161, params: {'colsample_bytree': 0.55, 'subsample': 0.45},\n",
       "  mean: -0.30266, std: 0.02946, params: {'colsample_bytree': 0.55, 'subsample': 0.5},\n",
       "  mean: -0.30653, std: 0.02726, params: {'colsample_bytree': 0.55, 'subsample': 0.55},\n",
       "  mean: -0.29814, std: 0.02377, params: {'colsample_bytree': 0.55, 'subsample': 0.6},\n",
       "  mean: -0.30514, std: 0.02385, params: {'colsample_bytree': 0.55, 'subsample': 0.65},\n",
       "  mean: -0.29861, std: 0.03440, params: {'colsample_bytree': 0.55, 'subsample': 0.7},\n",
       "  mean: -0.29528, std: 0.03377, params: {'colsample_bytree': 0.55, 'subsample': 0.75},\n",
       "  mean: -0.30106, std: 0.03075, params: {'colsample_bytree': 0.55, 'subsample': 0.8},\n",
       "  mean: -0.30411, std: 0.02973, params: {'colsample_bytree': 0.55, 'subsample': 0.85},\n",
       "  mean: -0.30236, std: 0.03337, params: {'colsample_bytree': 0.55, 'subsample': 0.9},\n",
       "  mean: -0.30285, std: 0.03683, params: {'colsample_bytree': 0.55, 'subsample': 0.95},\n",
       "  mean: -0.31912, std: 0.02858, params: {'colsample_bytree': 0.6, 'subsample': 0.2},\n",
       "  mean: -0.30929, std: 0.02710, params: {'colsample_bytree': 0.6, 'subsample': 0.25},\n",
       "  mean: -0.31674, std: 0.02992, params: {'colsample_bytree': 0.6, 'subsample': 0.3},\n",
       "  mean: -0.31389, std: 0.02949, params: {'colsample_bytree': 0.6, 'subsample': 0.35},\n",
       "  mean: -0.30555, std: 0.03407, params: {'colsample_bytree': 0.6, 'subsample': 0.4},\n",
       "  mean: -0.30910, std: 0.02834, params: {'colsample_bytree': 0.6, 'subsample': 0.45},\n",
       "  mean: -0.30441, std: 0.02266, params: {'colsample_bytree': 0.6, 'subsample': 0.5},\n",
       "  mean: -0.30138, std: 0.02573, params: {'colsample_bytree': 0.6, 'subsample': 0.55},\n",
       "  mean: -0.29535, std: 0.02645, params: {'colsample_bytree': 0.6, 'subsample': 0.6},\n",
       "  mean: -0.29686, std: 0.02618, params: {'colsample_bytree': 0.6, 'subsample': 0.65},\n",
       "  mean: -0.29841, std: 0.02637, params: {'colsample_bytree': 0.6, 'subsample': 0.7},\n",
       "  mean: -0.29658, std: 0.03285, params: {'colsample_bytree': 0.6, 'subsample': 0.75},\n",
       "  mean: -0.30060, std: 0.03676, params: {'colsample_bytree': 0.6, 'subsample': 0.8},\n",
       "  mean: -0.30805, std: 0.03506, params: {'colsample_bytree': 0.6, 'subsample': 0.85},\n",
       "  mean: -0.29908, std: 0.02981, params: {'colsample_bytree': 0.6, 'subsample': 0.9},\n",
       "  mean: -0.30334, std: 0.03927, params: {'colsample_bytree': 0.6, 'subsample': 0.95},\n",
       "  mean: -0.32015, std: 0.02904, params: {'colsample_bytree': 0.65, 'subsample': 0.2},\n",
       "  mean: -0.30728, std: 0.02959, params: {'colsample_bytree': 0.65, 'subsample': 0.25},\n",
       "  mean: -0.30444, std: 0.03037, params: {'colsample_bytree': 0.65, 'subsample': 0.3},\n",
       "  mean: -0.31074, std: 0.02914, params: {'colsample_bytree': 0.65, 'subsample': 0.35},\n",
       "  mean: -0.30807, std: 0.03440, params: {'colsample_bytree': 0.65, 'subsample': 0.4},\n",
       "  mean: -0.31041, std: 0.02887, params: {'colsample_bytree': 0.65, 'subsample': 0.45},\n",
       "  mean: -0.30861, std: 0.02573, params: {'colsample_bytree': 0.65, 'subsample': 0.5},\n",
       "  mean: -0.30387, std: 0.02706, params: {'colsample_bytree': 0.65, 'subsample': 0.55},\n",
       "  mean: -0.30004, std: 0.02686, params: {'colsample_bytree': 0.65, 'subsample': 0.6},\n",
       "  mean: -0.30204, std: 0.03032, params: {'colsample_bytree': 0.65, 'subsample': 0.65},\n",
       "  mean: -0.29997, std: 0.02685, params: {'colsample_bytree': 0.65, 'subsample': 0.7},\n",
       "  mean: -0.29688, std: 0.02752, params: {'colsample_bytree': 0.65, 'subsample': 0.75},\n",
       "  mean: -0.30286, std: 0.02963, params: {'colsample_bytree': 0.65, 'subsample': 0.8},\n",
       "  mean: -0.30027, std: 0.03456, params: {'colsample_bytree': 0.65, 'subsample': 0.85},\n",
       "  mean: -0.30067, std: 0.03162, params: {'colsample_bytree': 0.65, 'subsample': 0.9},\n",
       "  mean: -0.30164, std: 0.03420, params: {'colsample_bytree': 0.65, 'subsample': 0.95},\n",
       "  mean: -0.32169, std: 0.02077, params: {'colsample_bytree': 0.7, 'subsample': 0.2},\n",
       "  mean: -0.30686, std: 0.03005, params: {'colsample_bytree': 0.7, 'subsample': 0.25},\n",
       "  mean: -0.30571, std: 0.02859, params: {'colsample_bytree': 0.7, 'subsample': 0.3},\n",
       "  mean: -0.30989, std: 0.02454, params: {'colsample_bytree': 0.7, 'subsample': 0.35},\n",
       "  mean: -0.31038, std: 0.03096, params: {'colsample_bytree': 0.7, 'subsample': 0.4},\n",
       "  mean: -0.30794, std: 0.02086, params: {'colsample_bytree': 0.7, 'subsample': 0.45},\n",
       "  mean: -0.31137, std: 0.03032, params: {'colsample_bytree': 0.7, 'subsample': 0.5},\n",
       "  mean: -0.30654, std: 0.03373, params: {'colsample_bytree': 0.7, 'subsample': 0.55},\n",
       "  mean: -0.30137, std: 0.03062, params: {'colsample_bytree': 0.7, 'subsample': 0.6},\n",
       "  mean: -0.30366, std: 0.03423, params: {'colsample_bytree': 0.7, 'subsample': 0.65},\n",
       "  mean: -0.29414, std: 0.02932, params: {'colsample_bytree': 0.7, 'subsample': 0.7},\n",
       "  mean: -0.29719, std: 0.02998, params: {'colsample_bytree': 0.7, 'subsample': 0.75},\n",
       "  mean: -0.29854, std: 0.03123, params: {'colsample_bytree': 0.7, 'subsample': 0.8},\n",
       "  mean: -0.30560, std: 0.04100, params: {'colsample_bytree': 0.7, 'subsample': 0.85},\n",
       "  mean: -0.29961, std: 0.03336, params: {'colsample_bytree': 0.7, 'subsample': 0.9},\n",
       "  mean: -0.30030, std: 0.03615, params: {'colsample_bytree': 0.7, 'subsample': 0.95},\n",
       "  mean: -0.31676, std: 0.02074, params: {'colsample_bytree': 0.75, 'subsample': 0.2},\n",
       "  mean: -0.30698, std: 0.01936, params: {'colsample_bytree': 0.75, 'subsample': 0.25},\n",
       "  mean: -0.30250, std: 0.02371, params: {'colsample_bytree': 0.75, 'subsample': 0.3},\n",
       "  mean: -0.30877, std: 0.02542, params: {'colsample_bytree': 0.75, 'subsample': 0.35},\n",
       "  mean: -0.30970, std: 0.02628, params: {'colsample_bytree': 0.75, 'subsample': 0.4},\n",
       "  mean: -0.31230, std: 0.02745, params: {'colsample_bytree': 0.75, 'subsample': 0.45},\n",
       "  mean: -0.31014, std: 0.02554, params: {'colsample_bytree': 0.75, 'subsample': 0.5},\n",
       "  mean: -0.30418, std: 0.03140, params: {'colsample_bytree': 0.75, 'subsample': 0.55},\n",
       "  mean: -0.29905, std: 0.02269, params: {'colsample_bytree': 0.75, 'subsample': 0.6},\n",
       "  mean: -0.29846, std: 0.02619, params: {'colsample_bytree': 0.75, 'subsample': 0.65},\n",
       "  mean: -0.30102, std: 0.02755, params: {'colsample_bytree': 0.75, 'subsample': 0.7},\n",
       "  mean: -0.29722, std: 0.03771, params: {'colsample_bytree': 0.75, 'subsample': 0.75},\n",
       "  mean: -0.29968, std: 0.03750, params: {'colsample_bytree': 0.75, 'subsample': 0.8},\n",
       "  mean: -0.31001, std: 0.04255, params: {'colsample_bytree': 0.75, 'subsample': 0.85},\n",
       "  mean: -0.30399, std: 0.03603, params: {'colsample_bytree': 0.75, 'subsample': 0.9},\n",
       "  mean: -0.30650, std: 0.03671, params: {'colsample_bytree': 0.75, 'subsample': 0.95},\n",
       "  mean: -0.31908, std: 0.02172, params: {'colsample_bytree': 0.8, 'subsample': 0.2},\n",
       "  mean: -0.30175, std: 0.01723, params: {'colsample_bytree': 0.8, 'subsample': 0.25},\n",
       "  mean: -0.30141, std: 0.02053, params: {'colsample_bytree': 0.8, 'subsample': 0.3},\n",
       "  mean: -0.30917, std: 0.02648, params: {'colsample_bytree': 0.8, 'subsample': 0.35},\n",
       "  mean: -0.31070, std: 0.01794, params: {'colsample_bytree': 0.8, 'subsample': 0.4},\n",
       "  mean: -0.30788, std: 0.01873, params: {'colsample_bytree': 0.8, 'subsample': 0.45},\n",
       "  mean: -0.30731, std: 0.02425, params: {'colsample_bytree': 0.8, 'subsample': 0.5},\n",
       "  mean: -0.29803, std: 0.03253, params: {'colsample_bytree': 0.8, 'subsample': 0.55},\n",
       "  mean: -0.29427, std: 0.02795, params: {'colsample_bytree': 0.8, 'subsample': 0.6},\n",
       "  mean: -0.30041, std: 0.02230, params: {'colsample_bytree': 0.8, 'subsample': 0.65},\n",
       "  mean: -0.30413, std: 0.03110, params: {'colsample_bytree': 0.8, 'subsample': 0.7},\n",
       "  mean: -0.29844, std: 0.03391, params: {'colsample_bytree': 0.8, 'subsample': 0.75},\n",
       "  mean: -0.29296, std: 0.03273, params: {'colsample_bytree': 0.8, 'subsample': 0.8},\n",
       "  mean: -0.30912, std: 0.04170, params: {'colsample_bytree': 0.8, 'subsample': 0.85},\n",
       "  mean: -0.30556, std: 0.03308, params: {'colsample_bytree': 0.8, 'subsample': 0.9},\n",
       "  mean: -0.30715, std: 0.03918, params: {'colsample_bytree': 0.8, 'subsample': 0.95},\n",
       "  mean: -0.31083, std: 0.02498, params: {'colsample_bytree': 0.85, 'subsample': 0.2},\n",
       "  mean: -0.31040, std: 0.02507, params: {'colsample_bytree': 0.85, 'subsample': 0.25},\n",
       "  mean: -0.29953, std: 0.02629, params: {'colsample_bytree': 0.85, 'subsample': 0.3},\n",
       "  mean: -0.30561, std: 0.02051, params: {'colsample_bytree': 0.85, 'subsample': 0.35},\n",
       "  mean: -0.29802, std: 0.02514, params: {'colsample_bytree': 0.85, 'subsample': 0.4},\n",
       "  mean: -0.30612, std: 0.02268, params: {'colsample_bytree': 0.85, 'subsample': 0.45},\n",
       "  mean: -0.30107, std: 0.03029, params: {'colsample_bytree': 0.85, 'subsample': 0.5},\n",
       "  mean: -0.29589, std: 0.02402, params: {'colsample_bytree': 0.85, 'subsample': 0.55},\n",
       "  mean: -0.29419, std: 0.02851, params: {'colsample_bytree': 0.85, 'subsample': 0.6},\n",
       "  mean: -0.29643, std: 0.03065, params: {'colsample_bytree': 0.85, 'subsample': 0.65},\n",
       "  mean: -0.30148, std: 0.02943, params: {'colsample_bytree': 0.85, 'subsample': 0.7},\n",
       "  mean: -0.30196, std: 0.03372, params: {'colsample_bytree': 0.85, 'subsample': 0.75},\n",
       "  mean: -0.29550, std: 0.03011, params: {'colsample_bytree': 0.85, 'subsample': 0.8},\n",
       "  mean: -0.30481, std: 0.04519, params: {'colsample_bytree': 0.85, 'subsample': 0.85},\n",
       "  mean: -0.30934, std: 0.03971, params: {'colsample_bytree': 0.85, 'subsample': 0.9},\n",
       "  mean: -0.30137, std: 0.03740, params: {'colsample_bytree': 0.85, 'subsample': 0.95},\n",
       "  mean: -0.31434, std: 0.02292, params: {'colsample_bytree': 0.9, 'subsample': 0.2},\n",
       "  mean: -0.30690, std: 0.03405, params: {'colsample_bytree': 0.9, 'subsample': 0.25},\n",
       "  mean: -0.30275, std: 0.03007, params: {'colsample_bytree': 0.9, 'subsample': 0.3},\n",
       "  mean: -0.30800, std: 0.02389, params: {'colsample_bytree': 0.9, 'subsample': 0.35},\n",
       "  mean: -0.30545, std: 0.02482, params: {'colsample_bytree': 0.9, 'subsample': 0.4},\n",
       "  mean: -0.30847, std: 0.01865, params: {'colsample_bytree': 0.9, 'subsample': 0.45},\n",
       "  mean: -0.30729, std: 0.02645, params: {'colsample_bytree': 0.9, 'subsample': 0.5},\n",
       "  mean: -0.29428, std: 0.03042, params: {'colsample_bytree': 0.9, 'subsample': 0.55},\n",
       "  mean: -0.29161, std: 0.03184, params: {'colsample_bytree': 0.9, 'subsample': 0.6},\n",
       "  mean: -0.30171, std: 0.02946, params: {'colsample_bytree': 0.9, 'subsample': 0.65},\n",
       "  mean: -0.29508, std: 0.02988, params: {'colsample_bytree': 0.9, 'subsample': 0.7},\n",
       "  mean: -0.29797, std: 0.03292, params: {'colsample_bytree': 0.9, 'subsample': 0.75},\n",
       "  mean: -0.30252, std: 0.02933, params: {'colsample_bytree': 0.9, 'subsample': 0.8},\n",
       "  mean: -0.30879, std: 0.03875, params: {'colsample_bytree': 0.9, 'subsample': 0.85},\n",
       "  mean: -0.31216, std: 0.03790, params: {'colsample_bytree': 0.9, 'subsample': 0.9},\n",
       "  mean: -0.30762, std: 0.03799, params: {'colsample_bytree': 0.9, 'subsample': 0.95},\n",
       "  mean: -0.30730, std: 0.02921, params: {'colsample_bytree': 0.95, 'subsample': 0.2},\n",
       "  mean: -0.30495, std: 0.02928, params: {'colsample_bytree': 0.95, 'subsample': 0.25},\n",
       "  mean: -0.30289, std: 0.03513, params: {'colsample_bytree': 0.95, 'subsample': 0.3},\n",
       "  mean: -0.30540, std: 0.03739, params: {'colsample_bytree': 0.95, 'subsample': 0.35},\n",
       "  mean: -0.30361, std: 0.01901, params: {'colsample_bytree': 0.95, 'subsample': 0.4},\n",
       "  mean: -0.30523, std: 0.02826, params: {'colsample_bytree': 0.95, 'subsample': 0.45},\n",
       "  mean: -0.30468, std: 0.03533, params: {'colsample_bytree': 0.95, 'subsample': 0.5},\n",
       "  mean: -0.30224, std: 0.03313, params: {'colsample_bytree': 0.95, 'subsample': 0.55},\n",
       "  mean: -0.29641, std: 0.02548, params: {'colsample_bytree': 0.95, 'subsample': 0.6},\n",
       "  mean: -0.29539, std: 0.02978, params: {'colsample_bytree': 0.95, 'subsample': 0.65},\n",
       "  mean: -0.29988, std: 0.02464, params: {'colsample_bytree': 0.95, 'subsample': 0.7},\n",
       "  mean: -0.30163, std: 0.02687, params: {'colsample_bytree': 0.95, 'subsample': 0.75},\n",
       "  mean: -0.30385, std: 0.03130, params: {'colsample_bytree': 0.95, 'subsample': 0.8},\n",
       "  mean: -0.30661, std: 0.03896, params: {'colsample_bytree': 0.95, 'subsample': 0.85},\n",
       "  mean: -0.31169, std: 0.03925, params: {'colsample_bytree': 0.95, 'subsample': 0.9},\n",
       "  mean: -0.30419, std: 0.03613, params: {'colsample_bytree': 0.95, 'subsample': 0.95},\n",
       "  mean: -0.30560, std: 0.02642, params: {'colsample_bytree': 1.0, 'subsample': 0.2},\n",
       "  mean: -0.29934, std: 0.02109, params: {'colsample_bytree': 1.0, 'subsample': 0.25},\n",
       "  mean: -0.30805, std: 0.03333, params: {'colsample_bytree': 1.0, 'subsample': 0.3},\n",
       "  mean: -0.29979, std: 0.03276, params: {'colsample_bytree': 1.0, 'subsample': 0.35},\n",
       "  mean: -0.30316, std: 0.02250, params: {'colsample_bytree': 1.0, 'subsample': 0.4},\n",
       "  mean: -0.30692, std: 0.02874, params: {'colsample_bytree': 1.0, 'subsample': 0.45},\n",
       "  mean: -0.30406, std: 0.03815, params: {'colsample_bytree': 1.0, 'subsample': 0.5},\n",
       "  mean: -0.29913, std: 0.02999, params: {'colsample_bytree': 1.0, 'subsample': 0.55},\n",
       "  mean: -0.29455, std: 0.02340, params: {'colsample_bytree': 1.0, 'subsample': 0.6},\n",
       "  mean: -0.29477, std: 0.02645, params: {'colsample_bytree': 1.0, 'subsample': 0.65},\n",
       "  mean: -0.29952, std: 0.02865, params: {'colsample_bytree': 1.0, 'subsample': 0.7},\n",
       "  mean: -0.30125, std: 0.03050, params: {'colsample_bytree': 1.0, 'subsample': 0.75},\n",
       "  mean: -0.30436, std: 0.03686, params: {'colsample_bytree': 1.0, 'subsample': 0.8},\n",
       "  mean: -0.30816, std: 0.04072, params: {'colsample_bytree': 1.0, 'subsample': 0.85},\n",
       "  mean: -0.30370, std: 0.03458, params: {'colsample_bytree': 1.0, 'subsample': 0.9},\n",
       "  mean: -0.31288, std: 0.04048, params: {'colsample_bytree': 1.0, 'subsample': 0.95}],\n",
       " {'colsample_bytree': 0.9, 'subsample': 0.6},\n",
       " -0.29160782301100935)"
      ]
     },
     "execution_count": 144,
     "metadata": {},
     "output_type": "execute_result"
    }
   ],
   "source": [
    "gridsearch_sample_1 = sklearn.model_selection.GridSearchCV(estimator = xgboost.XGBClassifier(seed = 1\n",
    "                                                                                           , learning_rate = 0.1\n",
    "                                                                                           , n_estimators = 75\n",
    "                                                                                           , base_score = train_data_after_clean[target_col[0]].sum()/train_data_after_clean.shape[0]\n",
    "                                                                                           , nthread=1\n",
    "                                                                                           , max_depth = 5\n",
    "                                                                                           , min_child_weight = 0.9\n",
    "                                                                                           , gamma = 0.7\n",
    "#                                                                                            , subsample = 0.8\n",
    "#                                                                                            , colsample_bytree = 0.8\n",
    "                                                                                           , scale_pos_weight = 1),\n",
    "                                     param_grid={\n",
    "                                         'subsample': [i/20.0 for i in range(4,20)],\n",
    "                                         'colsample_bytree': [i/20.0 for i in range(8,21)]\n",
    "                                     },         \n",
    "                                     scoring = 'neg_log_loss',\n",
    "                                     n_jobs= 1,\n",
    "                                     iid = False,\n",
    "                                     cv = 4)\n",
    "gridsearch_sample_1.fit(train_data_after_clean[predictors],train_data_after_clean[target_col[0]])\n",
    "gridsearch_sample_1.grid_scores_, gridsearch_sample_1.best_params_, gridsearch_sample_1.best_score_"
   ]
  },
  {
   "cell_type": "code",
   "execution_count": 149,
   "metadata": {
    "scrolled": false
   },
   "outputs": [
    {
     "name": "stderr",
     "output_type": "stream",
     "text": [
      "C:\\ProgramData\\Anaconda3\\lib\\site-packages\\sklearn\\model_selection\\_search.py:761: DeprecationWarning: The grid_scores_ attribute was deprecated in version 0.18 in favor of the more elaborate cv_results_ attribute. The grid_scores_ attribute will not be available from 0.20\n",
      "  DeprecationWarning)\n"
     ]
    },
    {
     "data": {
      "text/plain": [
       "([mean: -0.29161, std: 0.03184, params: {'reg_alpha': 1e-10},\n",
       "  mean: -0.29161, std: 0.03184, params: {'reg_alpha': 1e-08},\n",
       "  mean: -0.29161, std: 0.03184, params: {'reg_alpha': 1e-06},\n",
       "  mean: -0.29161, std: 0.03184, params: {'reg_alpha': 1e-05},\n",
       "  mean: -0.29161, std: 0.03184, params: {'reg_alpha': 0.0001},\n",
       "  mean: -0.29161, std: 0.03183, params: {'reg_alpha': 0.001},\n",
       "  mean: -0.29492, std: 0.02746, params: {'reg_alpha': 0.01},\n",
       "  mean: -0.29350, std: 0.02865, params: {'reg_alpha': 0.1},\n",
       "  mean: -0.30140, std: 0.02386, params: {'reg_alpha': 1},\n",
       "  mean: -0.68762, std: 0.00039, params: {'reg_alpha': 100}],\n",
       " {'reg_alpha': 0.001},\n",
       " -0.2916064135007316)"
      ]
     },
     "execution_count": 149,
     "metadata": {},
     "output_type": "execute_result"
    }
   ],
   "source": [
    "gridsearch_sample_1 = sklearn.model_selection.GridSearchCV(estimator = xgboost.XGBClassifier(seed = 1\n",
    "                                                                                           , learning_rate = 0.1\n",
    "                                                                                           , n_estimators = 75\n",
    "                                                                                           , base_score = train_data_after_clean[target_col[0]].sum()/train_data_after_clean.shape[0]\n",
    "                                                                                           , nthread=1\n",
    "                                                                                           , max_depth = 5\n",
    "                                                                                           , min_child_weight = 0.9\n",
    "                                                                                           , gamma = 0.7\n",
    "                                                                                           , subsample = 0.6\n",
    "                                                                                           , colsample_bytree = 0.9\n",
    "                                                                                           , scale_pos_weight = 1),\n",
    "                                     param_grid={\n",
    "                                         'reg_alpha':[1e-10,1e-8,1e-6,1e-5,1e-4,1e-3,1e-2, 0.1, 1, 100]\n",
    "                                     },         \n",
    "                                     scoring = 'neg_log_loss',\n",
    "                                     n_jobs= 1,\n",
    "                                     iid = False,\n",
    "                                     cv = 4)\n",
    "gridsearch_sample_1.fit(train_data_after_clean[predictors],train_data_after_clean[target_col[0]])\n",
    "gridsearch_sample_1.grid_scores_, gridsearch_sample_1.best_params_, gridsearch_sample_1.best_score_"
   ]
  },
  {
   "cell_type": "code",
   "execution_count": 152,
   "metadata": {
    "scrolled": false
   },
   "outputs": [
    {
     "name": "stderr",
     "output_type": "stream",
     "text": [
      "C:\\ProgramData\\Anaconda3\\lib\\site-packages\\sklearn\\model_selection\\_search.py:761: DeprecationWarning: The grid_scores_ attribute was deprecated in version 0.18 in favor of the more elaborate cv_results_ attribute. The grid_scores_ attribute will not be available from 0.20\n",
      "  DeprecationWarning)\n"
     ]
    },
    {
     "data": {
      "text/plain": [
       "([mean: -0.29547, std: 0.02940, params: {'n_estimators': 600},\n",
       "  mean: -0.29495, std: 0.02940, params: {'n_estimators': 610},\n",
       "  mean: -0.29495, std: 0.02953, params: {'n_estimators': 620},\n",
       "  mean: -0.29488, std: 0.02963, params: {'n_estimators': 630},\n",
       "  mean: -0.29501, std: 0.02991, params: {'n_estimators': 640},\n",
       "  mean: -0.29476, std: 0.03012, params: {'n_estimators': 650},\n",
       "  mean: -0.29491, std: 0.03014, params: {'n_estimators': 660},\n",
       "  mean: -0.29528, std: 0.03054, params: {'n_estimators': 670},\n",
       "  mean: -0.29545, std: 0.03062, params: {'n_estimators': 680},\n",
       "  mean: -0.29548, std: 0.03073, params: {'n_estimators': 690},\n",
       "  mean: -0.29586, std: 0.03095, params: {'n_estimators': 700}],\n",
       " {'n_estimators': 650},\n",
       " -0.29475591800932305)"
      ]
     },
     "execution_count": 152,
     "metadata": {},
     "output_type": "execute_result"
    }
   ],
   "source": [
    "gridsearch_sample_1 = sklearn.model_selection.GridSearchCV(estimator = xgboost.XGBClassifier(seed = 1\n",
    "                                                                                           , learning_rate = 0.01\n",
    "                                                                                           , n_estimators = 750\n",
    "                                                                                           , base_score = train_data_after_clean[target_col[0]].sum()/train_data_after_clean.shape[0]\n",
    "                                                                                           , nthread=1\n",
    "                                                                                           , max_depth = 5\n",
    "                                                                                           , min_child_weight = 0.9\n",
    "                                                                                           , gamma = 0.7\n",
    "                                                                                           , subsample = 0.6\n",
    "                                                                                           , colsample_bytree = 0.9\n",
    "                                                                                           , scale_pos_weight = 1\n",
    "                                                                                           , reg_alpha = 0.001),\n",
    "                                     param_grid={\n",
    "                                         'n_estimators':range(600,710,10)\n",
    "                                     },         \n",
    "                                     scoring = 'neg_log_loss',\n",
    "                                     n_jobs= 1,\n",
    "                                     iid = False,\n",
    "                                     cv = 4)\n",
    "gridsearch_sample_1.fit(train_data_after_clean[predictors],train_data_after_clean[target_col[0]])\n",
    "gridsearch_sample_1.grid_scores_, gridsearch_sample_1.best_params_, gridsearch_sample_1.best_score_"
   ]
  },
  {
   "cell_type": "code",
   "execution_count": 153,
   "metadata": {},
   "outputs": [],
   "source": [
    "xgb_model_tuned = xgboost.XGBClassifier(seed = 1\n",
    "                      , learning_rate = 0.01\n",
    "                      , n_estimators = 750\n",
    "                      , base_score = train_data_after_clean[target_col[0]].sum()/train_data_after_clean.shape[0]\n",
    "                      , nthread=1\n",
    "                      , max_depth = 5\n",
    "                      , min_child_weight = 0.9\n",
    "                      , gamma = 0.7\n",
    "                      , subsample = 0.6\n",
    "                      , colsample_bytree = 0.9\n",
    "                      , scale_pos_weight = 1\n",
    "                      , reg_alpha = 0.001)"
   ]
  },
  {
   "cell_type": "code",
   "execution_count": 163,
   "metadata": {},
   "outputs": [
    {
     "name": "stdout",
     "output_type": "stream",
     "text": [
      "Log Loss: -0.296 (0.03)\n"
     ]
    }
   ],
   "source": [
    "kfold = sklearn.model_selection.StratifiedKFold(n_splits=4, random_state=1)\n",
    "results = sklearn.model_selection.cross_val_score(xgb_model_tuned, train_data_after_clean.drop(target_col, axis = 1), train_data_after_clean[target_col[0]], cv=kfold,scoring='neg_log_loss')\n",
    "# print(\"Accuracy: %.2f%% (%.2f%%)\" % (results.mean()*100, results.std()*100))\n",
    "print(\"Log Loss: %.3f (%.2f)\" % (results.mean(), results.std()))"
   ]
  },
  {
   "cell_type": "code",
   "execution_count": 166,
   "metadata": {},
   "outputs": [],
   "source": [
    "fitted_xgb_tuned = xgb_model_tuned.fit(train_data_after_clean.drop(target_col, axis = 1),train_data_after_clean[target_col[0]])"
   ]
  },
  {
   "cell_type": "code",
   "execution_count": 167,
   "metadata": {},
   "outputs": [],
   "source": [
    "predicted_prob = fitted_xgb_tuned.predict_proba(train_data_after_clean.drop(target_col, axis = 1))[:,1]"
   ]
  },
  {
   "cell_type": "code",
   "execution_count": 169,
   "metadata": {},
   "outputs": [
    {
     "name": "stdout",
     "output_type": "stream",
     "text": [
      "0.5543278\n",
      "0.99441576\n",
      "0.0045135384\n"
     ]
    }
   ],
   "source": [
    "print(predicted_prob.mean())\n",
    "print(predicted_prob.max())\n",
    "print(predicted_prob.min())"
   ]
  },
  {
   "cell_type": "code",
   "execution_count": 181,
   "metadata": {},
   "outputs": [],
   "source": [
    "final_df = pd.concat([pd.Series(predicted_prob),train_data_after_clean[target_col[0]]],axis = 1)\n",
    "final_df.columns = ['predicted_prob','actuals']"
   ]
  },
  {
   "cell_type": "code",
   "execution_count": 182,
   "metadata": {},
   "outputs": [
    {
     "data": {
      "text/html": [
       "<div>\n",
       "<style scoped>\n",
       "    .dataframe tbody tr th:only-of-type {\n",
       "        vertical-align: middle;\n",
       "    }\n",
       "\n",
       "    .dataframe tbody tr th {\n",
       "        vertical-align: top;\n",
       "    }\n",
       "\n",
       "    .dataframe thead th {\n",
       "        text-align: right;\n",
       "    }\n",
       "</style>\n",
       "<table border=\"1\" class=\"dataframe\">\n",
       "  <thead>\n",
       "    <tr style=\"text-align: right;\">\n",
       "      <th></th>\n",
       "      <th>predicted_prob</th>\n",
       "      <th>actuals</th>\n",
       "    </tr>\n",
       "  </thead>\n",
       "  <tbody>\n",
       "    <tr>\n",
       "      <th>0</th>\n",
       "      <td>0.641743</td>\n",
       "      <td>1</td>\n",
       "    </tr>\n",
       "    <tr>\n",
       "      <th>1</th>\n",
       "      <td>0.984908</td>\n",
       "      <td>1</td>\n",
       "    </tr>\n",
       "    <tr>\n",
       "      <th>2</th>\n",
       "      <td>0.991985</td>\n",
       "      <td>1</td>\n",
       "    </tr>\n",
       "    <tr>\n",
       "      <th>3</th>\n",
       "      <td>0.121808</td>\n",
       "      <td>0</td>\n",
       "    </tr>\n",
       "    <tr>\n",
       "      <th>4</th>\n",
       "      <td>0.021078</td>\n",
       "      <td>0</td>\n",
       "    </tr>\n",
       "  </tbody>\n",
       "</table>\n",
       "</div>"
      ],
      "text/plain": [
       "   predicted_prob  actuals\n",
       "0        0.641743        1\n",
       "1        0.984908        1\n",
       "2        0.991985        1\n",
       "3        0.121808        0\n",
       "4        0.021078        0"
      ]
     },
     "execution_count": 182,
     "metadata": {},
     "output_type": "execute_result"
    }
   ],
   "source": [
    "final_df.head()"
   ]
  },
  {
   "cell_type": "code",
   "execution_count": 183,
   "metadata": {},
   "outputs": [],
   "source": [
    "fpr, tpr, thresholds = sklearn.metrics.roc_curve(train_data_after_clean[target_col[0]],predicted_prob)"
   ]
  },
  {
   "cell_type": "code",
   "execution_count": 184,
   "metadata": {},
   "outputs": [
    {
     "data": {
      "text/plain": [
       "array([0.        , 0.        , 0.00404858, 0.00404858, 0.00809717,\n",
       "       0.00809717, 0.01214575, 0.01214575, 0.0242915 , 0.0242915 ,\n",
       "       0.03238866, 0.03238866, 0.03643725, 0.03643725, 0.05263158,\n",
       "       0.05263158, 0.07287449, 0.07287449, 1.        ])"
      ]
     },
     "execution_count": 184,
     "metadata": {},
     "output_type": "execute_result"
    }
   ],
   "source": [
    "fpr"
   ]
  },
  {
   "cell_type": "code",
   "execution_count": 185,
   "metadata": {},
   "outputs": [
    {
     "data": {
      "text/plain": [
       "array([0.00327869, 0.82295082, 0.82295082, 0.85245902, 0.85245902,\n",
       "       0.92131148, 0.92131148, 0.94098361, 0.94098361, 0.96721311,\n",
       "       0.96721311, 0.97704918, 0.97704918, 0.99344262, 0.99344262,\n",
       "       0.99672131, 0.99672131, 1.        , 1.        ])"
      ]
     },
     "execution_count": 185,
     "metadata": {},
     "output_type": "execute_result"
    }
   ],
   "source": [
    "tpr"
   ]
  },
  {
   "cell_type": "code",
   "execution_count": 188,
   "metadata": {},
   "outputs": [],
   "source": [
    "cut_off = thresholds[np.argmax(tpr - fpr)]"
   ]
  },
  {
   "cell_type": "code",
   "execution_count": 189,
   "metadata": {},
   "outputs": [],
   "source": [
    "final_df['Prediction_Flag'] = final_df['predicted_prob'].map(lambda x: 1 if x > cut_off else 0)"
   ]
  },
  {
   "cell_type": "code",
   "execution_count": 191,
   "metadata": {},
   "outputs": [
    {
     "data": {
      "text/plain": [
       "0.9782608695652174"
      ]
     },
     "execution_count": 191,
     "metadata": {},
     "output_type": "execute_result"
    }
   ],
   "source": [
    "sklearn.metrics.accuracy_score(final_df['actuals'],final_df['Prediction_Flag'])"
   ]
  },
  {
   "cell_type": "code",
   "execution_count": 192,
   "metadata": {},
   "outputs": [
    {
     "data": {
      "text/plain": [
       "array([[238,   9],\n",
       "       [  3, 302]], dtype=int64)"
      ]
     },
     "execution_count": 192,
     "metadata": {},
     "output_type": "execute_result"
    }
   ],
   "source": [
    "sklearn.metrics.confusion_matrix(final_df['actuals'],final_df['Prediction_Flag'])"
   ]
  },
  {
   "cell_type": "code",
   "execution_count": 194,
   "metadata": {},
   "outputs": [],
   "source": [
    "tn, fp, fn, tp = sklearn.metrics.confusion_matrix(final_df['actuals'],final_df['Prediction_Flag']).ravel()"
   ]
  },
  {
   "cell_type": "code",
   "execution_count": 279,
   "metadata": {},
   "outputs": [],
   "source": [
    "predicted_prob_test = fitted_xgb_tuned.predict_proba(test_data_after_clean.drop('id', axis = 1))[:,1]"
   ]
  },
  {
   "cell_type": "code",
   "execution_count": 298,
   "metadata": {},
   "outputs": [
    {
     "data": {
      "text/plain": [
       "True"
      ]
     },
     "execution_count": 298,
     "metadata": {},
     "output_type": "execute_result"
    }
   ],
   "source": [
    "predictions_df = pd.concat([test_data['id'],pd.Series(predicted_prob_test).map(lambda x: 1 if x > cut_off else 0)], axis = 1)\n",
    "predictions_df.columns = ['id','P']\n",
    "test_data.shape[0] == predictions_df.shape[0]"
   ]
  },
  {
   "cell_type": "code",
   "execution_count": 299,
   "metadata": {
    "scrolled": true
   },
   "outputs": [],
   "source": [
    "predictions_df.to_csv('predictions.csv',index = False)"
   ]
  }
 ],
 "metadata": {
  "kernelspec": {
   "display_name": "Python 3",
   "language": "python",
   "name": "python3"
  },
  "language_info": {
   "codemirror_mode": {
    "name": "ipython",
    "version": 3
   },
   "file_extension": ".py",
   "mimetype": "text/x-python",
   "name": "python",
   "nbconvert_exporter": "python",
   "pygments_lexer": "ipython3",
   "version": "3.6.4"
  }
 },
 "nbformat": 4,
 "nbformat_minor": 2
}
