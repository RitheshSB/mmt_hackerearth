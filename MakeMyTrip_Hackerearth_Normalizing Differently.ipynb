{
 "cells": [
  {
   "cell_type": "markdown",
   "metadata": {},
   "source": [
    "# Importing Required Packages"
   ]
  },
  {
   "cell_type": "code",
   "execution_count": 1,
   "metadata": {},
   "outputs": [],
   "source": [
    "import os\n",
    "import pandas as pd\n",
    "import numpy as np\n",
    "import xgboost\n",
    "import sklearn\n",
    "import matplotlib.pyplot as plt"
   ]
  },
  {
   "cell_type": "markdown",
   "metadata": {},
   "source": [
    "# Setting the working directory"
   ]
  },
  {
   "cell_type": "code",
   "execution_count": 2,
   "metadata": {},
   "outputs": [],
   "source": [
    "os.chdir(r'C:\\Users\\Rithesh\\Desktop\\MMT_Hackerearth')"
   ]
  },
  {
   "cell_type": "markdown",
   "metadata": {},
   "source": [
    "# Importing the Train and Test Files"
   ]
  },
  {
   "cell_type": "code",
   "execution_count": 3,
   "metadata": {},
   "outputs": [],
   "source": [
    "train_data = pd.read_csv('train.csv')\n",
    "test_data = pd.read_csv('test.csv')"
   ]
  },
  {
   "cell_type": "code",
   "execution_count": 4,
   "metadata": {},
   "outputs": [
    {
     "data": {
      "text/plain": [
       "552"
      ]
     },
     "execution_count": 4,
     "metadata": {},
     "output_type": "execute_result"
    }
   ],
   "source": [
    "(train_data['id'].reset_index(drop = False)['id'] - train_data['id'].reset_index(drop = False)['index']).sum()"
   ]
  },
  {
   "cell_type": "code",
   "execution_count": 5,
   "metadata": {},
   "outputs": [
    {
     "data": {
      "text/plain": [
       "138"
      ]
     },
     "execution_count": 5,
     "metadata": {},
     "output_type": "execute_result"
    }
   ],
   "source": [
    "(test_data['id'].reset_index(drop = False)['id'] - test_data['id'].reset_index(drop = False)['index'] - 552).sum()"
   ]
  },
  {
   "cell_type": "code",
   "execution_count": 6,
   "metadata": {},
   "outputs": [
    {
     "data": {
      "text/html": [
       "<div>\n",
       "<style scoped>\n",
       "    .dataframe tbody tr th:only-of-type {\n",
       "        vertical-align: middle;\n",
       "    }\n",
       "\n",
       "    .dataframe tbody tr th {\n",
       "        vertical-align: top;\n",
       "    }\n",
       "\n",
       "    .dataframe thead th {\n",
       "        text-align: right;\n",
       "    }\n",
       "</style>\n",
       "<table border=\"1\" class=\"dataframe\">\n",
       "  <thead>\n",
       "    <tr style=\"text-align: right;\">\n",
       "      <th></th>\n",
       "      <th>index</th>\n",
       "      <th>id</th>\n",
       "    </tr>\n",
       "  </thead>\n",
       "  <tbody>\n",
       "    <tr>\n",
       "      <th>0</th>\n",
       "      <td>0</td>\n",
       "      <td>553</td>\n",
       "    </tr>\n",
       "    <tr>\n",
       "      <th>1</th>\n",
       "      <td>1</td>\n",
       "      <td>554</td>\n",
       "    </tr>\n",
       "    <tr>\n",
       "      <th>2</th>\n",
       "      <td>2</td>\n",
       "      <td>555</td>\n",
       "    </tr>\n",
       "    <tr>\n",
       "      <th>3</th>\n",
       "      <td>3</td>\n",
       "      <td>556</td>\n",
       "    </tr>\n",
       "    <tr>\n",
       "      <th>4</th>\n",
       "      <td>4</td>\n",
       "      <td>557</td>\n",
       "    </tr>\n",
       "  </tbody>\n",
       "</table>\n",
       "</div>"
      ],
      "text/plain": [
       "   index   id\n",
       "0      0  553\n",
       "1      1  554\n",
       "2      2  555\n",
       "3      3  556\n",
       "4      4  557"
      ]
     },
     "execution_count": 6,
     "metadata": {},
     "output_type": "execute_result"
    }
   ],
   "source": [
    "test_data['id'].reset_index(drop = False).head()"
   ]
  },
  {
   "cell_type": "markdown",
   "metadata": {},
   "source": [
    "# Data Exploration"
   ]
  },
  {
   "cell_type": "markdown",
   "metadata": {},
   "source": [
    "## Column Types: Continuous, Categorical and Target"
   ]
  },
  {
   "cell_type": "code",
   "execution_count": 7,
   "metadata": {},
   "outputs": [
    {
     "data": {
      "text/plain": [
       "id      int64\n",
       "A      object\n",
       "B     float64\n",
       "C     float64\n",
       "D      object\n",
       "E      object\n",
       "F      object\n",
       "G      object\n",
       "H     float64\n",
       "I      object\n",
       "J      object\n",
       "K       int64\n",
       "L      object\n",
       "M      object\n",
       "N     float64\n",
       "O       int64\n",
       "P       int64\n",
       "dtype: object"
      ]
     },
     "execution_count": 7,
     "metadata": {},
     "output_type": "execute_result"
    }
   ],
   "source": [
    "col_types = train_data.dtypes\n",
    "col_types"
   ]
  },
  {
   "cell_type": "code",
   "execution_count": 8,
   "metadata": {},
   "outputs": [
    {
     "data": {
      "text/plain": [
       "array(['A', 'D', 'E', 'F', 'G', 'I', 'J', 'L', 'M'], dtype=object)"
      ]
     },
     "execution_count": 8,
     "metadata": {},
     "output_type": "execute_result"
    }
   ],
   "source": [
    "categorical_cols = col_types[col_types=='object'].index.values\n",
    "categorical_cols"
   ]
  },
  {
   "cell_type": "code",
   "execution_count": 9,
   "metadata": {},
   "outputs": [
    {
     "data": {
      "text/plain": [
       "array(['B', 'C', 'H', 'K', 'N', 'O'], dtype=object)"
      ]
     },
     "execution_count": 9,
     "metadata": {},
     "output_type": "execute_result"
    }
   ],
   "source": [
    "continuous_cols = col_types[col_types!='object'].index.values\n",
    "continuous_cols = continuous_cols[[i not in ['P','id'] for i in continuous_cols]]\n",
    "continuous_cols"
   ]
  },
  {
   "cell_type": "code",
   "execution_count": 10,
   "metadata": {},
   "outputs": [
    {
     "data": {
      "text/plain": [
       "['P']"
      ]
     },
     "execution_count": 10,
     "metadata": {},
     "output_type": "execute_result"
    }
   ],
   "source": [
    "target_col = ['P']\n",
    "target_col"
   ]
  },
  {
   "cell_type": "markdown",
   "metadata": {},
   "source": [
    "# Column Exploration"
   ]
  },
  {
   "cell_type": "code",
   "execution_count": 11,
   "metadata": {},
   "outputs": [
    {
     "data": {
      "text/html": [
       "<div>\n",
       "<style scoped>\n",
       "    .dataframe tbody tr th:only-of-type {\n",
       "        vertical-align: middle;\n",
       "    }\n",
       "\n",
       "    .dataframe tbody tr th {\n",
       "        vertical-align: top;\n",
       "    }\n",
       "\n",
       "    .dataframe thead th {\n",
       "        text-align: right;\n",
       "    }\n",
       "</style>\n",
       "<table border=\"1\" class=\"dataframe\">\n",
       "  <thead>\n",
       "    <tr style=\"text-align: right;\">\n",
       "      <th></th>\n",
       "      <th>B</th>\n",
       "      <th>C</th>\n",
       "      <th>H</th>\n",
       "      <th>K</th>\n",
       "      <th>N</th>\n",
       "      <th>O</th>\n",
       "    </tr>\n",
       "  </thead>\n",
       "  <tbody>\n",
       "    <tr>\n",
       "      <th>count</th>\n",
       "      <td>543.000000</td>\n",
       "      <td>552.000000</td>\n",
       "      <td>552.000000</td>\n",
       "      <td>552.000000</td>\n",
       "      <td>541.000000</td>\n",
       "      <td>552.000000</td>\n",
       "    </tr>\n",
       "    <tr>\n",
       "      <th>mean</th>\n",
       "      <td>31.364899</td>\n",
       "      <td>4.780136</td>\n",
       "      <td>2.259176</td>\n",
       "      <td>2.318841</td>\n",
       "      <td>175.162662</td>\n",
       "      <td>1087.576087</td>\n",
       "    </tr>\n",
       "    <tr>\n",
       "      <th>std</th>\n",
       "      <td>11.873665</td>\n",
       "      <td>4.938454</td>\n",
       "      <td>3.442564</td>\n",
       "      <td>4.297867</td>\n",
       "      <td>154.873746</td>\n",
       "      <td>5758.841945</td>\n",
       "    </tr>\n",
       "    <tr>\n",
       "      <th>min</th>\n",
       "      <td>13.750000</td>\n",
       "      <td>0.000000</td>\n",
       "      <td>0.000000</td>\n",
       "      <td>0.000000</td>\n",
       "      <td>0.000000</td>\n",
       "      <td>0.000000</td>\n",
       "    </tr>\n",
       "    <tr>\n",
       "      <th>25%</th>\n",
       "      <td>22.500000</td>\n",
       "      <td>1.000000</td>\n",
       "      <td>0.165000</td>\n",
       "      <td>0.000000</td>\n",
       "      <td>60.000000</td>\n",
       "      <td>0.000000</td>\n",
       "    </tr>\n",
       "    <tr>\n",
       "      <th>50%</th>\n",
       "      <td>28.170000</td>\n",
       "      <td>2.750000</td>\n",
       "      <td>1.000000</td>\n",
       "      <td>0.000000</td>\n",
       "      <td>152.000000</td>\n",
       "      <td>3.500000</td>\n",
       "    </tr>\n",
       "    <tr>\n",
       "      <th>75%</th>\n",
       "      <td>37.665000</td>\n",
       "      <td>7.561250</td>\n",
       "      <td>2.750000</td>\n",
       "      <td>3.000000</td>\n",
       "      <td>268.000000</td>\n",
       "      <td>364.750000</td>\n",
       "    </tr>\n",
       "    <tr>\n",
       "      <th>max</th>\n",
       "      <td>80.250000</td>\n",
       "      <td>28.000000</td>\n",
       "      <td>28.500000</td>\n",
       "      <td>40.000000</td>\n",
       "      <td>1160.000000</td>\n",
       "      <td>100000.000000</td>\n",
       "    </tr>\n",
       "  </tbody>\n",
       "</table>\n",
       "</div>"
      ],
      "text/plain": [
       "                B           C           H           K            N  \\\n",
       "count  543.000000  552.000000  552.000000  552.000000   541.000000   \n",
       "mean    31.364899    4.780136    2.259176    2.318841   175.162662   \n",
       "std     11.873665    4.938454    3.442564    4.297867   154.873746   \n",
       "min     13.750000    0.000000    0.000000    0.000000     0.000000   \n",
       "25%     22.500000    1.000000    0.165000    0.000000    60.000000   \n",
       "50%     28.170000    2.750000    1.000000    0.000000   152.000000   \n",
       "75%     37.665000    7.561250    2.750000    3.000000   268.000000   \n",
       "max     80.250000   28.000000   28.500000   40.000000  1160.000000   \n",
       "\n",
       "                   O  \n",
       "count     552.000000  \n",
       "mean     1087.576087  \n",
       "std      5758.841945  \n",
       "min         0.000000  \n",
       "25%         0.000000  \n",
       "50%         3.500000  \n",
       "75%       364.750000  \n",
       "max    100000.000000  "
      ]
     },
     "execution_count": 11,
     "metadata": {},
     "output_type": "execute_result"
    }
   ],
   "source": [
    "train_data[continuous_cols].describe()"
   ]
  },
  {
   "cell_type": "code",
   "execution_count": 12,
   "metadata": {},
   "outputs": [
    {
     "data": {
      "text/html": [
       "<div>\n",
       "<style scoped>\n",
       "    .dataframe tbody tr th:only-of-type {\n",
       "        vertical-align: middle;\n",
       "    }\n",
       "\n",
       "    .dataframe tbody tr th {\n",
       "        vertical-align: top;\n",
       "    }\n",
       "\n",
       "    .dataframe thead th {\n",
       "        text-align: right;\n",
       "    }\n",
       "</style>\n",
       "<table border=\"1\" class=\"dataframe\">\n",
       "  <thead>\n",
       "    <tr style=\"text-align: right;\">\n",
       "      <th></th>\n",
       "      <th>B</th>\n",
       "      <th>C</th>\n",
       "      <th>H</th>\n",
       "      <th>K</th>\n",
       "      <th>N</th>\n",
       "      <th>O</th>\n",
       "    </tr>\n",
       "  </thead>\n",
       "  <tbody>\n",
       "    <tr>\n",
       "      <th>count</th>\n",
       "      <td>135.000000</td>\n",
       "      <td>138.000000</td>\n",
       "      <td>138.000000</td>\n",
       "      <td>138.000000</td>\n",
       "      <td>136.000000</td>\n",
       "      <td>138.000000</td>\n",
       "    </tr>\n",
       "    <tr>\n",
       "      <th>mean</th>\n",
       "      <td>32.385778</td>\n",
       "      <td>4.673080</td>\n",
       "      <td>2.080326</td>\n",
       "      <td>2.724638</td>\n",
       "      <td>219.227941</td>\n",
       "      <td>736.623188</td>\n",
       "    </tr>\n",
       "    <tr>\n",
       "      <th>std</th>\n",
       "      <td>12.301738</td>\n",
       "      <td>5.151458</td>\n",
       "      <td>2.938105</td>\n",
       "      <td>6.671399</td>\n",
       "      <td>231.864295</td>\n",
       "      <td>1742.379027</td>\n",
       "    </tr>\n",
       "    <tr>\n",
       "      <th>min</th>\n",
       "      <td>15.830000</td>\n",
       "      <td>0.000000</td>\n",
       "      <td>0.000000</td>\n",
       "      <td>0.000000</td>\n",
       "      <td>0.000000</td>\n",
       "      <td>0.000000</td>\n",
       "    </tr>\n",
       "    <tr>\n",
       "      <th>25%</th>\n",
       "      <td>24.205000</td>\n",
       "      <td>0.970000</td>\n",
       "      <td>0.125000</td>\n",
       "      <td>0.000000</td>\n",
       "      <td>98.250000</td>\n",
       "      <td>0.000000</td>\n",
       "    </tr>\n",
       "    <tr>\n",
       "      <th>50%</th>\n",
       "      <td>29.500000</td>\n",
       "      <td>2.750000</td>\n",
       "      <td>0.980000</td>\n",
       "      <td>0.000000</td>\n",
       "      <td>171.000000</td>\n",
       "      <td>8.500000</td>\n",
       "    </tr>\n",
       "    <tr>\n",
       "      <th>75%</th>\n",
       "      <td>38.500000</td>\n",
       "      <td>5.781250</td>\n",
       "      <td>2.500000</td>\n",
       "      <td>3.000000</td>\n",
       "      <td>305.000000</td>\n",
       "      <td>500.000000</td>\n",
       "    </tr>\n",
       "    <tr>\n",
       "      <th>max</th>\n",
       "      <td>76.750000</td>\n",
       "      <td>25.085000</td>\n",
       "      <td>13.875000</td>\n",
       "      <td>67.000000</td>\n",
       "      <td>2000.000000</td>\n",
       "      <td>11177.000000</td>\n",
       "    </tr>\n",
       "  </tbody>\n",
       "</table>\n",
       "</div>"
      ],
      "text/plain": [
       "                B           C           H           K            N  \\\n",
       "count  135.000000  138.000000  138.000000  138.000000   136.000000   \n",
       "mean    32.385778    4.673080    2.080326    2.724638   219.227941   \n",
       "std     12.301738    5.151458    2.938105    6.671399   231.864295   \n",
       "min     15.830000    0.000000    0.000000    0.000000     0.000000   \n",
       "25%     24.205000    0.970000    0.125000    0.000000    98.250000   \n",
       "50%     29.500000    2.750000    0.980000    0.000000   171.000000   \n",
       "75%     38.500000    5.781250    2.500000    3.000000   305.000000   \n",
       "max     76.750000   25.085000   13.875000   67.000000  2000.000000   \n",
       "\n",
       "                  O  \n",
       "count    138.000000  \n",
       "mean     736.623188  \n",
       "std     1742.379027  \n",
       "min        0.000000  \n",
       "25%        0.000000  \n",
       "50%        8.500000  \n",
       "75%      500.000000  \n",
       "max    11177.000000  "
      ]
     },
     "execution_count": 12,
     "metadata": {},
     "output_type": "execute_result"
    }
   ],
   "source": [
    "test_data[continuous_cols].describe()"
   ]
  },
  {
   "cell_type": "code",
   "execution_count": 13,
   "metadata": {},
   "outputs": [
    {
     "data": {
      "text/plain": [
       "A     2\n",
       "D     3\n",
       "E     3\n",
       "F    14\n",
       "G     9\n",
       "I     2\n",
       "J     2\n",
       "L     2\n",
       "M     3\n",
       "dtype: int64"
      ]
     },
     "execution_count": 13,
     "metadata": {},
     "output_type": "execute_result"
    }
   ],
   "source": [
    "train_data[categorical_cols].apply(pd.Series.nunique)"
   ]
  },
  {
   "cell_type": "code",
   "execution_count": 14,
   "metadata": {},
   "outputs": [
    {
     "data": {
      "text/plain": [
       "A     2\n",
       "D     2\n",
       "E     2\n",
       "F    14\n",
       "G     8\n",
       "I     2\n",
       "J     2\n",
       "L     2\n",
       "M     3\n",
       "dtype: int64"
      ]
     },
     "execution_count": 14,
     "metadata": {},
     "output_type": "execute_result"
    }
   ],
   "source": [
    "test_data[categorical_cols].apply(pd.Series.nunique)"
   ]
  },
  {
   "cell_type": "markdown",
   "metadata": {},
   "source": [
    "## Missing values exploration"
   ]
  },
  {
   "cell_type": "code",
   "execution_count": 15,
   "metadata": {},
   "outputs": [
    {
     "data": {
      "text/plain": [
       "B     9\n",
       "C     0\n",
       "H     0\n",
       "K     0\n",
       "N    11\n",
       "O     0\n",
       "dtype: int64"
      ]
     },
     "execution_count": 15,
     "metadata": {},
     "output_type": "execute_result"
    }
   ],
   "source": [
    "train_data[continuous_cols].isnull().sum(axis = 0)"
   ]
  },
  {
   "cell_type": "code",
   "execution_count": 16,
   "metadata": {},
   "outputs": [
    {
     "data": {
      "text/plain": [
       "A    8\n",
       "D    5\n",
       "E    5\n",
       "F    7\n",
       "G    7\n",
       "I    0\n",
       "J    0\n",
       "L    0\n",
       "M    0\n",
       "dtype: int64"
      ]
     },
     "execution_count": 16,
     "metadata": {},
     "output_type": "execute_result"
    }
   ],
   "source": [
    "train_data[categorical_cols].isnull().sum(axis = 0)"
   ]
  },
  {
   "cell_type": "code",
   "execution_count": 17,
   "metadata": {},
   "outputs": [
    {
     "data": {
      "text/plain": [
       "B    3\n",
       "C    0\n",
       "H    0\n",
       "K    0\n",
       "N    2\n",
       "O    0\n",
       "dtype: int64"
      ]
     },
     "execution_count": 17,
     "metadata": {},
     "output_type": "execute_result"
    }
   ],
   "source": [
    "test_data[continuous_cols].isnull().sum(axis = 0)"
   ]
  },
  {
   "cell_type": "code",
   "execution_count": 18,
   "metadata": {},
   "outputs": [
    {
     "data": {
      "text/plain": [
       "A    4\n",
       "D    1\n",
       "E    1\n",
       "F    2\n",
       "G    2\n",
       "I    0\n",
       "J    0\n",
       "L    0\n",
       "M    0\n",
       "dtype: int64"
      ]
     },
     "execution_count": 18,
     "metadata": {},
     "output_type": "execute_result"
    }
   ],
   "source": [
    "test_data[categorical_cols].isnull().sum(axis = 0)"
   ]
  },
  {
   "cell_type": "markdown",
   "metadata": {},
   "source": [
    "# Plots"
   ]
  },
  {
   "cell_type": "markdown",
   "metadata": {},
   "source": [
    "## Continuous vs Target Variable"
   ]
  },
  {
   "cell_type": "code",
   "execution_count": 19,
   "metadata": {},
   "outputs": [
    {
     "data": {
      "image/png": "[encoded data removed]",
      "text/plain": [
       "<matplotlib.figure.Figure at 0x1f54b2286a0>"
      ]
     },
     "metadata": {},
     "output_type": "display_data"
    },
    {
     "data": {
      "image/png": "[encoded data removed]",
      "text/plain": [
       "<matplotlib.figure.Figure at 0x1f54b228ba8>"
      ]
     },
     "metadata": {},
     "output_type": "display_data"
    },
    {
     "data": {
      "image/png": "[encoded data removed]",
      "text/plain": [
       "<matplotlib.figure.Figure at 0x1f54b239c88>"
      ]
     },
     "metadata": {},
     "output_type": "display_data"
    },
    {
     "data": {
      "image/png": "[encoded data removed]",
      "text/plain": [
       "<matplotlib.figure.Figure at 0x1f54a0319b0>"
      ]
     },
     "metadata": {},
     "output_type": "display_data"
    },
    {
     "data": {
      "image/png": "[encoded data removed]",
      "text/plain": [
       "<matplotlib.figure.Figure at 0x1f54b299eb8>"
      ]
     },
     "metadata": {},
     "output_type": "display_data"
    },
    {
     "data": {
      "image/png": "[encoded data removed]",
      "text/plain": [
       "<matplotlib.figure.Figure at 0x1f54b3acf60>"
      ]
     },
     "metadata": {},
     "output_type": "display_data"
    }
   ],
   "source": [
    "for i in continuous_cols:\n",
    "    train_data[[i,target_col[0]]].boxplot(by = target_col[0])"
   ]
  },
  {
   "cell_type": "markdown",
   "metadata": {},
   "source": [
    "# Data Preparation - Train Data"
   ]
  },
  {
   "cell_type": "code",
   "execution_count": 20,
   "metadata": {},
   "outputs": [],
   "source": [
    "categorical_append_train_test = pd.concat([train_data[np.append(categorical_cols,['id'])],test_data[np.append(categorical_cols,['id'])]],axis = 0).reset_index(drop = True)"
   ]
  },
  {
   "cell_type": "code",
   "execution_count": 21,
   "metadata": {},
   "outputs": [],
   "source": [
    "dummies_categorical_append_train_test = pd.concat([pd.get_dummies(categorical_append_train_test.drop('id',axis = 1)),categorical_append_train_test['id']], axis = 1)"
   ]
  },
  {
   "cell_type": "code",
   "execution_count": 22,
   "metadata": {},
   "outputs": [
    {
     "data": {
      "text/plain": [
       "(552, 40)"
      ]
     },
     "execution_count": 22,
     "metadata": {},
     "output_type": "execute_result"
    }
   ],
   "source": [
    "dummies_categorical_append_train_test.loc[dummies_categorical_append_train_test['id']<=552,:].drop('id',axis = 1).shape"
   ]
  },
  {
   "cell_type": "markdown",
   "metadata": {},
   "source": [
    "## Creating Dummy Variables for categorical cols"
   ]
  },
  {
   "cell_type": "code",
   "execution_count": 23,
   "metadata": {},
   "outputs": [
    {
     "data": {
      "text/html": [
       "<div>\n",
       "<style scoped>\n",
       "    .dataframe tbody tr th:only-of-type {\n",
       "        vertical-align: middle;\n",
       "    }\n",
       "\n",
       "    .dataframe tbody tr th {\n",
       "        vertical-align: top;\n",
       "    }\n",
       "\n",
       "    .dataframe thead th {\n",
       "        text-align: right;\n",
       "    }\n",
       "</style>\n",
       "<table border=\"1\" class=\"dataframe\">\n",
       "  <thead>\n",
       "    <tr style=\"text-align: right;\">\n",
       "      <th></th>\n",
       "      <th>A_a</th>\n",
       "      <th>A_b</th>\n",
       "      <th>D_l</th>\n",
       "      <th>D_u</th>\n",
       "      <th>D_y</th>\n",
       "      <th>E_g</th>\n",
       "      <th>E_gg</th>\n",
       "      <th>E_p</th>\n",
       "      <th>F_aa</th>\n",
       "      <th>F_c</th>\n",
       "      <th>...</th>\n",
       "      <th>G_z</th>\n",
       "      <th>I_f</th>\n",
       "      <th>I_t</th>\n",
       "      <th>J_f</th>\n",
       "      <th>J_t</th>\n",
       "      <th>L_f</th>\n",
       "      <th>L_t</th>\n",
       "      <th>M_g</th>\n",
       "      <th>M_p</th>\n",
       "      <th>M_s</th>\n",
       "    </tr>\n",
       "  </thead>\n",
       "  <tbody>\n",
       "    <tr>\n",
       "      <th>count</th>\n",
       "      <td>552.000000</td>\n",
       "      <td>552.000000</td>\n",
       "      <td>552.000000</td>\n",
       "      <td>552.000000</td>\n",
       "      <td>552.000000</td>\n",
       "      <td>552.000000</td>\n",
       "      <td>552.000000</td>\n",
       "      <td>552.000000</td>\n",
       "      <td>552.000000</td>\n",
       "      <td>552.000000</td>\n",
       "      <td>...</td>\n",
       "      <td>552.000000</td>\n",
       "      <td>552.000000</td>\n",
       "      <td>552.000000</td>\n",
       "      <td>552.000000</td>\n",
       "      <td>552.000000</td>\n",
       "      <td>552.000000</td>\n",
       "      <td>552.000000</td>\n",
       "      <td>552.000000</td>\n",
       "      <td>552.000000</td>\n",
       "      <td>552.000000</td>\n",
       "    </tr>\n",
       "    <tr>\n",
       "      <th>mean</th>\n",
       "      <td>0.307971</td>\n",
       "      <td>0.677536</td>\n",
       "      <td>0.003623</td>\n",
       "      <td>0.753623</td>\n",
       "      <td>0.233696</td>\n",
       "      <td>0.753623</td>\n",
       "      <td>0.003623</td>\n",
       "      <td>0.233696</td>\n",
       "      <td>0.076087</td>\n",
       "      <td>0.208333</td>\n",
       "      <td>...</td>\n",
       "      <td>0.012681</td>\n",
       "      <td>0.481884</td>\n",
       "      <td>0.518116</td>\n",
       "      <td>0.577899</td>\n",
       "      <td>0.422101</td>\n",
       "      <td>0.539855</td>\n",
       "      <td>0.460145</td>\n",
       "      <td>0.900362</td>\n",
       "      <td>0.012681</td>\n",
       "      <td>0.086957</td>\n",
       "    </tr>\n",
       "    <tr>\n",
       "      <th>std</th>\n",
       "      <td>0.462073</td>\n",
       "      <td>0.467843</td>\n",
       "      <td>0.060138</td>\n",
       "      <td>0.431291</td>\n",
       "      <td>0.423565</td>\n",
       "      <td>0.431291</td>\n",
       "      <td>0.060138</td>\n",
       "      <td>0.423565</td>\n",
       "      <td>0.265378</td>\n",
       "      <td>0.406485</td>\n",
       "      <td>...</td>\n",
       "      <td>0.111996</td>\n",
       "      <td>0.500125</td>\n",
       "      <td>0.500125</td>\n",
       "      <td>0.494343</td>\n",
       "      <td>0.494343</td>\n",
       "      <td>0.498861</td>\n",
       "      <td>0.498861</td>\n",
       "      <td>0.299788</td>\n",
       "      <td>0.111996</td>\n",
       "      <td>0.282027</td>\n",
       "    </tr>\n",
       "    <tr>\n",
       "      <th>min</th>\n",
       "      <td>0.000000</td>\n",
       "      <td>0.000000</td>\n",
       "      <td>0.000000</td>\n",
       "      <td>0.000000</td>\n",
       "      <td>0.000000</td>\n",
       "      <td>0.000000</td>\n",
       "      <td>0.000000</td>\n",
       "      <td>0.000000</td>\n",
       "      <td>0.000000</td>\n",
       "      <td>0.000000</td>\n",
       "      <td>...</td>\n",
       "      <td>0.000000</td>\n",
       "      <td>0.000000</td>\n",
       "      <td>0.000000</td>\n",
       "      <td>0.000000</td>\n",
       "      <td>0.000000</td>\n",
       "      <td>0.000000</td>\n",
       "      <td>0.000000</td>\n",
       "      <td>0.000000</td>\n",
       "      <td>0.000000</td>\n",
       "      <td>0.000000</td>\n",
       "    </tr>\n",
       "    <tr>\n",
       "      <th>25%</th>\n",
       "      <td>0.000000</td>\n",
       "      <td>0.000000</td>\n",
       "      <td>0.000000</td>\n",
       "      <td>1.000000</td>\n",
       "      <td>0.000000</td>\n",
       "      <td>1.000000</td>\n",
       "      <td>0.000000</td>\n",
       "      <td>0.000000</td>\n",
       "      <td>0.000000</td>\n",
       "      <td>0.000000</td>\n",
       "      <td>...</td>\n",
       "      <td>0.000000</td>\n",
       "      <td>0.000000</td>\n",
       "      <td>0.000000</td>\n",
       "      <td>0.000000</td>\n",
       "      <td>0.000000</td>\n",
       "      <td>0.000000</td>\n",
       "      <td>0.000000</td>\n",
       "      <td>1.000000</td>\n",
       "      <td>0.000000</td>\n",
       "      <td>0.000000</td>\n",
       "    </tr>\n",
       "    <tr>\n",
       "      <th>50%</th>\n",
       "      <td>0.000000</td>\n",
       "      <td>1.000000</td>\n",
       "      <td>0.000000</td>\n",
       "      <td>1.000000</td>\n",
       "      <td>0.000000</td>\n",
       "      <td>1.000000</td>\n",
       "      <td>0.000000</td>\n",
       "      <td>0.000000</td>\n",
       "      <td>0.000000</td>\n",
       "      <td>0.000000</td>\n",
       "      <td>...</td>\n",
       "      <td>0.000000</td>\n",
       "      <td>0.000000</td>\n",
       "      <td>1.000000</td>\n",
       "      <td>1.000000</td>\n",
       "      <td>0.000000</td>\n",
       "      <td>1.000000</td>\n",
       "      <td>0.000000</td>\n",
       "      <td>1.000000</td>\n",
       "      <td>0.000000</td>\n",
       "      <td>0.000000</td>\n",
       "    </tr>\n",
       "    <tr>\n",
       "      <th>75%</th>\n",
       "      <td>1.000000</td>\n",
       "      <td>1.000000</td>\n",
       "      <td>0.000000</td>\n",
       "      <td>1.000000</td>\n",
       "      <td>0.000000</td>\n",
       "      <td>1.000000</td>\n",
       "      <td>0.000000</td>\n",
       "      <td>0.000000</td>\n",
       "      <td>0.000000</td>\n",
       "      <td>0.000000</td>\n",
       "      <td>...</td>\n",
       "      <td>0.000000</td>\n",
       "      <td>1.000000</td>\n",
       "      <td>1.000000</td>\n",
       "      <td>1.000000</td>\n",
       "      <td>1.000000</td>\n",
       "      <td>1.000000</td>\n",
       "      <td>1.000000</td>\n",
       "      <td>1.000000</td>\n",
       "      <td>0.000000</td>\n",
       "      <td>0.000000</td>\n",
       "    </tr>\n",
       "    <tr>\n",
       "      <th>max</th>\n",
       "      <td>1.000000</td>\n",
       "      <td>1.000000</td>\n",
       "      <td>1.000000</td>\n",
       "      <td>1.000000</td>\n",
       "      <td>1.000000</td>\n",
       "      <td>1.000000</td>\n",
       "      <td>1.000000</td>\n",
       "      <td>1.000000</td>\n",
       "      <td>1.000000</td>\n",
       "      <td>1.000000</td>\n",
       "      <td>...</td>\n",
       "      <td>1.000000</td>\n",
       "      <td>1.000000</td>\n",
       "      <td>1.000000</td>\n",
       "      <td>1.000000</td>\n",
       "      <td>1.000000</td>\n",
       "      <td>1.000000</td>\n",
       "      <td>1.000000</td>\n",
       "      <td>1.000000</td>\n",
       "      <td>1.000000</td>\n",
       "      <td>1.000000</td>\n",
       "    </tr>\n",
       "  </tbody>\n",
       "</table>\n",
       "<p>8 rows × 40 columns</p>\n",
       "</div>"
      ],
      "text/plain": [
       "              A_a         A_b         D_l         D_u         D_y         E_g  \\\n",
       "count  552.000000  552.000000  552.000000  552.000000  552.000000  552.000000   \n",
       "mean     0.307971    0.677536    0.003623    0.753623    0.233696    0.753623   \n",
       "std      0.462073    0.467843    0.060138    0.431291    0.423565    0.431291   \n",
       "min      0.000000    0.000000    0.000000    0.000000    0.000000    0.000000   \n",
       "25%      0.000000    0.000000    0.000000    1.000000    0.000000    1.000000   \n",
       "50%      0.000000    1.000000    0.000000    1.000000    0.000000    1.000000   \n",
       "75%      1.000000    1.000000    0.000000    1.000000    0.000000    1.000000   \n",
       "max      1.000000    1.000000    1.000000    1.000000    1.000000    1.000000   \n",
       "\n",
       "             E_gg         E_p        F_aa         F_c     ...             G_z  \\\n",
       "count  552.000000  552.000000  552.000000  552.000000     ...      552.000000   \n",
       "mean     0.003623    0.233696    0.076087    0.208333     ...        0.012681   \n",
       "std      0.060138    0.423565    0.265378    0.406485     ...        0.111996   \n",
       "min      0.000000    0.000000    0.000000    0.000000     ...        0.000000   \n",
       "25%      0.000000    0.000000    0.000000    0.000000     ...        0.000000   \n",
       "50%      0.000000    0.000000    0.000000    0.000000     ...        0.000000   \n",
       "75%      0.000000    0.000000    0.000000    0.000000     ...        0.000000   \n",
       "max      1.000000    1.000000    1.000000    1.000000     ...        1.000000   \n",
       "\n",
       "              I_f         I_t         J_f         J_t         L_f         L_t  \\\n",
       "count  552.000000  552.000000  552.000000  552.000000  552.000000  552.000000   \n",
       "mean     0.481884    0.518116    0.577899    0.422101    0.539855    0.460145   \n",
       "std      0.500125    0.500125    0.494343    0.494343    0.498861    0.498861   \n",
       "min      0.000000    0.000000    0.000000    0.000000    0.000000    0.000000   \n",
       "25%      0.000000    0.000000    0.000000    0.000000    0.000000    0.000000   \n",
       "50%      0.000000    1.000000    1.000000    0.000000    1.000000    0.000000   \n",
       "75%      1.000000    1.000000    1.000000    1.000000    1.000000    1.000000   \n",
       "max      1.000000    1.000000    1.000000    1.000000    1.000000    1.000000   \n",
       "\n",
       "              M_g         M_p         M_s  \n",
       "count  552.000000  552.000000  552.000000  \n",
       "mean     0.900362    0.012681    0.086957  \n",
       "std      0.299788    0.111996    0.282027  \n",
       "min      0.000000    0.000000    0.000000  \n",
       "25%      1.000000    0.000000    0.000000  \n",
       "50%      1.000000    0.000000    0.000000  \n",
       "75%      1.000000    0.000000    0.000000  \n",
       "max      1.000000    1.000000    1.000000  \n",
       "\n",
       "[8 rows x 40 columns]"
      ]
     },
     "execution_count": 23,
     "metadata": {},
     "output_type": "execute_result"
    }
   ],
   "source": [
    "train_data_after_dummies = dummies_categorical_append_train_test.loc[dummies_categorical_append_train_test['id']<=552,:].drop('id',axis = 1)\n",
    "train_data_after_dummies.describe()"
   ]
  },
  {
   "cell_type": "markdown",
   "metadata": {},
   "source": [
    "## Outliers Manipulation"
   ]
  },
  {
   "cell_type": "code",
   "execution_count": 25,
   "metadata": {},
   "outputs": [
    {
     "data": {
      "text/html": [
       "<div>\n",
       "<style scoped>\n",
       "    .dataframe tbody tr th:only-of-type {\n",
       "        vertical-align: middle;\n",
       "    }\n",
       "\n",
       "    .dataframe tbody tr th {\n",
       "        vertical-align: top;\n",
       "    }\n",
       "\n",
       "    .dataframe thead th {\n",
       "        text-align: right;\n",
       "    }\n",
       "</style>\n",
       "<table border=\"1\" class=\"dataframe\">\n",
       "  <thead>\n",
       "    <tr style=\"text-align: right;\">\n",
       "      <th></th>\n",
       "      <th>B</th>\n",
       "      <th>C</th>\n",
       "      <th>H</th>\n",
       "      <th>K</th>\n",
       "      <th>N</th>\n",
       "      <th>O</th>\n",
       "    </tr>\n",
       "  </thead>\n",
       "  <tbody>\n",
       "    <tr>\n",
       "      <th>count</th>\n",
       "      <td>543.000000</td>\n",
       "      <td>552.000000</td>\n",
       "      <td>552.000000</td>\n",
       "      <td>552.000000</td>\n",
       "      <td>541.000000</td>\n",
       "      <td>552.000000</td>\n",
       "    </tr>\n",
       "    <tr>\n",
       "      <th>mean</th>\n",
       "      <td>31.364899</td>\n",
       "      <td>4.780136</td>\n",
       "      <td>2.259176</td>\n",
       "      <td>2.318841</td>\n",
       "      <td>175.162662</td>\n",
       "      <td>1087.576087</td>\n",
       "    </tr>\n",
       "    <tr>\n",
       "      <th>std</th>\n",
       "      <td>11.873665</td>\n",
       "      <td>4.938454</td>\n",
       "      <td>3.442564</td>\n",
       "      <td>4.297867</td>\n",
       "      <td>154.873746</td>\n",
       "      <td>5758.841945</td>\n",
       "    </tr>\n",
       "    <tr>\n",
       "      <th>min</th>\n",
       "      <td>13.750000</td>\n",
       "      <td>0.000000</td>\n",
       "      <td>0.000000</td>\n",
       "      <td>0.000000</td>\n",
       "      <td>0.000000</td>\n",
       "      <td>0.000000</td>\n",
       "    </tr>\n",
       "    <tr>\n",
       "      <th>25%</th>\n",
       "      <td>22.500000</td>\n",
       "      <td>1.000000</td>\n",
       "      <td>0.165000</td>\n",
       "      <td>0.000000</td>\n",
       "      <td>60.000000</td>\n",
       "      <td>0.000000</td>\n",
       "    </tr>\n",
       "    <tr>\n",
       "      <th>50%</th>\n",
       "      <td>28.170000</td>\n",
       "      <td>2.750000</td>\n",
       "      <td>1.000000</td>\n",
       "      <td>0.000000</td>\n",
       "      <td>152.000000</td>\n",
       "      <td>3.500000</td>\n",
       "    </tr>\n",
       "    <tr>\n",
       "      <th>75%</th>\n",
       "      <td>37.665000</td>\n",
       "      <td>7.561250</td>\n",
       "      <td>2.750000</td>\n",
       "      <td>3.000000</td>\n",
       "      <td>268.000000</td>\n",
       "      <td>364.750000</td>\n",
       "    </tr>\n",
       "    <tr>\n",
       "      <th>max</th>\n",
       "      <td>80.250000</td>\n",
       "      <td>28.000000</td>\n",
       "      <td>28.500000</td>\n",
       "      <td>40.000000</td>\n",
       "      <td>1160.000000</td>\n",
       "      <td>100000.000000</td>\n",
       "    </tr>\n",
       "  </tbody>\n",
       "</table>\n",
       "</div>"
      ],
      "text/plain": [
       "                B           C           H           K            N  \\\n",
       "count  543.000000  552.000000  552.000000  552.000000   541.000000   \n",
       "mean    31.364899    4.780136    2.259176    2.318841   175.162662   \n",
       "std     11.873665    4.938454    3.442564    4.297867   154.873746   \n",
       "min     13.750000    0.000000    0.000000    0.000000     0.000000   \n",
       "25%     22.500000    1.000000    0.165000    0.000000    60.000000   \n",
       "50%     28.170000    2.750000    1.000000    0.000000   152.000000   \n",
       "75%     37.665000    7.561250    2.750000    3.000000   268.000000   \n",
       "max     80.250000   28.000000   28.500000   40.000000  1160.000000   \n",
       "\n",
       "                   O  \n",
       "count     552.000000  \n",
       "mean     1087.576087  \n",
       "std      5758.841945  \n",
       "min         0.000000  \n",
       "25%         0.000000  \n",
       "50%         3.500000  \n",
       "75%       364.750000  \n",
       "max    100000.000000  "
      ]
     },
     "execution_count": 25,
     "metadata": {},
     "output_type": "execute_result"
    }
   ],
   "source": [
    "train_data[continuous_cols].describe()"
   ]
  },
  {
   "cell_type": "code",
   "execution_count": 26,
   "metadata": {},
   "outputs": [],
   "source": [
    "def rm_outliers(pd_series):\n",
    "    quantile_75 = pd_series.quantile(0.75)\n",
    "    quantile_25 = pd_series.quantile(0.25)\n",
    "    iqr = 1.5*(quantile_75-quantile_25)\n",
    "    conditions = [pd_series > quantile_75 + iqr,\n",
    "                  pd_series < quantile_25 - iqr\n",
    "                 ]\n",
    "    choices = [quantile_75+iqr, quantile_25-iqr]\n",
    "    pd_series_after = pd.Series(np.select(conditions,choices, default=pd_series))\n",
    "    return pd_series_after"
   ]
  },
  {
   "cell_type": "code",
   "execution_count": 39,
   "metadata": {},
   "outputs": [],
   "source": [
    "def rm_outliers_1(pd_series):\n",
    "    quantile_95 = pd_series.quantile(0.95)\n",
    "#     quantile_25 = pd_series.quantile(0.25)\n",
    "#     iqr = 1.5*(quantile_75-quantile_25)\n",
    "    conditions = [pd_series > quantile_95]\n",
    "    choices = [quantile_95]\n",
    "    pd_series_after = pd.Series(np.select(conditions,choices, default=pd_series))\n",
    "    return pd_series_after"
   ]
  },
  {
   "cell_type": "code",
   "execution_count": 41,
   "metadata": {},
   "outputs": [],
   "source": [
    "train_data_after_outliers = train_data[continuous_cols[continuous_cols!='O']].apply(rm_outliers)\n",
    "train_data_after_outliers['O'] = rm_outliers_1(train_data['O'])"
   ]
  },
  {
   "cell_type": "code",
   "execution_count": 42,
   "metadata": {},
   "outputs": [
    {
     "data": {
      "text/html": [
       "<div>\n",
       "<style scoped>\n",
       "    .dataframe tbody tr th:only-of-type {\n",
       "        vertical-align: middle;\n",
       "    }\n",
       "\n",
       "    .dataframe tbody tr th {\n",
       "        vertical-align: top;\n",
       "    }\n",
       "\n",
       "    .dataframe thead th {\n",
       "        text-align: right;\n",
       "    }\n",
       "</style>\n",
       "<table border=\"1\" class=\"dataframe\">\n",
       "  <thead>\n",
       "    <tr style=\"text-align: right;\">\n",
       "      <th></th>\n",
       "      <th>B</th>\n",
       "      <th>C</th>\n",
       "      <th>H</th>\n",
       "      <th>K</th>\n",
       "      <th>N</th>\n",
       "      <th>O</th>\n",
       "    </tr>\n",
       "  </thead>\n",
       "  <tbody>\n",
       "    <tr>\n",
       "      <th>count</th>\n",
       "      <td>543.000000</td>\n",
       "      <td>552.000000</td>\n",
       "      <td>552.000000</td>\n",
       "      <td>552.000000</td>\n",
       "      <td>541.000000</td>\n",
       "      <td>552.000000</td>\n",
       "    </tr>\n",
       "    <tr>\n",
       "      <th>mean</th>\n",
       "      <td>31.203803</td>\n",
       "      <td>4.686185</td>\n",
       "      <td>1.848682</td>\n",
       "      <td>1.773551</td>\n",
       "      <td>172.295749</td>\n",
       "      <td>473.496014</td>\n",
       "    </tr>\n",
       "    <tr>\n",
       "      <th>std</th>\n",
       "      <td>11.399238</td>\n",
       "      <td>4.619427</td>\n",
       "      <td>2.100632</td>\n",
       "      <td>2.699463</td>\n",
       "      <td>143.945467</td>\n",
       "      <td>979.577622</td>\n",
       "    </tr>\n",
       "    <tr>\n",
       "      <th>min</th>\n",
       "      <td>13.750000</td>\n",
       "      <td>0.000000</td>\n",
       "      <td>0.000000</td>\n",
       "      <td>0.000000</td>\n",
       "      <td>0.000000</td>\n",
       "      <td>0.000000</td>\n",
       "    </tr>\n",
       "    <tr>\n",
       "      <th>25%</th>\n",
       "      <td>22.500000</td>\n",
       "      <td>1.000000</td>\n",
       "      <td>0.165000</td>\n",
       "      <td>0.000000</td>\n",
       "      <td>60.000000</td>\n",
       "      <td>0.000000</td>\n",
       "    </tr>\n",
       "    <tr>\n",
       "      <th>50%</th>\n",
       "      <td>28.170000</td>\n",
       "      <td>2.750000</td>\n",
       "      <td>1.000000</td>\n",
       "      <td>0.000000</td>\n",
       "      <td>152.000000</td>\n",
       "      <td>3.500000</td>\n",
       "    </tr>\n",
       "    <tr>\n",
       "      <th>75%</th>\n",
       "      <td>37.665000</td>\n",
       "      <td>7.561250</td>\n",
       "      <td>2.750000</td>\n",
       "      <td>3.000000</td>\n",
       "      <td>268.000000</td>\n",
       "      <td>364.750000</td>\n",
       "    </tr>\n",
       "    <tr>\n",
       "      <th>max</th>\n",
       "      <td>60.412500</td>\n",
       "      <td>17.403125</td>\n",
       "      <td>6.627500</td>\n",
       "      <td>7.500000</td>\n",
       "      <td>580.000000</td>\n",
       "      <td>3753.600000</td>\n",
       "    </tr>\n",
       "  </tbody>\n",
       "</table>\n",
       "</div>"
      ],
      "text/plain": [
       "                B           C           H           K           N            O\n",
       "count  543.000000  552.000000  552.000000  552.000000  541.000000   552.000000\n",
       "mean    31.203803    4.686185    1.848682    1.773551  172.295749   473.496014\n",
       "std     11.399238    4.619427    2.100632    2.699463  143.945467   979.577622\n",
       "min     13.750000    0.000000    0.000000    0.000000    0.000000     0.000000\n",
       "25%     22.500000    1.000000    0.165000    0.000000   60.000000     0.000000\n",
       "50%     28.170000    2.750000    1.000000    0.000000  152.000000     3.500000\n",
       "75%     37.665000    7.561250    2.750000    3.000000  268.000000   364.750000\n",
       "max     60.412500   17.403125    6.627500    7.500000  580.000000  3753.600000"
      ]
     },
     "execution_count": 42,
     "metadata": {},
     "output_type": "execute_result"
    }
   ],
   "source": [
    "train_data_after_outliers.describe()"
   ]
  },
  {
   "cell_type": "markdown",
   "metadata": {},
   "source": [
    "## Missing Values Interpretation"
   ]
  },
  {
   "cell_type": "code",
   "execution_count": 43,
   "metadata": {},
   "outputs": [
    {
     "data": {
      "text/html": [
       "<div>\n",
       "<style scoped>\n",
       "    .dataframe tbody tr th:only-of-type {\n",
       "        vertical-align: middle;\n",
       "    }\n",
       "\n",
       "    .dataframe tbody tr th {\n",
       "        vertical-align: top;\n",
       "    }\n",
       "\n",
       "    .dataframe thead th {\n",
       "        text-align: right;\n",
       "    }\n",
       "</style>\n",
       "<table border=\"1\" class=\"dataframe\">\n",
       "  <thead>\n",
       "    <tr style=\"text-align: right;\">\n",
       "      <th></th>\n",
       "      <th>B</th>\n",
       "      <th>C</th>\n",
       "      <th>H</th>\n",
       "      <th>K</th>\n",
       "      <th>N</th>\n",
       "      <th>O</th>\n",
       "    </tr>\n",
       "  </thead>\n",
       "  <tbody>\n",
       "    <tr>\n",
       "      <th>count</th>\n",
       "      <td>552.000000</td>\n",
       "      <td>552.000000</td>\n",
       "      <td>552.000000</td>\n",
       "      <td>552.000000</td>\n",
       "      <td>552.000000</td>\n",
       "      <td>552.000000</td>\n",
       "    </tr>\n",
       "    <tr>\n",
       "      <th>mean</th>\n",
       "      <td>31.203803</td>\n",
       "      <td>4.686185</td>\n",
       "      <td>1.848682</td>\n",
       "      <td>1.773551</td>\n",
       "      <td>172.295749</td>\n",
       "      <td>473.496014</td>\n",
       "    </tr>\n",
       "    <tr>\n",
       "      <th>std</th>\n",
       "      <td>11.305757</td>\n",
       "      <td>4.619427</td>\n",
       "      <td>2.100632</td>\n",
       "      <td>2.699463</td>\n",
       "      <td>142.501381</td>\n",
       "      <td>979.577622</td>\n",
       "    </tr>\n",
       "    <tr>\n",
       "      <th>min</th>\n",
       "      <td>13.750000</td>\n",
       "      <td>0.000000</td>\n",
       "      <td>0.000000</td>\n",
       "      <td>0.000000</td>\n",
       "      <td>0.000000</td>\n",
       "      <td>0.000000</td>\n",
       "    </tr>\n",
       "    <tr>\n",
       "      <th>25%</th>\n",
       "      <td>22.500000</td>\n",
       "      <td>1.000000</td>\n",
       "      <td>0.165000</td>\n",
       "      <td>0.000000</td>\n",
       "      <td>70.000000</td>\n",
       "      <td>0.000000</td>\n",
       "    </tr>\n",
       "    <tr>\n",
       "      <th>50%</th>\n",
       "      <td>28.500000</td>\n",
       "      <td>2.750000</td>\n",
       "      <td>1.000000</td>\n",
       "      <td>0.000000</td>\n",
       "      <td>160.000000</td>\n",
       "      <td>3.500000</td>\n",
       "    </tr>\n",
       "    <tr>\n",
       "      <th>75%</th>\n",
       "      <td>37.372500</td>\n",
       "      <td>7.561250</td>\n",
       "      <td>2.750000</td>\n",
       "      <td>3.000000</td>\n",
       "      <td>260.000000</td>\n",
       "      <td>364.750000</td>\n",
       "    </tr>\n",
       "    <tr>\n",
       "      <th>max</th>\n",
       "      <td>60.412500</td>\n",
       "      <td>17.403125</td>\n",
       "      <td>6.627500</td>\n",
       "      <td>7.500000</td>\n",
       "      <td>580.000000</td>\n",
       "      <td>3753.600000</td>\n",
       "    </tr>\n",
       "  </tbody>\n",
       "</table>\n",
       "</div>"
      ],
      "text/plain": [
       "                B           C           H           K           N            O\n",
       "count  552.000000  552.000000  552.000000  552.000000  552.000000   552.000000\n",
       "mean    31.203803    4.686185    1.848682    1.773551  172.295749   473.496014\n",
       "std     11.305757    4.619427    2.100632    2.699463  142.501381   979.577622\n",
       "min     13.750000    0.000000    0.000000    0.000000    0.000000     0.000000\n",
       "25%     22.500000    1.000000    0.165000    0.000000   70.000000     0.000000\n",
       "50%     28.500000    2.750000    1.000000    0.000000  160.000000     3.500000\n",
       "75%     37.372500    7.561250    2.750000    3.000000  260.000000   364.750000\n",
       "max     60.412500   17.403125    6.627500    7.500000  580.000000  3753.600000"
      ]
     },
     "execution_count": 43,
     "metadata": {},
     "output_type": "execute_result"
    }
   ],
   "source": [
    "train_data_after_nans =train_data_after_outliers.fillna(train_data_after_outliers.mean())\n",
    "train_data_after_nans.describe()"
   ]
  },
  {
   "cell_type": "markdown",
   "metadata": {},
   "source": [
    "## Normalization"
   ]
  },
  {
   "cell_type": "code",
   "execution_count": 44,
   "metadata": {},
   "outputs": [],
   "source": [
    "def normalization(pd_series):\n",
    "    pd_series_new = (pd_series - pd_series.mean())/pd_series.std()\n",
    "    return pd_series_new"
   ]
  },
  {
   "cell_type": "code",
   "execution_count": 45,
   "metadata": {},
   "outputs": [
    {
     "data": {
      "text/html": [
       "<div>\n",
       "<style scoped>\n",
       "    .dataframe tbody tr th:only-of-type {\n",
       "        vertical-align: middle;\n",
       "    }\n",
       "\n",
       "    .dataframe tbody tr th {\n",
       "        vertical-align: top;\n",
       "    }\n",
       "\n",
       "    .dataframe thead th {\n",
       "        text-align: right;\n",
       "    }\n",
       "</style>\n",
       "<table border=\"1\" class=\"dataframe\">\n",
       "  <thead>\n",
       "    <tr style=\"text-align: right;\">\n",
       "      <th></th>\n",
       "      <th>B</th>\n",
       "      <th>C</th>\n",
       "      <th>H</th>\n",
       "      <th>K</th>\n",
       "      <th>N</th>\n",
       "      <th>O</th>\n",
       "    </tr>\n",
       "  </thead>\n",
       "  <tbody>\n",
       "    <tr>\n",
       "      <th>count</th>\n",
       "      <td>5.520000e+02</td>\n",
       "      <td>5.520000e+02</td>\n",
       "      <td>5.520000e+02</td>\n",
       "      <td>5.520000e+02</td>\n",
       "      <td>5.520000e+02</td>\n",
       "      <td>5.520000e+02</td>\n",
       "    </tr>\n",
       "    <tr>\n",
       "      <th>mean</th>\n",
       "      <td>-8.310582e-16</td>\n",
       "      <td>3.159208e-16</td>\n",
       "      <td>-6.082091e-16</td>\n",
       "      <td>-9.674226e-17</td>\n",
       "      <td>2.180221e-16</td>\n",
       "      <td>-1.998200e-16</td>\n",
       "    </tr>\n",
       "    <tr>\n",
       "      <th>std</th>\n",
       "      <td>1.000000e+00</td>\n",
       "      <td>1.000000e+00</td>\n",
       "      <td>1.000000e+00</td>\n",
       "      <td>1.000000e+00</td>\n",
       "      <td>1.000000e+00</td>\n",
       "      <td>1.000000e+00</td>\n",
       "    </tr>\n",
       "    <tr>\n",
       "      <th>min</th>\n",
       "      <td>-1.543798e+00</td>\n",
       "      <td>-1.014452e+00</td>\n",
       "      <td>-8.800600e-01</td>\n",
       "      <td>-6.570012e-01</td>\n",
       "      <td>-1.209081e+00</td>\n",
       "      <td>-4.833675e-01</td>\n",
       "    </tr>\n",
       "    <tr>\n",
       "      <th>25%</th>\n",
       "      <td>-7.698558e-01</td>\n",
       "      <td>-7.979746e-01</td>\n",
       "      <td>-8.015122e-01</td>\n",
       "      <td>-6.570012e-01</td>\n",
       "      <td>-7.178579e-01</td>\n",
       "      <td>-4.833675e-01</td>\n",
       "    </tr>\n",
       "    <tr>\n",
       "      <th>50%</th>\n",
       "      <td>-2.391528e-01</td>\n",
       "      <td>-4.191398e-01</td>\n",
       "      <td>-4.040128e-01</td>\n",
       "      <td>-6.570012e-01</td>\n",
       "      <td>-8.628512e-02</td>\n",
       "      <td>-4.797946e-01</td>\n",
       "    </tr>\n",
       "    <tr>\n",
       "      <th>75%</th>\n",
       "      <td>5.456244e-01</td>\n",
       "      <td>6.223856e-01</td>\n",
       "      <td>4.290699e-01</td>\n",
       "      <td>4.543308e-01</td>\n",
       "      <td>6.154625e-01</td>\n",
       "      <td>-1.110132e-01</td>\n",
       "    </tr>\n",
       "    <tr>\n",
       "      <th>max</th>\n",
       "      <td>2.583524e+00</td>\n",
       "      <td>2.752926e+00</td>\n",
       "      <td>2.274943e+00</td>\n",
       "      <td>2.121329e+00</td>\n",
       "      <td>2.861055e+00</td>\n",
       "      <td>3.348488e+00</td>\n",
       "    </tr>\n",
       "  </tbody>\n",
       "</table>\n",
       "</div>"
      ],
      "text/plain": [
       "                  B             C             H             K             N  \\\n",
       "count  5.520000e+02  5.520000e+02  5.520000e+02  5.520000e+02  5.520000e+02   \n",
       "mean  -8.310582e-16  3.159208e-16 -6.082091e-16 -9.674226e-17  2.180221e-16   \n",
       "std    1.000000e+00  1.000000e+00  1.000000e+00  1.000000e+00  1.000000e+00   \n",
       "min   -1.543798e+00 -1.014452e+00 -8.800600e-01 -6.570012e-01 -1.209081e+00   \n",
       "25%   -7.698558e-01 -7.979746e-01 -8.015122e-01 -6.570012e-01 -7.178579e-01   \n",
       "50%   -2.391528e-01 -4.191398e-01 -4.040128e-01 -6.570012e-01 -8.628512e-02   \n",
       "75%    5.456244e-01  6.223856e-01  4.290699e-01  4.543308e-01  6.154625e-01   \n",
       "max    2.583524e+00  2.752926e+00  2.274943e+00  2.121329e+00  2.861055e+00   \n",
       "\n",
       "                  O  \n",
       "count  5.520000e+02  \n",
       "mean  -1.998200e-16  \n",
       "std    1.000000e+00  \n",
       "min   -4.833675e-01  \n",
       "25%   -4.833675e-01  \n",
       "50%   -4.797946e-01  \n",
       "75%   -1.110132e-01  \n",
       "max    3.348488e+00  "
      ]
     },
     "execution_count": 45,
     "metadata": {},
     "output_type": "execute_result"
    }
   ],
   "source": [
    "train_data_after_normalization = train_data_after_nans.apply(normalization)\n",
    "train_data_after_normalization.describe()"
   ]
  },
  {
   "cell_type": "markdown",
   "metadata": {},
   "source": [
    "## Final Train Dataset after Cleaning"
   ]
  },
  {
   "cell_type": "code",
   "execution_count": 46,
   "metadata": {},
   "outputs": [],
   "source": [
    "train_data_after_clean = pd.concat([train_data_after_normalization,train_data_after_dummies,train_data[target_col]],axis = 1)"
   ]
  },
  {
   "cell_type": "code",
   "execution_count": 47,
   "metadata": {},
   "outputs": [
    {
     "data": {
      "image/png": "[encoded data removed]",
      "text/plain": [
       "<matplotlib.figure.Figure at 0x1f54c8a46d8>"
      ]
     },
     "metadata": {},
     "output_type": "display_data"
    },
    {
     "data": {
      "image/png": "[encoded data removed]",
      "text/plain": [
       "<matplotlib.figure.Figure at 0x1f54c8bd630>"
      ]
     },
     "metadata": {},
     "output_type": "display_data"
    },
    {
     "data": {
      "image/png": "[encoded data removed]",
      "text/plain": [
       "<matplotlib.figure.Figure at 0x1f54c8a4470>"
      ]
     },
     "metadata": {},
     "output_type": "display_data"
    },
    {
     "data": {
      "image/png": "[encoded data removed]",
      "text/plain": [
       "<matplotlib.figure.Figure at 0x1f54c84ba58>"
      ]
     },
     "metadata": {},
     "output_type": "display_data"
    },
    {
     "data": {
      "image/png": "[encoded data removed]",
      "text/plain": [
       "<matplotlib.figure.Figure at 0x1f54cf0b898>"
      ]
     },
     "metadata": {},
     "output_type": "display_data"
    },
    {
     "data": {
      "image/png": "[encoded data removed]",
      "text/plain": [
       "<matplotlib.figure.Figure at 0x1f54cfb2e80>"
      ]
     },
     "metadata": {},
     "output_type": "display_data"
    }
   ],
   "source": [
    "for i in continuous_cols:\n",
    "    train_data_after_clean[[i,target_col[0]]].boxplot(by = target_col[0])"
   ]
  },
  {
   "cell_type": "markdown",
   "metadata": {},
   "source": [
    "# Data Preparation - Test Data"
   ]
  },
  {
   "cell_type": "markdown",
   "metadata": {},
   "source": [
    "## Creating Dummy Variables for categorical cols"
   ]
  },
  {
   "cell_type": "code",
   "execution_count": 48,
   "metadata": {},
   "outputs": [
    {
     "data": {
      "text/html": [
       "<div>\n",
       "<style scoped>\n",
       "    .dataframe tbody tr th:only-of-type {\n",
       "        vertical-align: middle;\n",
       "    }\n",
       "\n",
       "    .dataframe tbody tr th {\n",
       "        vertical-align: top;\n",
       "    }\n",
       "\n",
       "    .dataframe thead th {\n",
       "        text-align: right;\n",
       "    }\n",
       "</style>\n",
       "<table border=\"1\" class=\"dataframe\">\n",
       "  <thead>\n",
       "    <tr style=\"text-align: right;\">\n",
       "      <th></th>\n",
       "      <th>A_a</th>\n",
       "      <th>A_b</th>\n",
       "      <th>D_l</th>\n",
       "      <th>D_u</th>\n",
       "      <th>D_y</th>\n",
       "      <th>E_g</th>\n",
       "      <th>E_gg</th>\n",
       "      <th>E_p</th>\n",
       "      <th>F_aa</th>\n",
       "      <th>F_c</th>\n",
       "      <th>...</th>\n",
       "      <th>G_z</th>\n",
       "      <th>I_f</th>\n",
       "      <th>I_t</th>\n",
       "      <th>J_f</th>\n",
       "      <th>J_t</th>\n",
       "      <th>L_f</th>\n",
       "      <th>L_t</th>\n",
       "      <th>M_g</th>\n",
       "      <th>M_p</th>\n",
       "      <th>M_s</th>\n",
       "    </tr>\n",
       "  </thead>\n",
       "  <tbody>\n",
       "    <tr>\n",
       "      <th>count</th>\n",
       "      <td>138.000000</td>\n",
       "      <td>138.000000</td>\n",
       "      <td>138.0</td>\n",
       "      <td>138.000000</td>\n",
       "      <td>138.000000</td>\n",
       "      <td>138.000000</td>\n",
       "      <td>138.0</td>\n",
       "      <td>138.000000</td>\n",
       "      <td>138.000000</td>\n",
       "      <td>138.000000</td>\n",
       "      <td>...</td>\n",
       "      <td>138.000000</td>\n",
       "      <td>138.000000</td>\n",
       "      <td>138.000000</td>\n",
       "      <td>138.000000</td>\n",
       "      <td>138.000000</td>\n",
       "      <td>138.000000</td>\n",
       "      <td>138.000000</td>\n",
       "      <td>138.000000</td>\n",
       "      <td>138.000000</td>\n",
       "      <td>138.000000</td>\n",
       "    </tr>\n",
       "    <tr>\n",
       "      <th>mean</th>\n",
       "      <td>0.289855</td>\n",
       "      <td>0.681159</td>\n",
       "      <td>0.0</td>\n",
       "      <td>0.746377</td>\n",
       "      <td>0.246377</td>\n",
       "      <td>0.746377</td>\n",
       "      <td>0.0</td>\n",
       "      <td>0.246377</td>\n",
       "      <td>0.086957</td>\n",
       "      <td>0.159420</td>\n",
       "      <td>...</td>\n",
       "      <td>0.007246</td>\n",
       "      <td>0.456522</td>\n",
       "      <td>0.543478</td>\n",
       "      <td>0.550725</td>\n",
       "      <td>0.449275</td>\n",
       "      <td>0.550725</td>\n",
       "      <td>0.449275</td>\n",
       "      <td>0.927536</td>\n",
       "      <td>0.007246</td>\n",
       "      <td>0.065217</td>\n",
       "    </tr>\n",
       "    <tr>\n",
       "      <th>std</th>\n",
       "      <td>0.455348</td>\n",
       "      <td>0.467725</td>\n",
       "      <td>0.0</td>\n",
       "      <td>0.436669</td>\n",
       "      <td>0.432470</td>\n",
       "      <td>0.436669</td>\n",
       "      <td>0.0</td>\n",
       "      <td>0.432470</td>\n",
       "      <td>0.282798</td>\n",
       "      <td>0.367401</td>\n",
       "      <td>...</td>\n",
       "      <td>0.085126</td>\n",
       "      <td>0.499921</td>\n",
       "      <td>0.499921</td>\n",
       "      <td>0.499232</td>\n",
       "      <td>0.499232</td>\n",
       "      <td>0.499232</td>\n",
       "      <td>0.499232</td>\n",
       "      <td>0.260199</td>\n",
       "      <td>0.085126</td>\n",
       "      <td>0.247809</td>\n",
       "    </tr>\n",
       "    <tr>\n",
       "      <th>min</th>\n",
       "      <td>0.000000</td>\n",
       "      <td>0.000000</td>\n",
       "      <td>0.0</td>\n",
       "      <td>0.000000</td>\n",
       "      <td>0.000000</td>\n",
       "      <td>0.000000</td>\n",
       "      <td>0.0</td>\n",
       "      <td>0.000000</td>\n",
       "      <td>0.000000</td>\n",
       "      <td>0.000000</td>\n",
       "      <td>...</td>\n",
       "      <td>0.000000</td>\n",
       "      <td>0.000000</td>\n",
       "      <td>0.000000</td>\n",
       "      <td>0.000000</td>\n",
       "      <td>0.000000</td>\n",
       "      <td>0.000000</td>\n",
       "      <td>0.000000</td>\n",
       "      <td>0.000000</td>\n",
       "      <td>0.000000</td>\n",
       "      <td>0.000000</td>\n",
       "    </tr>\n",
       "    <tr>\n",
       "      <th>25%</th>\n",
       "      <td>0.000000</td>\n",
       "      <td>0.000000</td>\n",
       "      <td>0.0</td>\n",
       "      <td>0.250000</td>\n",
       "      <td>0.000000</td>\n",
       "      <td>0.250000</td>\n",
       "      <td>0.0</td>\n",
       "      <td>0.000000</td>\n",
       "      <td>0.000000</td>\n",
       "      <td>0.000000</td>\n",
       "      <td>...</td>\n",
       "      <td>0.000000</td>\n",
       "      <td>0.000000</td>\n",
       "      <td>0.000000</td>\n",
       "      <td>0.000000</td>\n",
       "      <td>0.000000</td>\n",
       "      <td>0.000000</td>\n",
       "      <td>0.000000</td>\n",
       "      <td>1.000000</td>\n",
       "      <td>0.000000</td>\n",
       "      <td>0.000000</td>\n",
       "    </tr>\n",
       "    <tr>\n",
       "      <th>50%</th>\n",
       "      <td>0.000000</td>\n",
       "      <td>1.000000</td>\n",
       "      <td>0.0</td>\n",
       "      <td>1.000000</td>\n",
       "      <td>0.000000</td>\n",
       "      <td>1.000000</td>\n",
       "      <td>0.0</td>\n",
       "      <td>0.000000</td>\n",
       "      <td>0.000000</td>\n",
       "      <td>0.000000</td>\n",
       "      <td>...</td>\n",
       "      <td>0.000000</td>\n",
       "      <td>0.000000</td>\n",
       "      <td>1.000000</td>\n",
       "      <td>1.000000</td>\n",
       "      <td>0.000000</td>\n",
       "      <td>1.000000</td>\n",
       "      <td>0.000000</td>\n",
       "      <td>1.000000</td>\n",
       "      <td>0.000000</td>\n",
       "      <td>0.000000</td>\n",
       "    </tr>\n",
       "    <tr>\n",
       "      <th>75%</th>\n",
       "      <td>1.000000</td>\n",
       "      <td>1.000000</td>\n",
       "      <td>0.0</td>\n",
       "      <td>1.000000</td>\n",
       "      <td>0.000000</td>\n",
       "      <td>1.000000</td>\n",
       "      <td>0.0</td>\n",
       "      <td>0.000000</td>\n",
       "      <td>0.000000</td>\n",
       "      <td>0.000000</td>\n",
       "      <td>...</td>\n",
       "      <td>0.000000</td>\n",
       "      <td>1.000000</td>\n",
       "      <td>1.000000</td>\n",
       "      <td>1.000000</td>\n",
       "      <td>1.000000</td>\n",
       "      <td>1.000000</td>\n",
       "      <td>1.000000</td>\n",
       "      <td>1.000000</td>\n",
       "      <td>0.000000</td>\n",
       "      <td>0.000000</td>\n",
       "    </tr>\n",
       "    <tr>\n",
       "      <th>max</th>\n",
       "      <td>1.000000</td>\n",
       "      <td>1.000000</td>\n",
       "      <td>0.0</td>\n",
       "      <td>1.000000</td>\n",
       "      <td>1.000000</td>\n",
       "      <td>1.000000</td>\n",
       "      <td>0.0</td>\n",
       "      <td>1.000000</td>\n",
       "      <td>1.000000</td>\n",
       "      <td>1.000000</td>\n",
       "      <td>...</td>\n",
       "      <td>1.000000</td>\n",
       "      <td>1.000000</td>\n",
       "      <td>1.000000</td>\n",
       "      <td>1.000000</td>\n",
       "      <td>1.000000</td>\n",
       "      <td>1.000000</td>\n",
       "      <td>1.000000</td>\n",
       "      <td>1.000000</td>\n",
       "      <td>1.000000</td>\n",
       "      <td>1.000000</td>\n",
       "    </tr>\n",
       "  </tbody>\n",
       "</table>\n",
       "<p>8 rows × 40 columns</p>\n",
       "</div>"
      ],
      "text/plain": [
       "              A_a         A_b    D_l         D_u         D_y         E_g  \\\n",
       "count  138.000000  138.000000  138.0  138.000000  138.000000  138.000000   \n",
       "mean     0.289855    0.681159    0.0    0.746377    0.246377    0.746377   \n",
       "std      0.455348    0.467725    0.0    0.436669    0.432470    0.436669   \n",
       "min      0.000000    0.000000    0.0    0.000000    0.000000    0.000000   \n",
       "25%      0.000000    0.000000    0.0    0.250000    0.000000    0.250000   \n",
       "50%      0.000000    1.000000    0.0    1.000000    0.000000    1.000000   \n",
       "75%      1.000000    1.000000    0.0    1.000000    0.000000    1.000000   \n",
       "max      1.000000    1.000000    0.0    1.000000    1.000000    1.000000   \n",
       "\n",
       "        E_gg         E_p        F_aa         F_c     ...             G_z  \\\n",
       "count  138.0  138.000000  138.000000  138.000000     ...      138.000000   \n",
       "mean     0.0    0.246377    0.086957    0.159420     ...        0.007246   \n",
       "std      0.0    0.432470    0.282798    0.367401     ...        0.085126   \n",
       "min      0.0    0.000000    0.000000    0.000000     ...        0.000000   \n",
       "25%      0.0    0.000000    0.000000    0.000000     ...        0.000000   \n",
       "50%      0.0    0.000000    0.000000    0.000000     ...        0.000000   \n",
       "75%      0.0    0.000000    0.000000    0.000000     ...        0.000000   \n",
       "max      0.0    1.000000    1.000000    1.000000     ...        1.000000   \n",
       "\n",
       "              I_f         I_t         J_f         J_t         L_f         L_t  \\\n",
       "count  138.000000  138.000000  138.000000  138.000000  138.000000  138.000000   \n",
       "mean     0.456522    0.543478    0.550725    0.449275    0.550725    0.449275   \n",
       "std      0.499921    0.499921    0.499232    0.499232    0.499232    0.499232   \n",
       "min      0.000000    0.000000    0.000000    0.000000    0.000000    0.000000   \n",
       "25%      0.000000    0.000000    0.000000    0.000000    0.000000    0.000000   \n",
       "50%      0.000000    1.000000    1.000000    0.000000    1.000000    0.000000   \n",
       "75%      1.000000    1.000000    1.000000    1.000000    1.000000    1.000000   \n",
       "max      1.000000    1.000000    1.000000    1.000000    1.000000    1.000000   \n",
       "\n",
       "              M_g         M_p         M_s  \n",
       "count  138.000000  138.000000  138.000000  \n",
       "mean     0.927536    0.007246    0.065217  \n",
       "std      0.260199    0.085126    0.247809  \n",
       "min      0.000000    0.000000    0.000000  \n",
       "25%      1.000000    0.000000    0.000000  \n",
       "50%      1.000000    0.000000    0.000000  \n",
       "75%      1.000000    0.000000    0.000000  \n",
       "max      1.000000    1.000000    1.000000  \n",
       "\n",
       "[8 rows x 40 columns]"
      ]
     },
     "execution_count": 48,
     "metadata": {},
     "output_type": "execute_result"
    }
   ],
   "source": [
    "test_data_after_dummies = dummies_categorical_append_train_test.loc[dummies_categorical_append_train_test['id']>552,:].drop('id',axis = 1).reset_index(drop = True)\n",
    "test_data_after_dummies.describe()"
   ]
  },
  {
   "cell_type": "markdown",
   "metadata": {},
   "source": [
    "## Missing Values Interpretation"
   ]
  },
  {
   "cell_type": "code",
   "execution_count": 49,
   "metadata": {},
   "outputs": [
    {
     "data": {
      "text/html": [
       "<div>\n",
       "<style scoped>\n",
       "    .dataframe tbody tr th:only-of-type {\n",
       "        vertical-align: middle;\n",
       "    }\n",
       "\n",
       "    .dataframe tbody tr th {\n",
       "        vertical-align: top;\n",
       "    }\n",
       "\n",
       "    .dataframe thead th {\n",
       "        text-align: right;\n",
       "    }\n",
       "</style>\n",
       "<table border=\"1\" class=\"dataframe\">\n",
       "  <thead>\n",
       "    <tr style=\"text-align: right;\">\n",
       "      <th></th>\n",
       "      <th>B</th>\n",
       "      <th>C</th>\n",
       "      <th>H</th>\n",
       "      <th>K</th>\n",
       "      <th>N</th>\n",
       "      <th>O</th>\n",
       "    </tr>\n",
       "  </thead>\n",
       "  <tbody>\n",
       "    <tr>\n",
       "      <th>count</th>\n",
       "      <td>135.000000</td>\n",
       "      <td>138.000000</td>\n",
       "      <td>138.000000</td>\n",
       "      <td>138.000000</td>\n",
       "      <td>136.000000</td>\n",
       "      <td>138.000000</td>\n",
       "    </tr>\n",
       "    <tr>\n",
       "      <th>mean</th>\n",
       "      <td>32.385778</td>\n",
       "      <td>4.673080</td>\n",
       "      <td>2.080326</td>\n",
       "      <td>2.724638</td>\n",
       "      <td>219.227941</td>\n",
       "      <td>736.623188</td>\n",
       "    </tr>\n",
       "    <tr>\n",
       "      <th>std</th>\n",
       "      <td>12.301738</td>\n",
       "      <td>5.151458</td>\n",
       "      <td>2.938105</td>\n",
       "      <td>6.671399</td>\n",
       "      <td>231.864295</td>\n",
       "      <td>1742.379027</td>\n",
       "    </tr>\n",
       "    <tr>\n",
       "      <th>min</th>\n",
       "      <td>15.830000</td>\n",
       "      <td>0.000000</td>\n",
       "      <td>0.000000</td>\n",
       "      <td>0.000000</td>\n",
       "      <td>0.000000</td>\n",
       "      <td>0.000000</td>\n",
       "    </tr>\n",
       "    <tr>\n",
       "      <th>25%</th>\n",
       "      <td>24.205000</td>\n",
       "      <td>0.970000</td>\n",
       "      <td>0.125000</td>\n",
       "      <td>0.000000</td>\n",
       "      <td>98.250000</td>\n",
       "      <td>0.000000</td>\n",
       "    </tr>\n",
       "    <tr>\n",
       "      <th>50%</th>\n",
       "      <td>29.500000</td>\n",
       "      <td>2.750000</td>\n",
       "      <td>0.980000</td>\n",
       "      <td>0.000000</td>\n",
       "      <td>171.000000</td>\n",
       "      <td>8.500000</td>\n",
       "    </tr>\n",
       "    <tr>\n",
       "      <th>75%</th>\n",
       "      <td>38.500000</td>\n",
       "      <td>5.781250</td>\n",
       "      <td>2.500000</td>\n",
       "      <td>3.000000</td>\n",
       "      <td>305.000000</td>\n",
       "      <td>500.000000</td>\n",
       "    </tr>\n",
       "    <tr>\n",
       "      <th>max</th>\n",
       "      <td>76.750000</td>\n",
       "      <td>25.085000</td>\n",
       "      <td>13.875000</td>\n",
       "      <td>67.000000</td>\n",
       "      <td>2000.000000</td>\n",
       "      <td>11177.000000</td>\n",
       "    </tr>\n",
       "  </tbody>\n",
       "</table>\n",
       "</div>"
      ],
      "text/plain": [
       "                B           C           H           K            N  \\\n",
       "count  135.000000  138.000000  138.000000  138.000000   136.000000   \n",
       "mean    32.385778    4.673080    2.080326    2.724638   219.227941   \n",
       "std     12.301738    5.151458    2.938105    6.671399   231.864295   \n",
       "min     15.830000    0.000000    0.000000    0.000000     0.000000   \n",
       "25%     24.205000    0.970000    0.125000    0.000000    98.250000   \n",
       "50%     29.500000    2.750000    0.980000    0.000000   171.000000   \n",
       "75%     38.500000    5.781250    2.500000    3.000000   305.000000   \n",
       "max     76.750000   25.085000   13.875000   67.000000  2000.000000   \n",
       "\n",
       "                  O  \n",
       "count    138.000000  \n",
       "mean     736.623188  \n",
       "std     1742.379027  \n",
       "min        0.000000  \n",
       "25%        0.000000  \n",
       "50%        8.500000  \n",
       "75%      500.000000  \n",
       "max    11177.000000  "
      ]
     },
     "execution_count": 49,
     "metadata": {},
     "output_type": "execute_result"
    }
   ],
   "source": [
    "test_data[continuous_cols].describe()"
   ]
  },
  {
   "cell_type": "code",
   "execution_count": 50,
   "metadata": {},
   "outputs": [
    {
     "data": {
      "text/html": [
       "<div>\n",
       "<style scoped>\n",
       "    .dataframe tbody tr th:only-of-type {\n",
       "        vertical-align: middle;\n",
       "    }\n",
       "\n",
       "    .dataframe tbody tr th {\n",
       "        vertical-align: top;\n",
       "    }\n",
       "\n",
       "    .dataframe thead th {\n",
       "        text-align: right;\n",
       "    }\n",
       "</style>\n",
       "<table border=\"1\" class=\"dataframe\">\n",
       "  <thead>\n",
       "    <tr style=\"text-align: right;\">\n",
       "      <th></th>\n",
       "      <th>B</th>\n",
       "      <th>C</th>\n",
       "      <th>H</th>\n",
       "      <th>K</th>\n",
       "      <th>N</th>\n",
       "      <th>O</th>\n",
       "    </tr>\n",
       "  </thead>\n",
       "  <tbody>\n",
       "    <tr>\n",
       "      <th>count</th>\n",
       "      <td>138.000000</td>\n",
       "      <td>138.000000</td>\n",
       "      <td>138.000000</td>\n",
       "      <td>138.000000</td>\n",
       "      <td>138.000000</td>\n",
       "      <td>138.000000</td>\n",
       "    </tr>\n",
       "    <tr>\n",
       "      <th>mean</th>\n",
       "      <td>32.360083</td>\n",
       "      <td>4.673080</td>\n",
       "      <td>2.080326</td>\n",
       "      <td>2.724638</td>\n",
       "      <td>218.547764</td>\n",
       "      <td>736.623188</td>\n",
       "    </tr>\n",
       "    <tr>\n",
       "      <th>std</th>\n",
       "      <td>12.167531</td>\n",
       "      <td>5.151458</td>\n",
       "      <td>2.938105</td>\n",
       "      <td>6.671399</td>\n",
       "      <td>230.234462</td>\n",
       "      <td>1742.379027</td>\n",
       "    </tr>\n",
       "    <tr>\n",
       "      <th>min</th>\n",
       "      <td>15.830000</td>\n",
       "      <td>0.000000</td>\n",
       "      <td>0.000000</td>\n",
       "      <td>0.000000</td>\n",
       "      <td>0.000000</td>\n",
       "      <td>0.000000</td>\n",
       "    </tr>\n",
       "    <tr>\n",
       "      <th>25%</th>\n",
       "      <td>24.330000</td>\n",
       "      <td>0.970000</td>\n",
       "      <td>0.125000</td>\n",
       "      <td>0.000000</td>\n",
       "      <td>99.250000</td>\n",
       "      <td>0.000000</td>\n",
       "    </tr>\n",
       "    <tr>\n",
       "      <th>50%</th>\n",
       "      <td>29.835000</td>\n",
       "      <td>2.750000</td>\n",
       "      <td>0.980000</td>\n",
       "      <td>0.000000</td>\n",
       "      <td>172.295749</td>\n",
       "      <td>8.500000</td>\n",
       "    </tr>\n",
       "    <tr>\n",
       "      <th>75%</th>\n",
       "      <td>38.377500</td>\n",
       "      <td>5.781250</td>\n",
       "      <td>2.500000</td>\n",
       "      <td>3.000000</td>\n",
       "      <td>302.250000</td>\n",
       "      <td>500.000000</td>\n",
       "    </tr>\n",
       "    <tr>\n",
       "      <th>max</th>\n",
       "      <td>76.750000</td>\n",
       "      <td>25.085000</td>\n",
       "      <td>13.875000</td>\n",
       "      <td>67.000000</td>\n",
       "      <td>2000.000000</td>\n",
       "      <td>11177.000000</td>\n",
       "    </tr>\n",
       "  </tbody>\n",
       "</table>\n",
       "</div>"
      ],
      "text/plain": [
       "                B           C           H           K            N  \\\n",
       "count  138.000000  138.000000  138.000000  138.000000   138.000000   \n",
       "mean    32.360083    4.673080    2.080326    2.724638   218.547764   \n",
       "std     12.167531    5.151458    2.938105    6.671399   230.234462   \n",
       "min     15.830000    0.000000    0.000000    0.000000     0.000000   \n",
       "25%     24.330000    0.970000    0.125000    0.000000    99.250000   \n",
       "50%     29.835000    2.750000    0.980000    0.000000   172.295749   \n",
       "75%     38.377500    5.781250    2.500000    3.000000   302.250000   \n",
       "max     76.750000   25.085000   13.875000   67.000000  2000.000000   \n",
       "\n",
       "                  O  \n",
       "count    138.000000  \n",
       "mean     736.623188  \n",
       "std     1742.379027  \n",
       "min        0.000000  \n",
       "25%        0.000000  \n",
       "50%        8.500000  \n",
       "75%      500.000000  \n",
       "max    11177.000000  "
      ]
     },
     "execution_count": 50,
     "metadata": {},
     "output_type": "execute_result"
    }
   ],
   "source": [
    "test_data_after_nans =test_data[continuous_cols].fillna(train_data_after_outliers.mean())\n",
    "test_data_after_nans.describe()"
   ]
  },
  {
   "cell_type": "markdown",
   "metadata": {},
   "source": [
    "## Normalization"
   ]
  },
  {
   "cell_type": "code",
   "execution_count": 51,
   "metadata": {},
   "outputs": [],
   "source": [
    "def normalization_using_train(pd_series):\n",
    "    name_series = pd_series.name\n",
    "    pd_series_new = (pd_series - train_data_after_nans[name_series].mean())/train_data_after_nans[name_series].std()\n",
    "    return pd_series_new"
   ]
  },
  {
   "cell_type": "code",
   "execution_count": 52,
   "metadata": {},
   "outputs": [
    {
     "data": {
      "text/html": [
       "<div>\n",
       "<style scoped>\n",
       "    .dataframe tbody tr th:only-of-type {\n",
       "        vertical-align: middle;\n",
       "    }\n",
       "\n",
       "    .dataframe tbody tr th {\n",
       "        vertical-align: top;\n",
       "    }\n",
       "\n",
       "    .dataframe thead th {\n",
       "        text-align: right;\n",
       "    }\n",
       "</style>\n",
       "<table border=\"1\" class=\"dataframe\">\n",
       "  <thead>\n",
       "    <tr style=\"text-align: right;\">\n",
       "      <th></th>\n",
       "      <th>B</th>\n",
       "      <th>C</th>\n",
       "      <th>H</th>\n",
       "      <th>K</th>\n",
       "      <th>N</th>\n",
       "      <th>O</th>\n",
       "    </tr>\n",
       "  </thead>\n",
       "  <tbody>\n",
       "    <tr>\n",
       "      <th>count</th>\n",
       "      <td>138.000000</td>\n",
       "      <td>138.000000</td>\n",
       "      <td>138.000000</td>\n",
       "      <td>138.000000</td>\n",
       "      <td>1.380000e+02</td>\n",
       "      <td>138.000000</td>\n",
       "    </tr>\n",
       "    <tr>\n",
       "      <th>mean</th>\n",
       "      <td>0.102274</td>\n",
       "      <td>-0.002837</td>\n",
       "      <td>0.110273</td>\n",
       "      <td>0.352324</td>\n",
       "      <td>3.245724e-01</td>\n",
       "      <td>0.268613</td>\n",
       "    </tr>\n",
       "    <tr>\n",
       "      <th>std</th>\n",
       "      <td>1.076224</td>\n",
       "      <td>1.115172</td>\n",
       "      <td>1.398677</td>\n",
       "      <td>2.471380</td>\n",
       "      <td>1.615665e+00</td>\n",
       "      <td>1.778704</td>\n",
       "    </tr>\n",
       "    <tr>\n",
       "      <th>min</th>\n",
       "      <td>-1.359821</td>\n",
       "      <td>-1.014452</td>\n",
       "      <td>-0.880060</td>\n",
       "      <td>-0.657001</td>\n",
       "      <td>-1.209081e+00</td>\n",
       "      <td>-0.483368</td>\n",
       "    </tr>\n",
       "    <tr>\n",
       "      <th>25%</th>\n",
       "      <td>-0.607991</td>\n",
       "      <td>-0.804469</td>\n",
       "      <td>-0.820554</td>\n",
       "      <td>-0.657001</td>\n",
       "      <td>-5.125968e-01</td>\n",
       "      <td>-0.483368</td>\n",
       "    </tr>\n",
       "    <tr>\n",
       "      <th>50%</th>\n",
       "      <td>-0.121071</td>\n",
       "      <td>-0.419140</td>\n",
       "      <td>-0.413534</td>\n",
       "      <td>-0.657001</td>\n",
       "      <td>1.994487e-16</td>\n",
       "      <td>-0.474690</td>\n",
       "    </tr>\n",
       "    <tr>\n",
       "      <th>75%</th>\n",
       "      <td>0.634517</td>\n",
       "      <td>0.237056</td>\n",
       "      <td>0.310058</td>\n",
       "      <td>0.454331</td>\n",
       "      <td>9.119508e-01</td>\n",
       "      <td>0.027057</td>\n",
       "    </tr>\n",
       "    <tr>\n",
       "      <th>max</th>\n",
       "      <td>4.028584</td>\n",
       "      <td>4.415876</td>\n",
       "      <td>5.725095</td>\n",
       "      <td>24.162745</td>\n",
       "      <td>1.282587e+01</td>\n",
       "      <td>10.926652</td>\n",
       "    </tr>\n",
       "  </tbody>\n",
       "</table>\n",
       "</div>"
      ],
      "text/plain": [
       "                B           C           H           K             N  \\\n",
       "count  138.000000  138.000000  138.000000  138.000000  1.380000e+02   \n",
       "mean     0.102274   -0.002837    0.110273    0.352324  3.245724e-01   \n",
       "std      1.076224    1.115172    1.398677    2.471380  1.615665e+00   \n",
       "min     -1.359821   -1.014452   -0.880060   -0.657001 -1.209081e+00   \n",
       "25%     -0.607991   -0.804469   -0.820554   -0.657001 -5.125968e-01   \n",
       "50%     -0.121071   -0.419140   -0.413534   -0.657001  1.994487e-16   \n",
       "75%      0.634517    0.237056    0.310058    0.454331  9.119508e-01   \n",
       "max      4.028584    4.415876    5.725095   24.162745  1.282587e+01   \n",
       "\n",
       "                O  \n",
       "count  138.000000  \n",
       "mean     0.268613  \n",
       "std      1.778704  \n",
       "min     -0.483368  \n",
       "25%     -0.483368  \n",
       "50%     -0.474690  \n",
       "75%      0.027057  \n",
       "max     10.926652  "
      ]
     },
     "execution_count": 52,
     "metadata": {},
     "output_type": "execute_result"
    }
   ],
   "source": [
    "test_data_after_normalization = test_data_after_nans.apply(normalization_using_train)\n",
    "test_data_after_normalization.describe()"
   ]
  },
  {
   "cell_type": "markdown",
   "metadata": {},
   "source": [
    "## Final Test Dataset after Cleaning"
   ]
  },
  {
   "cell_type": "code",
   "execution_count": 53,
   "metadata": {},
   "outputs": [
    {
     "data": {
      "text/plain": [
       "(138, 47)"
      ]
     },
     "execution_count": 53,
     "metadata": {},
     "output_type": "execute_result"
    }
   ],
   "source": [
    "test_data_after_clean = pd.concat([test_data['id'],test_data_after_normalization,test_data_after_dummies],axis = 1)\n",
    "test_data_after_clean.shape"
   ]
  },
  {
   "cell_type": "markdown",
   "metadata": {},
   "source": [
    "# XGBoost - Modelling"
   ]
  },
  {
   "cell_type": "code",
   "execution_count": 54,
   "metadata": {},
   "outputs": [],
   "source": [
    "xgb_model = xgboost.XGBClassifier(seed = 1, nthread=1)"
   ]
  },
  {
   "cell_type": "code",
   "execution_count": 57,
   "metadata": {},
   "outputs": [
    {
     "name": "stdout",
     "output_type": "stream",
     "text": [
      "Accuracy: -0.32 (0.03)\n"
     ]
    }
   ],
   "source": [
    "kfold = sklearn.model_selection.StratifiedKFold(n_splits=4, random_state=1)\n",
    "results = sklearn.model_selection.cross_val_score(xgb_model, train_data_after_clean.drop(target_col, axis = 1), train_data_after_clean[target_col[0]], cv=kfold, scoring = 'neg_log_loss')\n",
    "print(\"Accuracy: %.2f (%.2f)\" % (results.mean(), results.std()))"
   ]
  },
  {
   "cell_type": "code",
   "execution_count": 58,
   "metadata": {},
   "outputs": [
    {
     "data": {
      "text/plain": [
       "{'base_score': 0.5,\n",
       " 'booster': 'gbtree',\n",
       " 'colsample_bylevel': 1,\n",
       " 'colsample_bytree': 1,\n",
       " 'gamma': 0,\n",
       " 'learning_rate': 0.1,\n",
       " 'max_delta_step': 0,\n",
       " 'max_depth': 3,\n",
       " 'min_child_weight': 1,\n",
       " 'missing': None,\n",
       " 'n_estimators': 100,\n",
       " 'n_jobs': 1,\n",
       " 'nthread': 1,\n",
       " 'objective': 'binary:logistic',\n",
       " 'random_state': 0,\n",
       " 'reg_alpha': 0,\n",
       " 'reg_lambda': 1,\n",
       " 'scale_pos_weight': 1,\n",
       " 'seed': 1,\n",
       " 'silent': True,\n",
       " 'subsample': 1}"
      ]
     },
     "execution_count": 58,
     "metadata": {},
     "output_type": "execute_result"
    }
   ],
   "source": [
    "xgb_model.get_params()"
   ]
  },
  {
   "cell_type": "code",
   "execution_count": 59,
   "metadata": {},
   "outputs": [
    {
     "data": {
      "text/plain": [
       "array(['B', 'C', 'H', 'K', 'N', 'O', 'A_a', 'A_b', 'D_l', 'D_u', 'D_y',\n",
       "       'E_g', 'E_gg', 'E_p', 'F_aa', 'F_c', 'F_cc', 'F_d', 'F_e', 'F_ff',\n",
       "       'F_i', 'F_j', 'F_k', 'F_m', 'F_q', 'F_r', 'F_w', 'F_x', 'G_bb',\n",
       "       'G_dd', 'G_ff', 'G_h', 'G_j', 'G_n', 'G_o', 'G_v', 'G_z', 'I_f',\n",
       "       'I_t', 'J_f', 'J_t', 'L_f', 'L_t', 'M_g', 'M_p', 'M_s'],\n",
       "      dtype=object)"
      ]
     },
     "execution_count": 59,
     "metadata": {},
     "output_type": "execute_result"
    }
   ],
   "source": [
    "predictors = train_data_after_clean.columns.values[train_data_after_clean.columns.values!=target_col[0]]\n",
    "predictors"
   ]
  },
  {
   "cell_type": "code",
   "execution_count": 60,
   "metadata": {
    "scrolled": true
   },
   "outputs": [
    {
     "data": {
      "text/plain": [
       "0.552536231884058"
      ]
     },
     "execution_count": 60,
     "metadata": {},
     "output_type": "execute_result"
    }
   ],
   "source": [
    "train_data_after_clean[target_col[0]].sum()/train_data_after_clean.shape[0]"
   ]
  },
  {
   "cell_type": "code",
   "execution_count": 61,
   "metadata": {
    "scrolled": false
   },
   "outputs": [
    {
     "name": "stderr",
     "output_type": "stream",
     "text": [
      "C:\\ProgramData\\Anaconda3\\lib\\site-packages\\sklearn\\model_selection\\_search.py:761: DeprecationWarning: The grid_scores_ attribute was deprecated in version 0.18 in favor of the more elaborate cv_results_ attribute. The grid_scores_ attribute will not be available from 0.20\n",
      "  DeprecationWarning)\n"
     ]
    },
    {
     "data": {
      "text/plain": [
       "([mean: -0.31794, std: 0.02266, params: {'learning_rate': 0.3, 'n_estimators': 10},\n",
       "  mean: -0.31369, std: 0.03547, params: {'learning_rate': 0.3, 'n_estimators': 20},\n",
       "  mean: -0.31666, std: 0.03686, params: {'learning_rate': 0.3, 'n_estimators': 30},\n",
       "  mean: -0.32492, std: 0.03220, params: {'learning_rate': 0.3, 'n_estimators': 40},\n",
       "  mean: -0.33593, std: 0.03876, params: {'learning_rate': 0.3, 'n_estimators': 50},\n",
       "  mean: -0.34359, std: 0.04174, params: {'learning_rate': 0.3, 'n_estimators': 60},\n",
       "  mean: -0.34395, std: 0.04054, params: {'learning_rate': 0.3, 'n_estimators': 70},\n",
       "  mean: -0.34563, std: 0.03930, params: {'learning_rate': 0.3, 'n_estimators': 80},\n",
       "  mean: -0.35004, std: 0.04231, params: {'learning_rate': 0.3, 'n_estimators': 90},\n",
       "  mean: -0.32852, std: 0.01847, params: {'learning_rate': 0.25, 'n_estimators': 10},\n",
       "  mean: -0.31537, std: 0.02611, params: {'learning_rate': 0.25, 'n_estimators': 20},\n",
       "  mean: -0.31669, std: 0.01791, params: {'learning_rate': 0.25, 'n_estimators': 30},\n",
       "  mean: -0.32543, std: 0.02151, params: {'learning_rate': 0.25, 'n_estimators': 40},\n",
       "  mean: -0.32965, std: 0.02547, params: {'learning_rate': 0.25, 'n_estimators': 50},\n",
       "  mean: -0.33339, std: 0.02544, params: {'learning_rate': 0.25, 'n_estimators': 60},\n",
       "  mean: -0.33573, std: 0.02553, params: {'learning_rate': 0.25, 'n_estimators': 70},\n",
       "  mean: -0.33659, std: 0.02259, params: {'learning_rate': 0.25, 'n_estimators': 80},\n",
       "  mean: -0.34451, std: 0.02827, params: {'learning_rate': 0.25, 'n_estimators': 90},\n",
       "  mean: -0.33451, std: 0.01922, params: {'learning_rate': 0.2, 'n_estimators': 10},\n",
       "  mean: -0.30650, std: 0.02694, params: {'learning_rate': 0.2, 'n_estimators': 20},\n",
       "  mean: -0.30474, std: 0.02437, params: {'learning_rate': 0.2, 'n_estimators': 30},\n",
       "  mean: -0.31036, std: 0.03238, params: {'learning_rate': 0.2, 'n_estimators': 40},\n",
       "  mean: -0.31026, std: 0.03056, params: {'learning_rate': 0.2, 'n_estimators': 50},\n",
       "  mean: -0.31399, std: 0.03238, params: {'learning_rate': 0.2, 'n_estimators': 60},\n",
       "  mean: -0.31378, std: 0.03689, params: {'learning_rate': 0.2, 'n_estimators': 70},\n",
       "  mean: -0.32145, std: 0.03506, params: {'learning_rate': 0.2, 'n_estimators': 80},\n",
       "  mean: -0.32782, std: 0.04031, params: {'learning_rate': 0.2, 'n_estimators': 90},\n",
       "  mean: -0.35582, std: 0.01499, params: {'learning_rate': 0.15, 'n_estimators': 10},\n",
       "  mean: -0.31203, std: 0.01999, params: {'learning_rate': 0.15, 'n_estimators': 20},\n",
       "  mean: -0.29957, std: 0.02466, params: {'learning_rate': 0.15, 'n_estimators': 30},\n",
       "  mean: -0.30048, std: 0.02734, params: {'learning_rate': 0.15, 'n_estimators': 40},\n",
       "  mean: -0.30079, std: 0.03008, params: {'learning_rate': 0.15, 'n_estimators': 50},\n",
       "  mean: -0.30499, std: 0.03398, params: {'learning_rate': 0.15, 'n_estimators': 60},\n",
       "  mean: -0.30364, std: 0.03480, params: {'learning_rate': 0.15, 'n_estimators': 70},\n",
       "  mean: -0.30568, std: 0.03845, params: {'learning_rate': 0.15, 'n_estimators': 80},\n",
       "  mean: -0.30839, std: 0.03949, params: {'learning_rate': 0.15, 'n_estimators': 90},\n",
       "  mean: -0.40266, std: 0.01207, params: {'learning_rate': 0.1, 'n_estimators': 10},\n",
       "  mean: -0.32762, std: 0.01820, params: {'learning_rate': 0.1, 'n_estimators': 20},\n",
       "  mean: -0.30537, std: 0.02524, params: {'learning_rate': 0.1, 'n_estimators': 30},\n",
       "  mean: -0.29968, std: 0.02311, params: {'learning_rate': 0.1, 'n_estimators': 40},\n",
       "  mean: -0.29771, std: 0.02642, params: {'learning_rate': 0.1, 'n_estimators': 50},\n",
       "  mean: -0.29534, std: 0.02608, params: {'learning_rate': 0.1, 'n_estimators': 60},\n",
       "  mean: -0.29303, std: 0.02568, params: {'learning_rate': 0.1, 'n_estimators': 70},\n",
       "  mean: -0.29638, std: 0.02830, params: {'learning_rate': 0.1, 'n_estimators': 80},\n",
       "  mean: -0.29840, std: 0.02994, params: {'learning_rate': 0.1, 'n_estimators': 90},\n",
       "  mean: -0.49577, std: 0.01085, params: {'learning_rate': 0.05, 'n_estimators': 10},\n",
       "  mean: -0.40413, std: 0.01512, params: {'learning_rate': 0.05, 'n_estimators': 20},\n",
       "  mean: -0.35550, std: 0.01918, params: {'learning_rate': 0.05, 'n_estimators': 30},\n",
       "  mean: -0.33188, std: 0.02265, params: {'learning_rate': 0.05, 'n_estimators': 40},\n",
       "  mean: -0.31816, std: 0.02398, params: {'learning_rate': 0.05, 'n_estimators': 50},\n",
       "  mean: -0.31139, std: 0.02660, params: {'learning_rate': 0.05, 'n_estimators': 60},\n",
       "  mean: -0.30663, std: 0.02678, params: {'learning_rate': 0.05, 'n_estimators': 70},\n",
       "  mean: -0.30202, std: 0.02832, params: {'learning_rate': 0.05, 'n_estimators': 80},\n",
       "  mean: -0.30107, std: 0.02966, params: {'learning_rate': 0.05, 'n_estimators': 90}],\n",
       " {'learning_rate': 0.1, 'n_estimators': 70},\n",
       " -0.2930267967946224)"
      ]
     },
     "execution_count": 61,
     "metadata": {},
     "output_type": "execute_result"
    }
   ],
   "source": [
    "gridsearch_sample = sklearn.model_selection.GridSearchCV(estimator = xgboost.XGBClassifier(seed = 1\n",
    "                                                                                           , base_score = train_data_after_clean[target_col[0]].sum()/train_data_after_clean.shape[0]\n",
    "                                                                                           , nthread=1\n",
    "                                                                                           , max_depth = 5\n",
    "                                                                                           , min_child_weight = 1\n",
    "                                                                                           , gamma = 0\n",
    "                                                                                           , subsample = 0.8\n",
    "                                                                                           , colsample_bytree = 0.8\n",
    "                                                                                           , scale_pos_weight = 1),\n",
    "                                     param_grid={\n",
    "                                         'learning_rate':[i/20.0 for i in range(6,0,-1)],\n",
    "                                         'n_estimators':range(10,100,10)\n",
    "                                     },         \n",
    "                                     scoring = 'neg_log_loss',\n",
    "                                     n_jobs= 1,\n",
    "                                     iid = False,\n",
    "                                     cv = 4)\n",
    "gridsearch_sample.fit(train_data_after_clean[predictors],train_data_after_clean[target_col[0]])\n",
    "gridsearch_sample.grid_scores_, gridsearch_sample.best_params_, gridsearch_sample.best_score_"
   ]
  },
  {
   "cell_type": "code",
   "execution_count": 63,
   "metadata": {},
   "outputs": [
    {
     "name": "stderr",
     "output_type": "stream",
     "text": [
      "C:\\ProgramData\\Anaconda3\\lib\\site-packages\\sklearn\\model_selection\\_search.py:761: DeprecationWarning: The grid_scores_ attribute was deprecated in version 0.18 in favor of the more elaborate cv_results_ attribute. The grid_scores_ attribute will not be available from 0.20\n",
      "  DeprecationWarning)\n"
     ]
    },
    {
     "data": {
      "text/plain": [
       "([mean: -0.32924, std: 0.01961, params: {'max_depth': 1, 'min_child_weight': 0.5},\n",
       "  mean: -0.32929, std: 0.01955, params: {'max_depth': 1, 'min_child_weight': 0.6},\n",
       "  mean: -0.32929, std: 0.01955, params: {'max_depth': 1, 'min_child_weight': 0.7},\n",
       "  mean: -0.32929, std: 0.01955, params: {'max_depth': 1, 'min_child_weight': 0.8},\n",
       "  mean: -0.32929, std: 0.01955, params: {'max_depth': 1, 'min_child_weight': 0.9},\n",
       "  mean: -0.32929, std: 0.01955, params: {'max_depth': 1, 'min_child_weight': 1.0},\n",
       "  mean: -0.32929, std: 0.01955, params: {'max_depth': 1, 'min_child_weight': 1.1},\n",
       "  mean: -0.30128, std: 0.02627, params: {'max_depth': 2, 'min_child_weight': 0.5},\n",
       "  mean: -0.30262, std: 0.02656, params: {'max_depth': 2, 'min_child_weight': 0.6},\n",
       "  mean: -0.30443, std: 0.02720, params: {'max_depth': 2, 'min_child_weight': 0.7},\n",
       "  mean: -0.30580, std: 0.02521, params: {'max_depth': 2, 'min_child_weight': 0.8},\n",
       "  mean: -0.30435, std: 0.02611, params: {'max_depth': 2, 'min_child_weight': 0.9},\n",
       "  mean: -0.30636, std: 0.02573, params: {'max_depth': 2, 'min_child_weight': 1.0},\n",
       "  mean: -0.30650, std: 0.02649, params: {'max_depth': 2, 'min_child_weight': 1.1},\n",
       "  mean: -0.30009, std: 0.03054, params: {'max_depth': 3, 'min_child_weight': 0.5},\n",
       "  mean: -0.30040, std: 0.03114, params: {'max_depth': 3, 'min_child_weight': 0.6},\n",
       "  mean: -0.30324, std: 0.03260, params: {'max_depth': 3, 'min_child_weight': 0.7},\n",
       "  mean: -0.29888, std: 0.02848, params: {'max_depth': 3, 'min_child_weight': 0.8},\n",
       "  mean: -0.29912, std: 0.02921, params: {'max_depth': 3, 'min_child_weight': 0.9},\n",
       "  mean: -0.29909, std: 0.02918, params: {'max_depth': 3, 'min_child_weight': 1.0},\n",
       "  mean: -0.30198, std: 0.03047, params: {'max_depth': 3, 'min_child_weight': 1.1},\n",
       "  mean: -0.30238, std: 0.03431, params: {'max_depth': 4, 'min_child_weight': 0.5},\n",
       "  mean: -0.30536, std: 0.03262, params: {'max_depth': 4, 'min_child_weight': 0.6},\n",
       "  mean: -0.29801, std: 0.03256, params: {'max_depth': 4, 'min_child_weight': 0.7},\n",
       "  mean: -0.30300, std: 0.03526, params: {'max_depth': 4, 'min_child_weight': 0.8},\n",
       "  mean: -0.29544, std: 0.03285, params: {'max_depth': 4, 'min_child_weight': 0.9},\n",
       "  mean: -0.29865, std: 0.03489, params: {'max_depth': 4, 'min_child_weight': 1.0},\n",
       "  mean: -0.29917, std: 0.03533, params: {'max_depth': 4, 'min_child_weight': 1.1},\n",
       "  mean: -0.30070, std: 0.03203, params: {'max_depth': 5, 'min_child_weight': 0.5},\n",
       "  mean: -0.29708, std: 0.03163, params: {'max_depth': 5, 'min_child_weight': 0.6},\n",
       "  mean: -0.29952, std: 0.03353, params: {'max_depth': 5, 'min_child_weight': 0.7},\n",
       "  mean: -0.29717, std: 0.03371, params: {'max_depth': 5, 'min_child_weight': 0.8},\n",
       "  mean: -0.29272, std: 0.03314, params: {'max_depth': 5, 'min_child_weight': 0.9},\n",
       "  mean: -0.29303, std: 0.02568, params: {'max_depth': 5, 'min_child_weight': 1.0},\n",
       "  mean: -0.29760, std: 0.02706, params: {'max_depth': 5, 'min_child_weight': 1.1},\n",
       "  mean: -0.30646, std: 0.02705, params: {'max_depth': 6, 'min_child_weight': 0.5},\n",
       "  mean: -0.30233, std: 0.02498, params: {'max_depth': 6, 'min_child_weight': 0.6},\n",
       "  mean: -0.30292, std: 0.03043, params: {'max_depth': 6, 'min_child_weight': 0.7},\n",
       "  mean: -0.30605, std: 0.04009, params: {'max_depth': 6, 'min_child_weight': 0.8},\n",
       "  mean: -0.30160, std: 0.03450, params: {'max_depth': 6, 'min_child_weight': 0.9},\n",
       "  mean: -0.30522, std: 0.03860, params: {'max_depth': 6, 'min_child_weight': 1.0},\n",
       "  mean: -0.30377, std: 0.03378, params: {'max_depth': 6, 'min_child_weight': 1.1},\n",
       "  mean: -0.30882, std: 0.03447, params: {'max_depth': 7, 'min_child_weight': 0.5},\n",
       "  mean: -0.30755, std: 0.03100, params: {'max_depth': 7, 'min_child_weight': 0.6},\n",
       "  mean: -0.30689, std: 0.03345, params: {'max_depth': 7, 'min_child_weight': 0.7},\n",
       "  mean: -0.30694, std: 0.03395, params: {'max_depth': 7, 'min_child_weight': 0.8},\n",
       "  mean: -0.30293, std: 0.03168, params: {'max_depth': 7, 'min_child_weight': 0.9},\n",
       "  mean: -0.30389, std: 0.03149, params: {'max_depth': 7, 'min_child_weight': 1.0},\n",
       "  mean: -0.30494, std: 0.02726, params: {'max_depth': 7, 'min_child_weight': 1.1},\n",
       "  mean: -0.31187, std: 0.03047, params: {'max_depth': 8, 'min_child_weight': 0.5},\n",
       "  mean: -0.30754, std: 0.02847, params: {'max_depth': 8, 'min_child_weight': 0.6},\n",
       "  mean: -0.31245, std: 0.02668, params: {'max_depth': 8, 'min_child_weight': 0.7},\n",
       "  mean: -0.30518, std: 0.03615, params: {'max_depth': 8, 'min_child_weight': 0.8},\n",
       "  mean: -0.30429, std: 0.03338, params: {'max_depth': 8, 'min_child_weight': 0.9},\n",
       "  mean: -0.30499, std: 0.03506, params: {'max_depth': 8, 'min_child_weight': 1.0},\n",
       "  mean: -0.30957, std: 0.02905, params: {'max_depth': 8, 'min_child_weight': 1.1},\n",
       "  mean: -0.31480, std: 0.02912, params: {'max_depth': 9, 'min_child_weight': 0.5},\n",
       "  mean: -0.30782, std: 0.03085, params: {'max_depth': 9, 'min_child_weight': 0.6},\n",
       "  mean: -0.30719, std: 0.03711, params: {'max_depth': 9, 'min_child_weight': 0.7},\n",
       "  mean: -0.30776, std: 0.03226, params: {'max_depth': 9, 'min_child_weight': 0.8},\n",
       "  mean: -0.30702, std: 0.03632, params: {'max_depth': 9, 'min_child_weight': 0.9},\n",
       "  mean: -0.31219, std: 0.03259, params: {'max_depth': 9, 'min_child_weight': 1.0},\n",
       "  mean: -0.30661, std: 0.03490, params: {'max_depth': 9, 'min_child_weight': 1.1}],\n",
       " {'max_depth': 5, 'min_child_weight': 0.9},\n",
       " -0.2927156073883501)"
      ]
     },
     "execution_count": 63,
     "metadata": {},
     "output_type": "execute_result"
    }
   ],
   "source": [
    "gridsearch_sample_1 = sklearn.model_selection.GridSearchCV(estimator = xgboost.XGBClassifier(seed = 1\n",
    "                                                                                           , learning_rate = 0.1\n",
    "                                                                                           , n_estimators = 70\n",
    "                                                                                           , base_score = train_data_after_clean[target_col[0]].sum()/train_data_after_clean.shape[0]\n",
    "                                                                                           , nthread=1\n",
    "#                                                                                            , max_depth = 5\n",
    "#                                                                                            , min_child_weight = 1\n",
    "                                                                                           , gamma = 0\n",
    "                                                                                           , subsample = 0.8\n",
    "                                                                                           , colsample_bytree = 0.8\n",
    "                                                                                           , scale_pos_weight = 1),\n",
    "                                     param_grid={\n",
    "                                         'max_depth':range(1,10),\n",
    "                                         'min_child_weight': [i/10 for i in range(5,12)]\n",
    "                                     },         \n",
    "                                     scoring = 'neg_log_loss',\n",
    "                                     n_jobs= 1,\n",
    "                                     iid = False,\n",
    "                                     cv = 4)\n",
    "gridsearch_sample_1.fit(train_data_after_clean[predictors],train_data_after_clean[target_col[0]])\n",
    "gridsearch_sample_1.grid_scores_, gridsearch_sample_1.best_params_, gridsearch_sample_1.best_score_"
   ]
  },
  {
   "cell_type": "code",
   "execution_count": 64,
   "metadata": {},
   "outputs": [
    {
     "name": "stderr",
     "output_type": "stream",
     "text": [
      "C:\\ProgramData\\Anaconda3\\lib\\site-packages\\sklearn\\model_selection\\_search.py:761: DeprecationWarning: The grid_scores_ attribute was deprecated in version 0.18 in favor of the more elaborate cv_results_ attribute. The grid_scores_ attribute will not be available from 0.20\n",
      "  DeprecationWarning)\n"
     ]
    },
    {
     "data": {
      "text/plain": [
       "([mean: -0.29272, std: 0.03314, params: {'gamma': 0.0},\n",
       "  mean: -0.29711, std: 0.03772, params: {'gamma': 0.1},\n",
       "  mean: -0.30052, std: 0.03785, params: {'gamma': 0.2},\n",
       "  mean: -0.29557, std: 0.02964, params: {'gamma': 0.3},\n",
       "  mean: -0.29404, std: 0.03104, params: {'gamma': 0.4},\n",
       "  mean: -0.29881, std: 0.03018, params: {'gamma': 0.5},\n",
       "  mean: -0.30119, std: 0.03111, params: {'gamma': 0.6},\n",
       "  mean: -0.29861, std: 0.03080, params: {'gamma': 0.7},\n",
       "  mean: -0.29598, std: 0.03036, params: {'gamma': 0.8},\n",
       "  mean: -0.29704, std: 0.03080, params: {'gamma': 0.9},\n",
       "  mean: -0.30158, std: 0.02667, params: {'gamma': 1.0}],\n",
       " {'gamma': 0.0},\n",
       " -0.2927156073883501)"
      ]
     },
     "execution_count": 64,
     "metadata": {},
     "output_type": "execute_result"
    }
   ],
   "source": [
    "gridsearch_sample_1 = sklearn.model_selection.GridSearchCV(estimator = xgboost.XGBClassifier(seed = 1\n",
    "                                                                                           , learning_rate = 0.1\n",
    "                                                                                           , n_estimators = 70\n",
    "                                                                                           , base_score = train_data_after_clean[target_col[0]].sum()/train_data_after_clean.shape[0]\n",
    "                                                                                           , nthread=1\n",
    "                                                                                           , max_depth = 5\n",
    "                                                                                           , min_child_weight = 0.9\n",
    "#                                                                                            , gamma = 0\n",
    "                                                                                           , subsample = 0.8\n",
    "                                                                                           , colsample_bytree = 0.8\n",
    "                                                                                           , scale_pos_weight = 1),\n",
    "                                     param_grid={\n",
    "                                         'gamma': [i/10.0 for i in range(0,11)]\n",
    "                                     },         \n",
    "                                     scoring = 'neg_log_loss',\n",
    "                                     n_jobs= 1,\n",
    "                                     iid = False,\n",
    "                                     cv = 4)\n",
    "gridsearch_sample_1.fit(train_data_after_clean[predictors],train_data_after_clean[target_col[0]])\n",
    "gridsearch_sample_1.grid_scores_, gridsearch_sample_1.best_params_, gridsearch_sample_1.best_score_"
   ]
  },
  {
   "cell_type": "code",
   "execution_count": 65,
   "metadata": {},
   "outputs": [
    {
     "name": "stderr",
     "output_type": "stream",
     "text": [
      "C:\\ProgramData\\Anaconda3\\lib\\site-packages\\sklearn\\model_selection\\_search.py:761: DeprecationWarning: The grid_scores_ attribute was deprecated in version 0.18 in favor of the more elaborate cv_results_ attribute. The grid_scores_ attribute will not be available from 0.20\n",
      "  DeprecationWarning)\n"
     ]
    },
    {
     "data": {
      "text/plain": [
       "([mean: -0.33364, std: 0.02773, params: {'learning_rate': 0.3, 'n_estimators': 50},\n",
       "  mean: -0.33631, std: 0.02698, params: {'learning_rate': 0.3, 'n_estimators': 55},\n",
       "  mean: -0.33735, std: 0.02574, params: {'learning_rate': 0.3, 'n_estimators': 60},\n",
       "  mean: -0.33983, std: 0.02834, params: {'learning_rate': 0.3, 'n_estimators': 65},\n",
       "  mean: -0.34377, std: 0.03077, params: {'learning_rate': 0.3, 'n_estimators': 70},\n",
       "  mean: -0.34398, std: 0.02693, params: {'learning_rate': 0.3, 'n_estimators': 75},\n",
       "  mean: -0.34464, std: 0.02737, params: {'learning_rate': 0.3, 'n_estimators': 80},\n",
       "  mean: -0.34573, std: 0.02802, params: {'learning_rate': 0.3, 'n_estimators': 85},\n",
       "  mean: -0.35127, std: 0.02884, params: {'learning_rate': 0.3, 'n_estimators': 90},\n",
       "  mean: -0.35157, std: 0.02678, params: {'learning_rate': 0.3, 'n_estimators': 95},\n",
       "  mean: -0.32569, std: 0.03174, params: {'learning_rate': 0.25, 'n_estimators': 50},\n",
       "  mean: -0.32815, std: 0.03310, params: {'learning_rate': 0.25, 'n_estimators': 55},\n",
       "  mean: -0.32919, std: 0.03314, params: {'learning_rate': 0.25, 'n_estimators': 60},\n",
       "  mean: -0.32951, std: 0.03253, params: {'learning_rate': 0.25, 'n_estimators': 65},\n",
       "  mean: -0.33430, std: 0.03446, params: {'learning_rate': 0.25, 'n_estimators': 70},\n",
       "  mean: -0.33684, std: 0.03600, params: {'learning_rate': 0.25, 'n_estimators': 75},\n",
       "  mean: -0.34017, std: 0.03718, params: {'learning_rate': 0.25, 'n_estimators': 80},\n",
       "  mean: -0.34140, std: 0.03478, params: {'learning_rate': 0.25, 'n_estimators': 85},\n",
       "  mean: -0.34491, std: 0.03413, params: {'learning_rate': 0.25, 'n_estimators': 90},\n",
       "  mean: -0.34479, std: 0.03159, params: {'learning_rate': 0.25, 'n_estimators': 95},\n",
       "  mean: -0.30976, std: 0.02203, params: {'learning_rate': 0.2, 'n_estimators': 50},\n",
       "  mean: -0.31062, std: 0.02339, params: {'learning_rate': 0.2, 'n_estimators': 55},\n",
       "  mean: -0.31163, std: 0.02485, params: {'learning_rate': 0.2, 'n_estimators': 60},\n",
       "  mean: -0.31004, std: 0.02552, params: {'learning_rate': 0.2, 'n_estimators': 65},\n",
       "  mean: -0.31185, std: 0.02483, params: {'learning_rate': 0.2, 'n_estimators': 70},\n",
       "  mean: -0.31289, std: 0.02624, params: {'learning_rate': 0.2, 'n_estimators': 75},\n",
       "  mean: -0.31561, std: 0.02643, params: {'learning_rate': 0.2, 'n_estimators': 80},\n",
       "  mean: -0.31596, std: 0.02859, params: {'learning_rate': 0.2, 'n_estimators': 85},\n",
       "  mean: -0.32035, std: 0.03015, params: {'learning_rate': 0.2, 'n_estimators': 90},\n",
       "  mean: -0.32277, std: 0.03254, params: {'learning_rate': 0.2, 'n_estimators': 95},\n",
       "  mean: -0.30499, std: 0.03896, params: {'learning_rate': 0.15, 'n_estimators': 50},\n",
       "  mean: -0.30863, std: 0.04074, params: {'learning_rate': 0.15, 'n_estimators': 55},\n",
       "  mean: -0.30920, std: 0.04066, params: {'learning_rate': 0.15, 'n_estimators': 60},\n",
       "  mean: -0.30862, std: 0.04306, params: {'learning_rate': 0.15, 'n_estimators': 65},\n",
       "  mean: -0.31145, std: 0.04355, params: {'learning_rate': 0.15, 'n_estimators': 70},\n",
       "  mean: -0.31265, std: 0.04278, params: {'learning_rate': 0.15, 'n_estimators': 75},\n",
       "  mean: -0.31090, std: 0.04487, params: {'learning_rate': 0.15, 'n_estimators': 80},\n",
       "  mean: -0.31249, std: 0.04777, params: {'learning_rate': 0.15, 'n_estimators': 85},\n",
       "  mean: -0.31500, std: 0.05048, params: {'learning_rate': 0.15, 'n_estimators': 90},\n",
       "  mean: -0.31591, std: 0.05101, params: {'learning_rate': 0.15, 'n_estimators': 95},\n",
       "  mean: -0.29747, std: 0.03403, params: {'learning_rate': 0.1, 'n_estimators': 50},\n",
       "  mean: -0.29644, std: 0.03534, params: {'learning_rate': 0.1, 'n_estimators': 55},\n",
       "  mean: -0.29618, std: 0.03558, params: {'learning_rate': 0.1, 'n_estimators': 60},\n",
       "  mean: -0.29403, std: 0.03523, params: {'learning_rate': 0.1, 'n_estimators': 65},\n",
       "  mean: -0.29272, std: 0.03314, params: {'learning_rate': 0.1, 'n_estimators': 70},\n",
       "  mean: -0.29320, std: 0.03338, params: {'learning_rate': 0.1, 'n_estimators': 75},\n",
       "  mean: -0.29442, std: 0.03409, params: {'learning_rate': 0.1, 'n_estimators': 80},\n",
       "  mean: -0.29365, std: 0.03438, params: {'learning_rate': 0.1, 'n_estimators': 85},\n",
       "  mean: -0.29607, std: 0.03539, params: {'learning_rate': 0.1, 'n_estimators': 90},\n",
       "  mean: -0.29543, std: 0.03499, params: {'learning_rate': 0.1, 'n_estimators': 95},\n",
       "  mean: -0.31776, std: 0.02152, params: {'learning_rate': 0.05, 'n_estimators': 50},\n",
       "  mean: -0.31364, std: 0.02291, params: {'learning_rate': 0.05, 'n_estimators': 55},\n",
       "  mean: -0.31039, std: 0.02430, params: {'learning_rate': 0.05, 'n_estimators': 60},\n",
       "  mean: -0.30863, std: 0.02582, params: {'learning_rate': 0.05, 'n_estimators': 65},\n",
       "  mean: -0.30583, std: 0.02476, params: {'learning_rate': 0.05, 'n_estimators': 70},\n",
       "  mean: -0.30252, std: 0.02618, params: {'learning_rate': 0.05, 'n_estimators': 75},\n",
       "  mean: -0.30090, std: 0.02600, params: {'learning_rate': 0.05, 'n_estimators': 80},\n",
       "  mean: -0.30090, std: 0.02570, params: {'learning_rate': 0.05, 'n_estimators': 85},\n",
       "  mean: -0.30075, std: 0.02741, params: {'learning_rate': 0.05, 'n_estimators': 90},\n",
       "  mean: -0.30098, std: 0.02827, params: {'learning_rate': 0.05, 'n_estimators': 95}],\n",
       " {'learning_rate': 0.1, 'n_estimators': 70},\n",
       " -0.2927156073883501)"
      ]
     },
     "execution_count": 65,
     "metadata": {},
     "output_type": "execute_result"
    }
   ],
   "source": [
    "gridsearch_sample_1 = sklearn.model_selection.GridSearchCV(estimator = xgboost.XGBClassifier(seed = 1\n",
    "                                                                                           , learning_rate = 0.1\n",
    "                                                                                           , n_estimators = 80\n",
    "                                                                                           , base_score = train_data_after_clean[target_col[0]].sum()/train_data_after_clean.shape[0]\n",
    "                                                                                           , nthread=1\n",
    "                                                                                           , max_depth = 5\n",
    "                                                                                           , min_child_weight = 0.9\n",
    "                                                                                           , gamma = 0\n",
    "                                                                                           , subsample = 0.8\n",
    "                                                                                           , colsample_bytree = 0.8\n",
    "                                                                                           , scale_pos_weight = 1),\n",
    "                                     param_grid={\n",
    "                                         'n_estimators': range(50,100,5),\n",
    "                                         'learning_rate':[i/20.0 for i in range(6,0,-1)],\n",
    "                                     },         \n",
    "                                     scoring = 'neg_log_loss',\n",
    "                                     n_jobs= 1,\n",
    "                                     iid = False,\n",
    "                                     cv = 4)\n",
    "gridsearch_sample_1.fit(train_data_after_clean[predictors],train_data_after_clean[target_col[0]])\n",
    "gridsearch_sample_1.grid_scores_, gridsearch_sample_1.best_params_, gridsearch_sample_1.best_score_"
   ]
  },
  {
   "cell_type": "code",
   "execution_count": 66,
   "metadata": {
    "scrolled": false
   },
   "outputs": [
    {
     "name": "stderr",
     "output_type": "stream",
     "text": [
      "C:\\ProgramData\\Anaconda3\\lib\\site-packages\\sklearn\\model_selection\\_search.py:761: DeprecationWarning: The grid_scores_ attribute was deprecated in version 0.18 in favor of the more elaborate cv_results_ attribute. The grid_scores_ attribute will not be available from 0.20\n",
      "  DeprecationWarning)\n"
     ]
    },
    {
     "data": {
      "text/plain": [
       "([mean: -0.32339, std: 0.02862, params: {'colsample_bytree': 0.4, 'subsample': 0.2},\n",
       "  mean: -0.31605, std: 0.03083, params: {'colsample_bytree': 0.4, 'subsample': 0.25},\n",
       "  mean: -0.30289, std: 0.03335, params: {'colsample_bytree': 0.4, 'subsample': 0.3},\n",
       "  mean: -0.31255, std: 0.02792, params: {'colsample_bytree': 0.4, 'subsample': 0.35},\n",
       "  mean: -0.31171, std: 0.02604, params: {'colsample_bytree': 0.4, 'subsample': 0.4},\n",
       "  mean: -0.30960, std: 0.02173, params: {'colsample_bytree': 0.4, 'subsample': 0.45},\n",
       "  mean: -0.31313, std: 0.02722, params: {'colsample_bytree': 0.4, 'subsample': 0.5},\n",
       "  mean: -0.31859, std: 0.02787, params: {'colsample_bytree': 0.4, 'subsample': 0.55},\n",
       "  mean: -0.31087, std: 0.02586, params: {'colsample_bytree': 0.4, 'subsample': 0.6},\n",
       "  mean: -0.30544, std: 0.03482, params: {'colsample_bytree': 0.4, 'subsample': 0.65},\n",
       "  mean: -0.30348, std: 0.03701, params: {'colsample_bytree': 0.4, 'subsample': 0.7},\n",
       "  mean: -0.29926, std: 0.03308, params: {'colsample_bytree': 0.4, 'subsample': 0.75},\n",
       "  mean: -0.30200, std: 0.03632, params: {'colsample_bytree': 0.4, 'subsample': 0.8},\n",
       "  mean: -0.30084, std: 0.03410, params: {'colsample_bytree': 0.4, 'subsample': 0.85},\n",
       "  mean: -0.30488, std: 0.03158, params: {'colsample_bytree': 0.4, 'subsample': 0.9},\n",
       "  mean: -0.30067, std: 0.03434, params: {'colsample_bytree': 0.4, 'subsample': 0.95},\n",
       "  mean: -0.31543, std: 0.02695, params: {'colsample_bytree': 0.45, 'subsample': 0.2},\n",
       "  mean: -0.31177, std: 0.03438, params: {'colsample_bytree': 0.45, 'subsample': 0.25},\n",
       "  mean: -0.30819, std: 0.03125, params: {'colsample_bytree': 0.45, 'subsample': 0.3},\n",
       "  mean: -0.30927, std: 0.02951, params: {'colsample_bytree': 0.45, 'subsample': 0.35},\n",
       "  mean: -0.31318, std: 0.02862, params: {'colsample_bytree': 0.45, 'subsample': 0.4},\n",
       "  mean: -0.31545, std: 0.02760, params: {'colsample_bytree': 0.45, 'subsample': 0.45},\n",
       "  mean: -0.30689, std: 0.03348, params: {'colsample_bytree': 0.45, 'subsample': 0.5},\n",
       "  mean: -0.31446, std: 0.02906, params: {'colsample_bytree': 0.45, 'subsample': 0.55},\n",
       "  mean: -0.30575, std: 0.03076, params: {'colsample_bytree': 0.45, 'subsample': 0.6},\n",
       "  mean: -0.30610, std: 0.03136, params: {'colsample_bytree': 0.45, 'subsample': 0.65},\n",
       "  mean: -0.29824, std: 0.03450, params: {'colsample_bytree': 0.45, 'subsample': 0.7},\n",
       "  mean: -0.30161, std: 0.03338, params: {'colsample_bytree': 0.45, 'subsample': 0.75},\n",
       "  mean: -0.30351, std: 0.03104, params: {'colsample_bytree': 0.45, 'subsample': 0.8},\n",
       "  mean: -0.30333, std: 0.03104, params: {'colsample_bytree': 0.45, 'subsample': 0.85},\n",
       "  mean: -0.30528, std: 0.03273, params: {'colsample_bytree': 0.45, 'subsample': 0.9},\n",
       "  mean: -0.30498, std: 0.03842, params: {'colsample_bytree': 0.45, 'subsample': 0.95},\n",
       "  mean: -0.31136, std: 0.02207, params: {'colsample_bytree': 0.5, 'subsample': 0.2},\n",
       "  mean: -0.30205, std: 0.03419, params: {'colsample_bytree': 0.5, 'subsample': 0.25},\n",
       "  mean: -0.31112, std: 0.02829, params: {'colsample_bytree': 0.5, 'subsample': 0.3},\n",
       "  mean: -0.31116, std: 0.02579, params: {'colsample_bytree': 0.5, 'subsample': 0.35},\n",
       "  mean: -0.30821, std: 0.02824, params: {'colsample_bytree': 0.5, 'subsample': 0.4},\n",
       "  mean: -0.30595, std: 0.02366, params: {'colsample_bytree': 0.5, 'subsample': 0.45},\n",
       "  mean: -0.30783, std: 0.02933, params: {'colsample_bytree': 0.5, 'subsample': 0.5},\n",
       "  mean: -0.31032, std: 0.02875, params: {'colsample_bytree': 0.5, 'subsample': 0.55},\n",
       "  mean: -0.30422, std: 0.03151, params: {'colsample_bytree': 0.5, 'subsample': 0.6},\n",
       "  mean: -0.30299, std: 0.02718, params: {'colsample_bytree': 0.5, 'subsample': 0.65},\n",
       "  mean: -0.30685, std: 0.03041, params: {'colsample_bytree': 0.5, 'subsample': 0.7},\n",
       "  mean: -0.29924, std: 0.02939, params: {'colsample_bytree': 0.5, 'subsample': 0.75},\n",
       "  mean: -0.30132, std: 0.03562, params: {'colsample_bytree': 0.5, 'subsample': 0.8},\n",
       "  mean: -0.30174, std: 0.02847, params: {'colsample_bytree': 0.5, 'subsample': 0.85},\n",
       "  mean: -0.30320, std: 0.03255, params: {'colsample_bytree': 0.5, 'subsample': 0.9},\n",
       "  mean: -0.30524, std: 0.03872, params: {'colsample_bytree': 0.5, 'subsample': 0.95},\n",
       "  mean: -0.31331, std: 0.02818, params: {'colsample_bytree': 0.55, 'subsample': 0.2},\n",
       "  mean: -0.30816, std: 0.03409, params: {'colsample_bytree': 0.55, 'subsample': 0.25},\n",
       "  mean: -0.31194, std: 0.02546, params: {'colsample_bytree': 0.55, 'subsample': 0.3},\n",
       "  mean: -0.30924, std: 0.02597, params: {'colsample_bytree': 0.55, 'subsample': 0.35},\n",
       "  mean: -0.30187, std: 0.03530, params: {'colsample_bytree': 0.55, 'subsample': 0.4},\n",
       "  mean: -0.30905, std: 0.02632, params: {'colsample_bytree': 0.55, 'subsample': 0.45},\n",
       "  mean: -0.30388, std: 0.03102, params: {'colsample_bytree': 0.55, 'subsample': 0.5},\n",
       "  mean: -0.30264, std: 0.02778, params: {'colsample_bytree': 0.55, 'subsample': 0.55},\n",
       "  mean: -0.30139, std: 0.02955, params: {'colsample_bytree': 0.55, 'subsample': 0.6},\n",
       "  mean: -0.29959, std: 0.03045, params: {'colsample_bytree': 0.55, 'subsample': 0.65},\n",
       "  mean: -0.30101, std: 0.03246, params: {'colsample_bytree': 0.55, 'subsample': 0.7},\n",
       "  mean: -0.29776, std: 0.03422, params: {'colsample_bytree': 0.55, 'subsample': 0.75},\n",
       "  mean: -0.29922, std: 0.03194, params: {'colsample_bytree': 0.55, 'subsample': 0.8},\n",
       "  mean: -0.30427, std: 0.02953, params: {'colsample_bytree': 0.55, 'subsample': 0.85},\n",
       "  mean: -0.30232, std: 0.03162, params: {'colsample_bytree': 0.55, 'subsample': 0.9},\n",
       "  mean: -0.30552, std: 0.03475, params: {'colsample_bytree': 0.55, 'subsample': 0.95},\n",
       "  mean: -0.32016, std: 0.02708, params: {'colsample_bytree': 0.6, 'subsample': 0.2},\n",
       "  mean: -0.30915, std: 0.02994, params: {'colsample_bytree': 0.6, 'subsample': 0.25},\n",
       "  mean: -0.31178, std: 0.03122, params: {'colsample_bytree': 0.6, 'subsample': 0.3},\n",
       "  mean: -0.30988, std: 0.03080, params: {'colsample_bytree': 0.6, 'subsample': 0.35},\n",
       "  mean: -0.31164, std: 0.03489, params: {'colsample_bytree': 0.6, 'subsample': 0.4},\n",
       "  mean: -0.31046, std: 0.03088, params: {'colsample_bytree': 0.6, 'subsample': 0.45},\n",
       "  mean: -0.31026, std: 0.02896, params: {'colsample_bytree': 0.6, 'subsample': 0.5},\n",
       "  mean: -0.30545, std: 0.02691, params: {'colsample_bytree': 0.6, 'subsample': 0.55},\n",
       "  mean: -0.29880, std: 0.03101, params: {'colsample_bytree': 0.6, 'subsample': 0.6},\n",
       "  mean: -0.30043, std: 0.02455, params: {'colsample_bytree': 0.6, 'subsample': 0.65},\n",
       "  mean: -0.29900, std: 0.03059, params: {'colsample_bytree': 0.6, 'subsample': 0.7},\n",
       "  mean: -0.29823, std: 0.03137, params: {'colsample_bytree': 0.6, 'subsample': 0.75},\n",
       "  mean: -0.29852, std: 0.03396, params: {'colsample_bytree': 0.6, 'subsample': 0.8},\n",
       "  mean: -0.30286, std: 0.03372, params: {'colsample_bytree': 0.6, 'subsample': 0.85},\n",
       "  mean: -0.30156, std: 0.02911, params: {'colsample_bytree': 0.6, 'subsample': 0.9},\n",
       "  mean: -0.30213, std: 0.03813, params: {'colsample_bytree': 0.6, 'subsample': 0.95},\n",
       "  mean: -0.31477, std: 0.02922, params: {'colsample_bytree': 0.65, 'subsample': 0.2},\n",
       "  mean: -0.31044, std: 0.03134, params: {'colsample_bytree': 0.65, 'subsample': 0.25},\n",
       "  mean: -0.30656, std: 0.03386, params: {'colsample_bytree': 0.65, 'subsample': 0.3},\n",
       "  mean: -0.31090, std: 0.02737, params: {'colsample_bytree': 0.65, 'subsample': 0.35},\n",
       "  mean: -0.30938, std: 0.03711, params: {'colsample_bytree': 0.65, 'subsample': 0.4},\n",
       "  mean: -0.30639, std: 0.03096, params: {'colsample_bytree': 0.65, 'subsample': 0.45},\n",
       "  mean: -0.31272, std: 0.02986, params: {'colsample_bytree': 0.65, 'subsample': 0.5},\n",
       "  mean: -0.30686, std: 0.03307, params: {'colsample_bytree': 0.65, 'subsample': 0.55},\n",
       "  mean: -0.30021, std: 0.02437, params: {'colsample_bytree': 0.65, 'subsample': 0.6},\n",
       "  mean: -0.29859, std: 0.03163, params: {'colsample_bytree': 0.65, 'subsample': 0.65},\n",
       "  mean: -0.30547, std: 0.03069, params: {'colsample_bytree': 0.65, 'subsample': 0.7},\n",
       "  mean: -0.30171, std: 0.02847, params: {'colsample_bytree': 0.65, 'subsample': 0.75},\n",
       "  mean: -0.30017, std: 0.02957, params: {'colsample_bytree': 0.65, 'subsample': 0.8},\n",
       "  mean: -0.30447, std: 0.03572, params: {'colsample_bytree': 0.65, 'subsample': 0.85},\n",
       "  mean: -0.30755, std: 0.03266, params: {'colsample_bytree': 0.65, 'subsample': 0.9},\n",
       "  mean: -0.30377, std: 0.03292, params: {'colsample_bytree': 0.65, 'subsample': 0.95},\n",
       "  mean: -0.31135, std: 0.02272, params: {'colsample_bytree': 0.7, 'subsample': 0.2},\n",
       "  mean: -0.30778, std: 0.03099, params: {'colsample_bytree': 0.7, 'subsample': 0.25},\n",
       "  mean: -0.30134, std: 0.03380, params: {'colsample_bytree': 0.7, 'subsample': 0.3},\n",
       "  mean: -0.30472, std: 0.03100, params: {'colsample_bytree': 0.7, 'subsample': 0.35},\n",
       "  mean: -0.30400, std: 0.03320, params: {'colsample_bytree': 0.7, 'subsample': 0.4},\n",
       "  mean: -0.30555, std: 0.02674, params: {'colsample_bytree': 0.7, 'subsample': 0.45},\n",
       "  mean: -0.30544, std: 0.03903, params: {'colsample_bytree': 0.7, 'subsample': 0.5},\n",
       "  mean: -0.30467, std: 0.03130, params: {'colsample_bytree': 0.7, 'subsample': 0.55},\n",
       "  mean: -0.29957, std: 0.03274, params: {'colsample_bytree': 0.7, 'subsample': 0.6},\n",
       "  mean: -0.30125, std: 0.03115, params: {'colsample_bytree': 0.7, 'subsample': 0.65},\n",
       "  mean: -0.30564, std: 0.02963, params: {'colsample_bytree': 0.7, 'subsample': 0.7},\n",
       "  mean: -0.29632, std: 0.03117, params: {'colsample_bytree': 0.7, 'subsample': 0.75},\n",
       "  mean: -0.29820, std: 0.03164, params: {'colsample_bytree': 0.7, 'subsample': 0.8},\n",
       "  mean: -0.30659, std: 0.03411, params: {'colsample_bytree': 0.7, 'subsample': 0.85},\n",
       "  mean: -0.30360, std: 0.03532, params: {'colsample_bytree': 0.7, 'subsample': 0.9},\n",
       "  mean: -0.30573, std: 0.03692, params: {'colsample_bytree': 0.7, 'subsample': 0.95},\n",
       "  mean: -0.31180, std: 0.02292, params: {'colsample_bytree': 0.75, 'subsample': 0.2},\n",
       "  mean: -0.30425, std: 0.02108, params: {'colsample_bytree': 0.75, 'subsample': 0.25},\n",
       "  mean: -0.30012, std: 0.02575, params: {'colsample_bytree': 0.75, 'subsample': 0.3},\n",
       "  mean: -0.30800, std: 0.02277, params: {'colsample_bytree': 0.75, 'subsample': 0.35},\n",
       "  mean: -0.30255, std: 0.03149, params: {'colsample_bytree': 0.75, 'subsample': 0.4},\n",
       "  mean: -0.30449, std: 0.03008, params: {'colsample_bytree': 0.75, 'subsample': 0.45},\n",
       "  mean: -0.30896, std: 0.03406, params: {'colsample_bytree': 0.75, 'subsample': 0.5},\n",
       "  mean: -0.30730, std: 0.02745, params: {'colsample_bytree': 0.75, 'subsample': 0.55},\n",
       "  mean: -0.29414, std: 0.02761, params: {'colsample_bytree': 0.75, 'subsample': 0.6},\n",
       "  mean: -0.30534, std: 0.02880, params: {'colsample_bytree': 0.75, 'subsample': 0.65},\n",
       "  mean: -0.30232, std: 0.02870, params: {'colsample_bytree': 0.75, 'subsample': 0.7},\n",
       "  mean: -0.30466, std: 0.03618, params: {'colsample_bytree': 0.75, 'subsample': 0.75},\n",
       "  mean: -0.30216, std: 0.03707, params: {'colsample_bytree': 0.75, 'subsample': 0.8},\n",
       "  mean: -0.30651, std: 0.03921, params: {'colsample_bytree': 0.75, 'subsample': 0.85},\n",
       "  mean: -0.30470, std: 0.03442, params: {'colsample_bytree': 0.75, 'subsample': 0.9},\n",
       "  mean: -0.31031, std: 0.04231, params: {'colsample_bytree': 0.75, 'subsample': 0.95},\n",
       "  mean: -0.31252, std: 0.02479, params: {'colsample_bytree': 0.8, 'subsample': 0.2},\n",
       "  mean: -0.30208, std: 0.02133, params: {'colsample_bytree': 0.8, 'subsample': 0.25},\n",
       "  mean: -0.29600, std: 0.02606, params: {'colsample_bytree': 0.8, 'subsample': 0.3},\n",
       "  mean: -0.30473, std: 0.02030, params: {'colsample_bytree': 0.8, 'subsample': 0.35},\n",
       "  mean: -0.30348, std: 0.01875, params: {'colsample_bytree': 0.8, 'subsample': 0.4},\n",
       "  mean: -0.30593, std: 0.02399, params: {'colsample_bytree': 0.8, 'subsample': 0.45},\n",
       "  mean: -0.30533, std: 0.03183, params: {'colsample_bytree': 0.8, 'subsample': 0.5},\n",
       "  mean: -0.29931, std: 0.02831, params: {'colsample_bytree': 0.8, 'subsample': 0.55},\n",
       "  mean: -0.29431, std: 0.02739, params: {'colsample_bytree': 0.8, 'subsample': 0.6},\n",
       "  mean: -0.30315, std: 0.02589, params: {'colsample_bytree': 0.8, 'subsample': 0.65},\n",
       "  mean: -0.30432, std: 0.02928, params: {'colsample_bytree': 0.8, 'subsample': 0.7},\n",
       "  mean: -0.30348, std: 0.03474, params: {'colsample_bytree': 0.8, 'subsample': 0.75},\n",
       "  mean: -0.29272, std: 0.03314, params: {'colsample_bytree': 0.8, 'subsample': 0.8},\n",
       "  mean: -0.30400, std: 0.04072, params: {'colsample_bytree': 0.8, 'subsample': 0.85},\n",
       "  mean: -0.30950, std: 0.03487, params: {'colsample_bytree': 0.8, 'subsample': 0.9},\n",
       "  mean: -0.30718, std: 0.03817, params: {'colsample_bytree': 0.8, 'subsample': 0.95},\n",
       "  mean: -0.30841, std: 0.02663, params: {'colsample_bytree': 0.85, 'subsample': 0.2},\n",
       "  mean: -0.30755, std: 0.03050, params: {'colsample_bytree': 0.85, 'subsample': 0.25},\n",
       "  mean: -0.30396, std: 0.02294, params: {'colsample_bytree': 0.85, 'subsample': 0.3},\n",
       "  mean: -0.30931, std: 0.03685, params: {'colsample_bytree': 0.85, 'subsample': 0.35},\n",
       "  mean: -0.30175, std: 0.02871, params: {'colsample_bytree': 0.85, 'subsample': 0.4},\n",
       "  mean: -0.30111, std: 0.03035, params: {'colsample_bytree': 0.85, 'subsample': 0.45},\n",
       "  mean: -0.29508, std: 0.02995, params: {'colsample_bytree': 0.85, 'subsample': 0.5},\n",
       "  mean: -0.29810, std: 0.02824, params: {'colsample_bytree': 0.85, 'subsample': 0.55},\n",
       "  mean: -0.29664, std: 0.03181, params: {'colsample_bytree': 0.85, 'subsample': 0.6},\n",
       "  mean: -0.29885, std: 0.02640, params: {'colsample_bytree': 0.85, 'subsample': 0.65},\n",
       "  mean: -0.29326, std: 0.03182, params: {'colsample_bytree': 0.85, 'subsample': 0.7},\n",
       "  mean: -0.30159, std: 0.03408, params: {'colsample_bytree': 0.85, 'subsample': 0.75},\n",
       "  mean: -0.30032, std: 0.03046, params: {'colsample_bytree': 0.85, 'subsample': 0.8},\n",
       "  mean: -0.30546, std: 0.03835, params: {'colsample_bytree': 0.85, 'subsample': 0.85},\n",
       "  mean: -0.30405, std: 0.04147, params: {'colsample_bytree': 0.85, 'subsample': 0.9},\n",
       "  mean: -0.30716, std: 0.03954, params: {'colsample_bytree': 0.85, 'subsample': 0.95},\n",
       "  mean: -0.31441, std: 0.02516, params: {'colsample_bytree': 0.9, 'subsample': 0.2},\n",
       "  mean: -0.30527, std: 0.03267, params: {'colsample_bytree': 0.9, 'subsample': 0.25},\n",
       "  mean: -0.30205, std: 0.02873, params: {'colsample_bytree': 0.9, 'subsample': 0.3},\n",
       "  mean: -0.30974, std: 0.03223, params: {'colsample_bytree': 0.9, 'subsample': 0.35},\n",
       "  mean: -0.29978, std: 0.02599, params: {'colsample_bytree': 0.9, 'subsample': 0.4},\n",
       "  mean: -0.30748, std: 0.02927, params: {'colsample_bytree': 0.9, 'subsample': 0.45},\n",
       "  mean: -0.29640, std: 0.03173, params: {'colsample_bytree': 0.9, 'subsample': 0.5},\n",
       "  mean: -0.29590, std: 0.02840, params: {'colsample_bytree': 0.9, 'subsample': 0.55},\n",
       "  mean: -0.30031, std: 0.02805, params: {'colsample_bytree': 0.9, 'subsample': 0.6},\n",
       "  mean: -0.29987, std: 0.03283, params: {'colsample_bytree': 0.9, 'subsample': 0.65},\n",
       "  mean: -0.29853, std: 0.03625, params: {'colsample_bytree': 0.9, 'subsample': 0.7},\n",
       "  mean: -0.29997, std: 0.03585, params: {'colsample_bytree': 0.9, 'subsample': 0.75},\n",
       "  mean: -0.30218, std: 0.03352, params: {'colsample_bytree': 0.9, 'subsample': 0.8},\n",
       "  mean: -0.30974, std: 0.04069, params: {'colsample_bytree': 0.9, 'subsample': 0.85},\n",
       "  mean: -0.31154, std: 0.03929, params: {'colsample_bytree': 0.9, 'subsample': 0.9},\n",
       "  mean: -0.30970, std: 0.04459, params: {'colsample_bytree': 0.9, 'subsample': 0.95},\n",
       "  mean: -0.30614, std: 0.02561, params: {'colsample_bytree': 0.95, 'subsample': 0.2},\n",
       "  mean: -0.30567, std: 0.02866, params: {'colsample_bytree': 0.95, 'subsample': 0.25},\n",
       "  mean: -0.29578, std: 0.03509, params: {'colsample_bytree': 0.95, 'subsample': 0.3},\n",
       "  mean: -0.30379, std: 0.03419, params: {'colsample_bytree': 0.95, 'subsample': 0.35},\n",
       "  mean: -0.30209, std: 0.02090, params: {'colsample_bytree': 0.95, 'subsample': 0.4},\n",
       "  mean: -0.29962, std: 0.03098, params: {'colsample_bytree': 0.95, 'subsample': 0.45},\n",
       "  mean: -0.30173, std: 0.02895, params: {'colsample_bytree': 0.95, 'subsample': 0.5},\n",
       "  mean: -0.30286, std: 0.03225, params: {'colsample_bytree': 0.95, 'subsample': 0.55},\n",
       "  mean: -0.29448, std: 0.02443, params: {'colsample_bytree': 0.95, 'subsample': 0.6},\n",
       "  mean: -0.29862, std: 0.02741, params: {'colsample_bytree': 0.95, 'subsample': 0.65},\n",
       "  mean: -0.30001, std: 0.02729, params: {'colsample_bytree': 0.95, 'subsample': 0.7},\n",
       "  mean: -0.29785, std: 0.03232, params: {'colsample_bytree': 0.95, 'subsample': 0.75},\n",
       "  mean: -0.30638, std: 0.03659, params: {'colsample_bytree': 0.95, 'subsample': 0.8},\n",
       "  mean: -0.30532, std: 0.03770, params: {'colsample_bytree': 0.95, 'subsample': 0.85},\n",
       "  mean: -0.30625, std: 0.03707, params: {'colsample_bytree': 0.95, 'subsample': 0.9},\n",
       "  mean: -0.30977, std: 0.03758, params: {'colsample_bytree': 0.95, 'subsample': 0.95},\n",
       "  mean: -0.30393, std: 0.02715, params: {'colsample_bytree': 1.0, 'subsample': 0.2},\n",
       "  mean: -0.30571, std: 0.02292, params: {'colsample_bytree': 1.0, 'subsample': 0.25},\n",
       "  mean: -0.30392, std: 0.03169, params: {'colsample_bytree': 1.0, 'subsample': 0.3},\n",
       "  mean: -0.29972, std: 0.02745, params: {'colsample_bytree': 1.0, 'subsample': 0.35},\n",
       "  mean: -0.29884, std: 0.02431, params: {'colsample_bytree': 1.0, 'subsample': 0.4},\n",
       "  mean: -0.30044, std: 0.02372, params: {'colsample_bytree': 1.0, 'subsample': 0.45},\n",
       "  mean: -0.30712, std: 0.03166, params: {'colsample_bytree': 1.0, 'subsample': 0.5},\n",
       "  mean: -0.29889, std: 0.02985, params: {'colsample_bytree': 1.0, 'subsample': 0.55},\n",
       "  mean: -0.29585, std: 0.02455, params: {'colsample_bytree': 1.0, 'subsample': 0.6},\n",
       "  mean: -0.30204, std: 0.02955, params: {'colsample_bytree': 1.0, 'subsample': 0.65},\n",
       "  mean: -0.29650, std: 0.02464, params: {'colsample_bytree': 1.0, 'subsample': 0.7},\n",
       "  mean: -0.29904, std: 0.02871, params: {'colsample_bytree': 1.0, 'subsample': 0.75},\n",
       "  mean: -0.30155, std: 0.03858, params: {'colsample_bytree': 1.0, 'subsample': 0.8},\n",
       "  mean: -0.30843, std: 0.03847, params: {'colsample_bytree': 1.0, 'subsample': 0.85},\n",
       "  mean: -0.30221, std: 0.03231, params: {'colsample_bytree': 1.0, 'subsample': 0.9},\n",
       "  mean: -0.31568, std: 0.04426, params: {'colsample_bytree': 1.0, 'subsample': 0.95}],\n",
       " {'colsample_bytree': 0.8, 'subsample': 0.8},\n",
       " -0.2927156073883501)"
      ]
     },
     "execution_count": 66,
     "metadata": {},
     "output_type": "execute_result"
    }
   ],
   "source": [
    "gridsearch_sample_1 = sklearn.model_selection.GridSearchCV(estimator = xgboost.XGBClassifier(seed = 1\n",
    "                                                                                           , learning_rate = 0.1\n",
    "                                                                                           , n_estimators = 70\n",
    "                                                                                           , base_score = train_data_after_clean[target_col[0]].sum()/train_data_after_clean.shape[0]\n",
    "                                                                                           , nthread=1\n",
    "                                                                                           , max_depth = 5\n",
    "                                                                                           , min_child_weight = 0.9\n",
    "                                                                                           , gamma = 0\n",
    "#                                                                                            , subsample = 0.8\n",
    "#                                                                                            , colsample_bytree = 0.8\n",
    "                                                                                           , scale_pos_weight = 1),\n",
    "                                     param_grid={\n",
    "                                         'subsample': [i/20.0 for i in range(4,20)],\n",
    "                                         'colsample_bytree': [i/20.0 for i in range(8,21)]\n",
    "                                     },         \n",
    "                                     scoring = 'neg_log_loss',\n",
    "                                     n_jobs= 1,\n",
    "                                     iid = False,\n",
    "                                     cv = 4)\n",
    "gridsearch_sample_1.fit(train_data_after_clean[predictors],train_data_after_clean[target_col[0]])\n",
    "gridsearch_sample_1.grid_scores_, gridsearch_sample_1.best_params_, gridsearch_sample_1.best_score_"
   ]
  },
  {
   "cell_type": "code",
   "execution_count": 67,
   "metadata": {
    "scrolled": false
   },
   "outputs": [
    {
     "name": "stderr",
     "output_type": "stream",
     "text": [
      "C:\\ProgramData\\Anaconda3\\lib\\site-packages\\sklearn\\model_selection\\_search.py:761: DeprecationWarning: The grid_scores_ attribute was deprecated in version 0.18 in favor of the more elaborate cv_results_ attribute. The grid_scores_ attribute will not be available from 0.20\n",
      "  DeprecationWarning)\n"
     ]
    },
    {
     "data": {
      "text/plain": [
       "([mean: -0.29272, std: 0.03314, params: {'reg_alpha': 1e-10},\n",
       "  mean: -0.29272, std: 0.03314, params: {'reg_alpha': 1e-08},\n",
       "  mean: -0.29272, std: 0.03314, params: {'reg_alpha': 1e-06},\n",
       "  mean: -0.29272, std: 0.03314, params: {'reg_alpha': 1e-05},\n",
       "  mean: -0.29272, std: 0.03314, params: {'reg_alpha': 0.0001},\n",
       "  mean: -0.29336, std: 0.03459, params: {'reg_alpha': 0.001},\n",
       "  mean: -0.29627, std: 0.03742, params: {'reg_alpha': 0.01},\n",
       "  mean: -0.30112, std: 0.03828, params: {'reg_alpha': 0.1},\n",
       "  mean: -0.29931, std: 0.02908, params: {'reg_alpha': 1},\n",
       "  mean: -0.68762, std: 0.00039, params: {'reg_alpha': 100}],\n",
       " {'reg_alpha': 0.0001},\n",
       " -0.29271541802219886)"
      ]
     },
     "execution_count": 67,
     "metadata": {},
     "output_type": "execute_result"
    }
   ],
   "source": [
    "gridsearch_sample_1 = sklearn.model_selection.GridSearchCV(estimator = xgboost.XGBClassifier(seed = 1\n",
    "                                                                                           , learning_rate = 0.1\n",
    "                                                                                           , n_estimators = 70\n",
    "                                                                                           , base_score = train_data_after_clean[target_col[0]].sum()/train_data_after_clean.shape[0]\n",
    "                                                                                           , nthread=1\n",
    "                                                                                           , max_depth = 5\n",
    "                                                                                           , min_child_weight = 0.9\n",
    "                                                                                           , gamma = 0\n",
    "                                                                                           , subsample = 0.8\n",
    "                                                                                           , colsample_bytree = 0.8\n",
    "                                                                                           , scale_pos_weight = 1),\n",
    "                                     param_grid={\n",
    "                                         'reg_alpha':[1e-10,1e-8,1e-6,1e-5,1e-4,1e-3,1e-2, 0.1, 1, 100]\n",
    "                                     },         \n",
    "                                     scoring = 'neg_log_loss',\n",
    "                                     n_jobs= 1,\n",
    "                                     iid = False,\n",
    "                                     cv = 4)\n",
    "gridsearch_sample_1.fit(train_data_after_clean[predictors],train_data_after_clean[target_col[0]])\n",
    "gridsearch_sample_1.grid_scores_, gridsearch_sample_1.best_params_, gridsearch_sample_1.best_score_"
   ]
  },
  {
   "cell_type": "code",
   "execution_count": 68,
   "metadata": {
    "scrolled": false
   },
   "outputs": [
    {
     "name": "stderr",
     "output_type": "stream",
     "text": [
      "C:\\ProgramData\\Anaconda3\\lib\\site-packages\\sklearn\\model_selection\\_search.py:761: DeprecationWarning: The grid_scores_ attribute was deprecated in version 0.18 in favor of the more elaborate cv_results_ attribute. The grid_scores_ attribute will not be available from 0.20\n",
      "  DeprecationWarning)\n"
     ]
    },
    {
     "data": {
      "text/plain": [
       "([mean: -0.30004, std: 0.03351, params: {'n_estimators': 600},\n",
       "  mean: -0.29982, std: 0.03373, params: {'n_estimators': 610},\n",
       "  mean: -0.29962, std: 0.03345, params: {'n_estimators': 620},\n",
       "  mean: -0.29984, std: 0.03349, params: {'n_estimators': 630},\n",
       "  mean: -0.29977, std: 0.03384, params: {'n_estimators': 640},\n",
       "  mean: -0.29974, std: 0.03395, params: {'n_estimators': 650},\n",
       "  mean: -0.29980, std: 0.03396, params: {'n_estimators': 660},\n",
       "  mean: -0.29998, std: 0.03434, params: {'n_estimators': 670},\n",
       "  mean: -0.29978, std: 0.03437, params: {'n_estimators': 680},\n",
       "  mean: -0.29979, std: 0.03459, params: {'n_estimators': 690},\n",
       "  mean: -0.29990, std: 0.03483, params: {'n_estimators': 700}],\n",
       " {'n_estimators': 620},\n",
       " -0.29961878559260385)"
      ]
     },
     "execution_count": 68,
     "metadata": {},
     "output_type": "execute_result"
    }
   ],
   "source": [
    "gridsearch_sample_1 = sklearn.model_selection.GridSearchCV(estimator = xgboost.XGBClassifier(seed = 1\n",
    "                                                                                           , learning_rate = 0.01\n",
    "                                                                                           , n_estimators = 750\n",
    "                                                                                           , base_score = train_data_after_clean[target_col[0]].sum()/train_data_after_clean.shape[0]\n",
    "                                                                                           , nthread=1\n",
    "                                                                                           , max_depth = 5\n",
    "                                                                                           , min_child_weight = 0.9\n",
    "                                                                                           , gamma = 0\n",
    "                                                                                           , subsample = 0.8\n",
    "                                                                                           , colsample_bytree = 0.8\n",
    "                                                                                           , scale_pos_weight = 1\n",
    "                                                                                           , reg_alpha = 0.0001),\n",
    "                                     param_grid={\n",
    "                                         'n_estimators':range(600,710,10)\n",
    "                                     },         \n",
    "                                     scoring = 'neg_log_loss',\n",
    "                                     n_jobs= 1,\n",
    "                                     iid = False,\n",
    "                                     cv = 4)\n",
    "gridsearch_sample_1.fit(train_data_after_clean[predictors],train_data_after_clean[target_col[0]])\n",
    "gridsearch_sample_1.grid_scores_, gridsearch_sample_1.best_params_, gridsearch_sample_1.best_score_"
   ]
  },
  {
   "cell_type": "code",
   "execution_count": 69,
   "metadata": {},
   "outputs": [],
   "source": [
    "xgb_model_tuned = xgboost.XGBClassifier(seed = 1\n",
    "                      , learning_rate = 0.01\n",
    "                      , n_estimators = 620\n",
    "                      , base_score = train_data_after_clean[target_col[0]].sum()/train_data_after_clean.shape[0]\n",
    "                      , nthread=1\n",
    "                      , max_depth = 5\n",
    "                      , min_child_weight = 0.9\n",
    "                      , gamma = 0\n",
    "                      , subsample = 0.8\n",
    "                      , colsample_bytree = 0.8\n",
    "                      , scale_pos_weight = 1\n",
    "                      , reg_alpha = 0.0001)"
   ]
  },
  {
   "cell_type": "code",
   "execution_count": 70,
   "metadata": {},
   "outputs": [
    {
     "name": "stdout",
     "output_type": "stream",
     "text": [
      "Log Loss: -0.300 (0.03)\n"
     ]
    }
   ],
   "source": [
    "kfold = sklearn.model_selection.StratifiedKFold(n_splits=4, random_state=1)\n",
    "results = sklearn.model_selection.cross_val_score(xgb_model_tuned, train_data_after_clean.drop(target_col, axis = 1), train_data_after_clean[target_col[0]], cv=kfold,scoring='neg_log_loss')\n",
    "# print(\"Accuracy: %.2f%% (%.2f%%)\" % (results.mean()*100, results.std()*100))\n",
    "print(\"Log Loss: %.3f (%.2f)\" % (results.mean(), results.std()))"
   ]
  },
  {
   "cell_type": "code",
   "execution_count": 71,
   "metadata": {},
   "outputs": [],
   "source": [
    "fitted_xgb_tuned = xgb_model_tuned.fit(train_data_after_clean.drop(target_col, axis = 1),train_data_after_clean[target_col[0]])"
   ]
  },
  {
   "cell_type": "code",
   "execution_count": 72,
   "metadata": {},
   "outputs": [],
   "source": [
    "predicted_prob = fitted_xgb_tuned.predict_proba(train_data_after_clean.drop(target_col, axis = 1))[:,1]"
   ]
  },
  {
   "cell_type": "code",
   "execution_count": 73,
   "metadata": {},
   "outputs": [
    {
     "name": "stdout",
     "output_type": "stream",
     "text": [
      "0.553907\n",
      "0.99167776\n",
      "0.005399354\n"
     ]
    }
   ],
   "source": [
    "print(predicted_prob.mean())\n",
    "print(predicted_prob.max())\n",
    "print(predicted_prob.min())"
   ]
  },
  {
   "cell_type": "code",
   "execution_count": 74,
   "metadata": {},
   "outputs": [],
   "source": [
    "final_df = pd.concat([pd.Series(predicted_prob),train_data_after_clean[target_col[0]]],axis = 1)\n",
    "final_df.columns = ['predicted_prob','actuals']"
   ]
  },
  {
   "cell_type": "code",
   "execution_count": 75,
   "metadata": {},
   "outputs": [
    {
     "data": {
      "text/html": [
       "<div>\n",
       "<style scoped>\n",
       "    .dataframe tbody tr th:only-of-type {\n",
       "        vertical-align: middle;\n",
       "    }\n",
       "\n",
       "    .dataframe tbody tr th {\n",
       "        vertical-align: top;\n",
       "    }\n",
       "\n",
       "    .dataframe thead th {\n",
       "        text-align: right;\n",
       "    }\n",
       "</style>\n",
       "<table border=\"1\" class=\"dataframe\">\n",
       "  <thead>\n",
       "    <tr style=\"text-align: right;\">\n",
       "      <th></th>\n",
       "      <th>predicted_prob</th>\n",
       "      <th>actuals</th>\n",
       "    </tr>\n",
       "  </thead>\n",
       "  <tbody>\n",
       "    <tr>\n",
       "      <th>0</th>\n",
       "      <td>0.703131</td>\n",
       "      <td>1</td>\n",
       "    </tr>\n",
       "    <tr>\n",
       "      <th>1</th>\n",
       "      <td>0.984105</td>\n",
       "      <td>1</td>\n",
       "    </tr>\n",
       "    <tr>\n",
       "      <th>2</th>\n",
       "      <td>0.986053</td>\n",
       "      <td>1</td>\n",
       "    </tr>\n",
       "    <tr>\n",
       "      <th>3</th>\n",
       "      <td>0.180059</td>\n",
       "      <td>0</td>\n",
       "    </tr>\n",
       "    <tr>\n",
       "      <th>4</th>\n",
       "      <td>0.031174</td>\n",
       "      <td>0</td>\n",
       "    </tr>\n",
       "  </tbody>\n",
       "</table>\n",
       "</div>"
      ],
      "text/plain": [
       "   predicted_prob  actuals\n",
       "0        0.703131        1\n",
       "1        0.984105        1\n",
       "2        0.986053        1\n",
       "3        0.180059        0\n",
       "4        0.031174        0"
      ]
     },
     "execution_count": 75,
     "metadata": {},
     "output_type": "execute_result"
    }
   ],
   "source": [
    "final_df.head()"
   ]
  },
  {
   "cell_type": "code",
   "execution_count": 76,
   "metadata": {},
   "outputs": [],
   "source": [
    "fpr, tpr, thresholds = sklearn.metrics.roc_curve(train_data_after_clean[target_col[0]],predicted_prob)"
   ]
  },
  {
   "cell_type": "code",
   "execution_count": 77,
   "metadata": {},
   "outputs": [
    {
     "data": {
      "text/plain": [
       "array([0.        , 0.        , 0.00404858, 0.00404858, 0.00809717,\n",
       "       0.00809717, 0.01619433, 0.01619433, 0.02024291, 0.02024291,\n",
       "       0.0242915 , 0.0242915 , 0.04048583, 0.04048583, 0.06477733,\n",
       "       0.06477733, 1.        ])"
      ]
     },
     "execution_count": 77,
     "metadata": {},
     "output_type": "execute_result"
    }
   ],
   "source": [
    "fpr"
   ]
  },
  {
   "cell_type": "code",
   "execution_count": 78,
   "metadata": {},
   "outputs": [
    {
     "data": {
      "text/plain": [
       "array([0.00327869, 0.85245902, 0.85245902, 0.90491803, 0.90491803,\n",
       "       0.94754098, 0.94754098, 0.96393443, 0.96393443, 0.97377049,\n",
       "       0.97377049, 0.99344262, 0.99344262, 0.99672131, 0.99672131,\n",
       "       1.        , 1.        ])"
      ]
     },
     "execution_count": 78,
     "metadata": {},
     "output_type": "execute_result"
    }
   ],
   "source": [
    "tpr"
   ]
  },
  {
   "cell_type": "code",
   "execution_count": 79,
   "metadata": {},
   "outputs": [],
   "source": [
    "cut_off = thresholds[np.argmax(tpr - fpr)]"
   ]
  },
  {
   "cell_type": "code",
   "execution_count": 80,
   "metadata": {},
   "outputs": [],
   "source": [
    "final_df['Prediction_Flag'] = final_df['predicted_prob'].map(lambda x: 1 if x > cut_off else 0)"
   ]
  },
  {
   "cell_type": "code",
   "execution_count": 81,
   "metadata": {},
   "outputs": [
    {
     "data": {
      "text/plain": [
       "0.9836956521739131"
      ]
     },
     "execution_count": 81,
     "metadata": {},
     "output_type": "execute_result"
    }
   ],
   "source": [
    "sklearn.metrics.accuracy_score(final_df['actuals'],final_df['Prediction_Flag'])"
   ]
  },
  {
   "cell_type": "code",
   "execution_count": 82,
   "metadata": {},
   "outputs": [
    {
     "data": {
      "text/plain": [
       "array([[241,   6],\n",
       "       [  3, 302]], dtype=int64)"
      ]
     },
     "execution_count": 82,
     "metadata": {},
     "output_type": "execute_result"
    }
   ],
   "source": [
    "sklearn.metrics.confusion_matrix(final_df['actuals'],final_df['Prediction_Flag'])"
   ]
  },
  {
   "cell_type": "code",
   "execution_count": 83,
   "metadata": {},
   "outputs": [],
   "source": [
    "tn, fp, fn, tp = sklearn.metrics.confusion_matrix(final_df['actuals'],final_df['Prediction_Flag']).ravel()"
   ]
  },
  {
   "cell_type": "code",
   "execution_count": 84,
   "metadata": {},
   "outputs": [],
   "source": [
    "predicted_prob_test = fitted_xgb_tuned.predict_proba(test_data_after_clean.drop('id', axis = 1))[:,1]"
   ]
  },
  {
   "cell_type": "code",
   "execution_count": 85,
   "metadata": {},
   "outputs": [
    {
     "data": {
      "text/plain": [
       "True"
      ]
     },
     "execution_count": 85,
     "metadata": {},
     "output_type": "execute_result"
    }
   ],
   "source": [
    "predictions_df = pd.concat([test_data['id'],pd.Series(predicted_prob_test).map(lambda x: 1 if x > cut_off else 0)], axis = 1)\n",
    "predictions_df.columns = ['id','P']\n",
    "test_data.shape[0] == predictions_df.shape[0]"
   ]
  },
  {
   "cell_type": "code",
   "execution_count": 86,
   "metadata": {
    "scrolled": true
   },
   "outputs": [],
   "source": [
    "predictions_df.to_csv('predictions_v1.csv',index = False)"
   ]
  }
 ],
 "metadata": {
  "kernelspec": {
   "display_name": "Python 3",
   "language": "python",
   "name": "python3"
  },
  "language_info": {
   "codemirror_mode": {
    "name": "ipython",
    "version": 3
   },
   "file_extension": ".py",
   "mimetype": "text/x-python",
   "name": "python",
   "nbconvert_exporter": "python",
   "pygments_lexer": "ipython3",
   "version": "3.6.4"
  }
 },
 "nbformat": 4,
 "nbformat_minor": 2
}
